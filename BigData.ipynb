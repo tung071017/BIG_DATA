{
 "cells": [
  {
   "cell_type": "markdown",
   "metadata": {},
   "source": [
    "Setting up a PySpark session"
   ]
  },
  {
   "cell_type": "code",
   "execution_count": null,
   "metadata": {},
   "outputs": [],
   "source": [
    "!pip install pyspark"
   ]
  },
  {
   "cell_type": "code",
   "execution_count": null,
   "metadata": {},
   "outputs": [],
   "source": [
    "# Import các thư viện cần thiết\n",
    "import pyspark\n",
    "from pyspark.sql import SparkSession\n",
    "from pyspark.sql.functions import lit, col, month, to_date\n",
    "from pyspark.ml.feature import StringIndexer, VectorAssembler\n",
    "from pyspark.ml.regression import LinearRegression\n",
    "from pyspark.ml.evaluation import RegressionEvaluator\n",
    "from pyspark.ml import Pipeline\n",
    "from pyspark.sql import Row\n"
   ]
  },
  {
   "cell_type": "markdown",
   "metadata": {},
   "source": [
    "Đọc dữ liệu"
   ]
  },
  {
   "cell_type": "code",
   "execution_count": null,
   "metadata": {},
   "outputs": [],
   "source": [
    "# Phần 1: Khởi tạo SparkSession\n",
    "spark = SparkSession.builder.appName('ZillowPrediction').getOrCreate()"
   ]
  },
  {
   "cell_type": "code",
   "execution_count": null,
   "metadata": {},
   "outputs": [],
   "source": [
    "# Phần 2: Đọc các tệp CSV\n",
    "pro_2016 = spark.read.csv('properties_2016.csv', header=True, inferSchema=True)\n",
    "pro_2017 = spark.read.csv('properties_2017.csv', header=True, inferSchema=True)\n",
    "sample_submiss = spark.read.csv('sample_submission.csv', header=True, inferSchema=True)\n",
    "train_2016 = spark.read.csv('train_2016_v2.csv', header=True, inferSchema=True)\n",
    "train_2017 = spark.read.csv('train_2017.csv', header=True, inferSchema=True)"
   ]
  },
  {
   "cell_type": "markdown",
   "metadata": {},
   "source": [
    "Đảm bảo"
   ]
  },
  {
   "cell_type": "code",
   "execution_count": null,
   "metadata": {},
   "outputs": [],
   "source": [
    "# Phần 3: Đảm bảo rằng các cột trong pro_2016 và pro_2017 có cùng schema\n",
    "for col_name in pro_2016.columns:\n",
    "    if col_name not in pro_2017.columns:\n",
    "        pro_2017 = pro_2017.withColumn(col_name, lit(None).cast(pro_2016.schema[col_name].dataType))\n",
    "\n",
    "for col_name in pro_2017.columns:\n",
    "    if col_name not in pro_2016.columns:\n",
    "        pro_2016 = pro_2016.withColumn(col_name, lit(None).cast(pro_2017.schema[col_name].dataType))"
   ]
  },
  {
   "cell_type": "markdown",
   "metadata": {},
   "source": [
    "Nối"
   ]
  },
  {
   "cell_type": "code",
   "execution_count": null,
   "metadata": {},
   "outputs": [],
   "source": [
    "# Phần 4: Nối các dòng của hai bộ dữ liệu\n",
    "data2016 = train_2016.join(pro_2016, on='parcelid', how='left')\n",
    "data2017 = train_2017.join(pro_2017, on='parcelid', how='left')\n",
    "data = data2016.union(data2017)"
   ]
  },
  {
   "cell_type": "markdown",
   "metadata": {},
   "source": [
    "Future engineering"
   ]
  },
  {
   "cell_type": "code",
   "execution_count": null,
   "metadata": {},
   "outputs": [],
   "source": [
    "# Phần 5: Khởi tạo danh sách để lưu trữ số lượng giá trị null trong mỗi cột\n",
    "null_counts = []\n",
    "for column_name in data.columns:\n",
    "    null_count = data.filter(col(column_name).isNull()).count()\n",
    "    null_counts.append((column_name, null_count))"
   ]
  },
  {
   "cell_type": "code",
   "execution_count": null,
   "metadata": {},
   "outputs": [],
   "source": [
    "# Phần 6: Xoá các cột có số lượng null lớn hơn một nửa số lượng dòng trong bộ dữ liệu\n",
    "total_rows = data.count()\n",
    "threshold = total_rows / 2\n",
    "columns_to_drop = [col_name for col_name, null_count in null_counts if null_count > threshold]\n",
    "final_data = data.drop(*columns_to_drop)"
   ]
  },
  {
   "cell_type": "code",
   "execution_count": null,
   "metadata": {},
   "outputs": [],
   "source": [
    "# Phần 7: Tính toán giá trị median của cột \"logerror\" và điền giá trị thiếu\n",
    "median_imputer = final_data.approxQuantile(\"logerror\", [0.5], 0.25)[0]\n",
    "final_data = final_data.fillna({\"logerror\": median_imputer})"
   ]
  },
  {
   "cell_type": "code",
   "execution_count": null,
   "metadata": {},
   "outputs": [],
   "source": [
    "# Phần 8: Tạo cột transaction_month\n",
    "final_data = final_data.withColumn('transaction_month', month(to_date(final_data['transactiondate'], 'yyyy-MM-dd')))"
   ]
  },
  {
   "cell_type": "code",
   "execution_count": null,
   "metadata": {},
   "outputs": [],
   "source": [
    "# Phần 9: Sử dụng StringIndexer để chuyển đổi các cột chuỗi thành các chỉ số số\n",
    "string_columns = ['propertycountylandusecode', 'propertyzoningdesc']\n",
    "indexers = [StringIndexer(inputCol=col, outputCol=col+\"_index\", handleInvalid=\"keep\") for col in string_columns]\n",
    "indexer_models = [indexer.fit(final_data) for indexer in indexers]\n",
    "\n",
    "for model in indexer_models:\n",
    "    final_data = model.transform(final_data)"
   ]
  },
  {
   "cell_type": "code",
   "execution_count": null,
   "metadata": {},
   "outputs": [],
   "source": [
    "# Phần 10: Loại bỏ các cột chuỗi ban đầu\n",
    "final_data = final_data.drop(*string_columns)"
   ]
  },
  {
   "cell_type": "code",
   "execution_count": null,
   "metadata": {},
   "outputs": [],
   "source": [
    "# Phần 11: Xử lý các giá trị null trong các cột đặc trưng\n",
    "final_data = final_data.na.fill(0)  # Điền tất cả các giá trị null bằng 0"
   ]
  },
  {
   "cell_type": "markdown",
   "metadata": {},
   "source": [
    "Huấn luyện"
   ]
  },
  {
   "cell_type": "code",
   "execution_count": null,
   "metadata": {},
   "outputs": [],
   "source": [
    "# Phần 12: Chọn các đặc trưng cần thiết\n",
    "feature_columns = [col for col in final_data.columns if col not in ['logerror', 'transactiondate', 'parcelid']]"
   ]
  },
  {
   "cell_type": "code",
   "execution_count": null,
   "metadata": {},
   "outputs": [],
   "source": [
    "# Phần 13: Chia dữ liệu thành tập huấn luyện và tập kiểm tra\n",
    "train_data, valid_data = final_data.randomSplit([0.8, 0.2], seed=42)"
   ]
  },
  {
   "cell_type": "code",
   "execution_count": null,
   "metadata": {},
   "outputs": [],
   "source": [
    "# Phần 14: Tạo VectorAssembler để biến đổi các đặc trưng thành vector\n",
    "assembler = VectorAssembler(inputCols=feature_columns, outputCol='features')"
   ]
  },
  {
   "cell_type": "code",
   "execution_count": null,
   "metadata": {},
   "outputs": [],
   "source": [
    "# Phần 15: Khởi tạo mô hình LinearRegression\n",
    "lr = LinearRegression(featuresCol='features', labelCol='logerror')"
   ]
  },
  {
   "cell_type": "code",
   "execution_count": null,
   "metadata": {},
   "outputs": [],
   "source": [
    "# Phần 16: Tạo Pipeline\n",
    "pipeline = Pipeline(stages=[assembler, lr])"
   ]
  },
  {
   "cell_type": "code",
   "execution_count": null,
   "metadata": {},
   "outputs": [],
   "source": [
    "# Phần 17: Huấn luyện mô hình\n",
    "model = pipeline.fit(train_data)"
   ]
  },
  {
   "cell_type": "markdown",
   "metadata": {},
   "source": [
    "Dự đoán"
   ]
  },
  {
   "cell_type": "code",
   "execution_count": null,
   "metadata": {},
   "outputs": [],
   "source": [
    "# Phần 18: Dự đoán trên tập kiểm tra\n",
    "predictions = model.transform(valid_data)"
   ]
  },
  {
   "cell_type": "code",
   "execution_count": null,
   "metadata": {},
   "outputs": [],
   "source": [
    "# Phần 19: Tính Mean Absolute Error\n",
    "evaluator = RegressionEvaluator(labelCol=\"logerror\", predictionCol=\"prediction\", metricName=\"mae\")\n",
    "mae = evaluator.evaluate(predictions)\n",
    "print(f'Mean Absolute Error: {mae}')"
   ]
  },
  {
   "cell_type": "code",
   "execution_count": null,
   "metadata": {},
   "outputs": [],
   "source": [
    "# Phần 20: Dự đoán logerror cho dữ liệu mới\n",
    "new_row = Row(\n",
    "    bathroomcnt=2.0, bedroomcnt=2.0, buildingqualitytypeid=9, calculatedbathnbr=2.0,\n",
    "    calculatedfinishedsquarefeet=512.0, finishedsquarefeet12=512, fips=6023, fullbathcnt=2,\n",
    "    heatingorsystemtypeid=2, latitude=4316563, longitude=-128613175, lotsizesquarefeet=11042.0,\n",
    "    propertylandusetypeid=211, rawcensustractandblock=6.0371759321008E7, regionidcity=12130,\n",
    "    regionidcounty=3010, regionidzip=87695, roomcnt=2.0, unitcnt=1, yearbuilt=1980.0,\n",
    "    structuretaxvaluedollarcnt=50098.0, taxvaluedollarcnt=70890.0, assessmentyear=2015,\n",
    "    landtaxvaluedollarcnt=15991.0, taxamount=1096.78, censustractandblock=60498132321008,\n",
    "    transaction_month=4, propertycountylandusecode_index=2.0, propertyzoningdesc_index=2.0\n",
    ")\n",
    "\n",
    "new_data = spark.createDataFrame([new_row])\n",
    "\n",
    "# Áp dụng VectorAssembler để biến đổi các đặc trưng thành vector\n",
    "new_data_with_features = assembler.transform(new_data)\n",
    "\n",
    "# Đổi tên cột \"features\" thành \"new_features\" (nếu cần)\n",
    "new_data_with_features = new_data_with_features.withColumnRenamed(\"features\", \"new_features\")\n",
    "\n",
    "# Dự đoán logerror cho dữ liệu mới\n",
    "predictions = model.transform(new_data_with_features)\n",
    "\n",
    "# Hiển thị dự đoán\n",
    "predictions.select(\"prediction\").show()\n"
   ]
  }
 ],
 "metadata": {
  "kernelspec": {
   "display_name": "Python 3",
   "language": "python",
   "name": "python3"
  },
  "language_info": {
   "codemirror_mode": {
    "name": "ipython",
    "version": 3
   },
   "file_extension": ".py",
   "mimetype": "text/x-python",
   "name": "python",
   "nbconvert_exporter": "python",
   "pygments_lexer": "ipython3",
   "version": "3.10.13"
  }
 },
 "nbformat": 4,
 "nbformat_minor": 2
}
