{
  "cells": [
    {
      "cell_type": "markdown",
      "source": [
        "# Set Up"
      ],
      "metadata": {
        "id": "ntpCSVceS8fP"
      }
    },
    {
      "cell_type": "code",
      "source": [
        "# !pip install pyspark"
      ],
      "metadata": {
        "id": "zgjiK_6nkN48"
      },
      "execution_count": 117,
      "outputs": []
    },
    {
      "cell_type": "code",
      "source": [
        "import pyspark"
      ],
      "metadata": {
        "id": "Xm2MFotUkM6t"
      },
      "execution_count": 118,
      "outputs": []
    },
    {
      "cell_type": "code",
      "execution_count": 119,
      "metadata": {
        "id": "Gy76euMbkGnC"
      },
      "outputs": [],
      "source": [
        "from pyspark.sql import SparkSession\n",
        "spark = SparkSession.builder.getOrCreate()"
      ]
    },
    {
      "cell_type": "code",
      "source": [
        "from pyspark.sql.functions import to_date, col\n",
        "from pyspark.sql.functions import to_date, dayofweek\n",
        "from pyspark.sql.functions import mean, stddev\n",
        "from pyspark.sql.functions import round\n",
        "from pyspark.sql.functions import log\n",
        "from pyspark.ml.feature import Binarizer\n",
        "from pyspark.ml.feature import Bucketizer\n",
        "from pyspark.ml.feature import VectorAssembler\n",
        "from pyspark.sql.types import StringType, DateType\n",
        "import seaborn as sns\n",
        "import matplotlib.pyplot as plt"
      ],
      "metadata": {
        "id": "9QuP3PiKpGWW"
      },
      "execution_count": 120,
      "outputs": []
    },
    {
      "cell_type": "code",
      "source": [
        "import seaborn as sns\n",
        "import matplotlib.pyplot as plt\n",
        "\n",
        "%matplotlib inline\n",
        "\n",
        "import warnings\n",
        "warnings.filterwarnings('ignore')"
      ],
      "metadata": {
        "id": "OSVwvEPnVky-"
      },
      "execution_count": 121,
      "outputs": []
    },
    {
      "cell_type": "markdown",
      "metadata": {
        "id": "DhDPuXg_kGnF"
      },
      "source": [
        "# Check Data"
      ]
    },
    {
      "cell_type": "code",
      "execution_count": 122,
      "metadata": {
        "id": "mJ2fWG_OkGnF"
      },
      "outputs": [],
      "source": [
        "df = spark.read.csv('2017_StPaul_MN_Real_Estate.csv', inferSchema=True, header=True)"
      ]
    },
    {
      "cell_type": "code",
      "source": [
        "# convert all column names to uppercase\n",
        "for col in df.columns:\n",
        "  df = df.withColumnRenamed(col, col.upper())"
      ],
      "metadata": {
        "id": "OTkDpbUmk_ff"
      },
      "execution_count": 123,
      "outputs": []
    },
    {
      "cell_type": "code",
      "source": [
        "# check schema\n",
        "df.printSchema()"
      ],
      "metadata": {
        "colab": {
          "base_uri": "https://localhost:8080/"
        },
        "id": "igixgXlhTKGn",
        "outputId": "eaf0f511-0fd8-40cd-983f-f306365f58ec"
      },
      "execution_count": 124,
      "outputs": [
        {
          "output_type": "stream",
          "name": "stdout",
          "text": [
            "root\n",
            " |-- NO.: integer (nullable = true)\n",
            " |-- MLSID: string (nullable = true)\n",
            " |-- STREETNUMBERNUMERIC: integer (nullable = true)\n",
            " |-- STREETADDRESS: string (nullable = true)\n",
            " |-- STREETNAME: string (nullable = true)\n",
            " |-- POSTALCODE: integer (nullable = true)\n",
            " |-- STATEORPROVINCE: string (nullable = true)\n",
            " |-- CITY: string (nullable = true)\n",
            " |-- SALESCLOSEPRICE: integer (nullable = true)\n",
            " |-- LISTDATE: string (nullable = true)\n",
            " |-- LISTPRICE: integer (nullable = true)\n",
            " |-- LISTTYPE: string (nullable = true)\n",
            " |-- ORIGINALLISTPRICE: integer (nullable = true)\n",
            " |-- PRICEPERTSFT: double (nullable = true)\n",
            " |-- FOUNDATIONSIZE: integer (nullable = true)\n",
            " |-- FENCE: string (nullable = true)\n",
            " |-- MAPLETTER: string (nullable = true)\n",
            " |-- LOTSIZEDIMENSIONS: string (nullable = true)\n",
            " |-- SCHOOLDISTRICTNUMBER: string (nullable = true)\n",
            " |-- DAYSONMARKET: integer (nullable = true)\n",
            " |-- OFFMARKETDATE: string (nullable = true)\n",
            " |-- FIREPLACES: integer (nullable = true)\n",
            " |-- ROOMAREA4: string (nullable = true)\n",
            " |-- ROOMTYPE: string (nullable = true)\n",
            " |-- ROOF: string (nullable = true)\n",
            " |-- ROOMFLOOR4: string (nullable = true)\n",
            " |-- POTENTIALSHORTSALE: string (nullable = true)\n",
            " |-- POOLDESCRIPTION: string (nullable = true)\n",
            " |-- PDOM: integer (nullable = true)\n",
            " |-- GARAGEDESCRIPTION: string (nullable = true)\n",
            " |-- SQFTABOVEGROUND: integer (nullable = true)\n",
            " |-- TAXES: integer (nullable = true)\n",
            " |-- ROOMFLOOR1: string (nullable = true)\n",
            " |-- ROOMAREA1: string (nullable = true)\n",
            " |-- TAXWITHASSESSMENTS: double (nullable = true)\n",
            " |-- TAXYEAR: integer (nullable = true)\n",
            " |-- LIVINGAREA: integer (nullable = true)\n",
            " |-- UNITNUMBER: string (nullable = true)\n",
            " |-- YEARBUILT: integer (nullable = true)\n",
            " |-- ZONING: string (nullable = true)\n",
            " |-- STYLE: string (nullable = true)\n",
            " |-- ACRES: double (nullable = true)\n",
            " |-- COOLINGDESCRIPTION: string (nullable = true)\n",
            " |-- APPLIANCES: string (nullable = true)\n",
            " |-- BACKONMARKETDATE: string (nullable = true)\n",
            " |-- ROOMFAMILYCHAR: string (nullable = true)\n",
            " |-- ROOMAREA3: string (nullable = true)\n",
            " |-- EXTERIOR: string (nullable = true)\n",
            " |-- ROOMFLOOR3: string (nullable = true)\n",
            " |-- ROOMFLOOR2: string (nullable = true)\n",
            " |-- ROOMAREA2: string (nullable = true)\n",
            " |-- DININGROOMDESCRIPTION: string (nullable = true)\n",
            " |-- BASEMENT: string (nullable = true)\n",
            " |-- BATHSFULL: integer (nullable = true)\n",
            " |-- BATHSHALF: integer (nullable = true)\n",
            " |-- BATHQUARTER: integer (nullable = true)\n",
            " |-- BATHSTHREEQUARTER: integer (nullable = true)\n",
            " |-- CLASS: string (nullable = true)\n",
            " |-- BATHSTOTAL: integer (nullable = true)\n",
            " |-- BATHDESC: string (nullable = true)\n",
            " |-- ROOMAREA5: string (nullable = true)\n",
            " |-- ROOMFLOOR5: string (nullable = true)\n",
            " |-- ROOMAREA6: string (nullable = true)\n",
            " |-- ROOMFLOOR6: string (nullable = true)\n",
            " |-- ROOMAREA7: string (nullable = true)\n",
            " |-- ROOMFLOOR7: string (nullable = true)\n",
            " |-- ROOMAREA8: string (nullable = true)\n",
            " |-- ROOMFLOOR8: string (nullable = true)\n",
            " |-- BEDROOMS: integer (nullable = true)\n",
            " |-- SQFTBELOWGROUND: integer (nullable = true)\n",
            " |-- ASSUMABLEMORTGAGE: string (nullable = true)\n",
            " |-- ASSOCIATIONFEE: integer (nullable = true)\n",
            " |-- ASSESSMENTPENDING: string (nullable = true)\n",
            " |-- ASSESSEDVALUATION: double (nullable = true)\n",
            "\n"
          ]
        }
      ]
    },
    {
      "cell_type": "markdown",
      "source": [
        "We see there's a problem with column 'No.', and columns that are supposed to be datetime are not datetime yet."
      ],
      "metadata": {
        "id": "o65bD3D5VD_J"
      }
    },
    {
      "cell_type": "code",
      "source": [
        "# Drop No. column\n",
        "df = df.drop('NO.')"
      ],
      "metadata": {
        "id": "ZJOZqKy8UsGr"
      },
      "execution_count": 125,
      "outputs": []
    },
    {
      "cell_type": "code",
      "source": [
        "# Convert string column to date type using to_date with a format\n",
        "df = df.withColumn(\"OFFMARKETDATE\", to_date(df[\"OFFMARKETDATE\"], \"M/d/yyyy H:mm\"))\n",
        "df = df.withColumn(\"LISTDATE\", to_date(df[\"LISTDATE\"], \"M/d/yyyy H:mm\"))"
      ],
      "metadata": {
        "id": "9UcdryA9pKaO"
      },
      "execution_count": 126,
      "outputs": []
    },
    {
      "cell_type": "markdown",
      "source": [
        "Now check descriptive statistics."
      ],
      "metadata": {
        "id": "xT4qoInyVJgA"
      }
    },
    {
      "cell_type": "code",
      "source": [
        "# Descriptive Overview\n",
        "df.describe().show()"
      ],
      "metadata": {
        "id": "VxldFQXaTUMu",
        "outputId": "d1a3a22c-26c9-4419-f5b0-0a922bb1dbd0",
        "colab": {
          "base_uri": "https://localhost:8080/"
        }
      },
      "execution_count": 127,
      "outputs": [
        {
          "output_type": "stream",
          "name": "stdout",
          "text": [
            "+-------+-----+-------------------+-----------------+-------------+-----------------+---------------+----------------+------------------+------------------+-----------------+-----------------+------------------+----------------+--------------------+---------+------------------+--------------------+------------------+------------------+-----------------+--------------------+-------------------+----------+------------------+---------------+------------------+--------------------+-----------------+-----------------+----------+------------------+------------------+------------------+-----------------+------------------+-----------------+--------------------+--------------------+------------------+------------------+--------------------+----------------+--------------------+------------------+--------------------+----------+----------+-----------------+---------------------+-------------------+------------------+------------------+-------------------+------------------+-----+------------------+------------+---------+----------+---------+----------+---------+----------+---------+----------+------------------+------------------+-------------------+------------------+-----------------+------------------+\n",
            "|summary|MLSID|STREETNUMBERNUMERIC|    STREETADDRESS|   STREETNAME|       POSTALCODE|STATEORPROVINCE|            CITY|   SALESCLOSEPRICE|         LISTPRICE|         LISTTYPE|ORIGINALLISTPRICE|      PRICEPERTSFT|  FOUNDATIONSIZE|               FENCE|MAPLETTER| LOTSIZEDIMENSIONS|SCHOOLDISTRICTNUMBER|      DAYSONMARKET|        FIREPLACES|        ROOMAREA4|            ROOMTYPE|               ROOF|ROOMFLOOR4|POTENTIALSHORTSALE|POOLDESCRIPTION|              PDOM|   GARAGEDESCRIPTION|  SQFTABOVEGROUND|            TAXES|ROOMFLOOR1|         ROOMAREA1|TAXWITHASSESSMENTS|           TAXYEAR|       LIVINGAREA|        UNITNUMBER|        YEARBUILT|              ZONING|               STYLE|             ACRES|COOLINGDESCRIPTION|          APPLIANCES|BACKONMARKETDATE|      ROOMFAMILYCHAR|         ROOMAREA3|            EXTERIOR|ROOMFLOOR3|ROOMFLOOR2|        ROOMAREA2|DININGROOMDESCRIPTION|           BASEMENT|         BATHSFULL|         BATHSHALF|        BATHQUARTER| BATHSTHREEQUARTER|CLASS|        BATHSTOTAL|    BATHDESC|ROOMAREA5|ROOMFLOOR5|ROOMAREA6|ROOMFLOOR6|ROOMAREA7|ROOMFLOOR7|ROOMAREA8|ROOMFLOOR8|          BEDROOMS|   SQFTBELOWGROUND|  ASSUMABLEMORTGAGE|    ASSOCIATIONFEE|ASSESSMENTPENDING| ASSESSEDVALUATION|\n",
            "+-------+-----+-------------------+-----------------+-------------+-----------------+---------------+----------------+------------------+------------------+-----------------+-----------------+------------------+----------------+--------------------+---------+------------------+--------------------+------------------+------------------+-----------------+--------------------+-------------------+----------+------------------+---------------+------------------+--------------------+-----------------+-----------------+----------+------------------+------------------+------------------+-----------------+------------------+-----------------+--------------------+--------------------+------------------+------------------+--------------------+----------------+--------------------+------------------+--------------------+----------+----------+-----------------+---------------------+-------------------+------------------+------------------+-------------------+------------------+-----+------------------+------------+---------+----------+---------+----------+---------+----------+---------+----------+------------------+------------------+-------------------+------------------+-----------------+------------------+\n",
            "|  count| 5000|               5000|             5000|         5000|             5000|           5000|            5000|              5000|              5000|             5000|             5000|              5000|            5000|                2972|     5000|              5000|                5000|              5000|              5000|             4697|                5000|               4235|      4847|              5000|           1707|              5000|                5000|             5000|             5000|      4651|              4543|              5000|              5000|             5000|               606|             5000|                5000|                5000|              5000|              5000|                4669|               0|                3040|              2688|                5000|      2799|      4018|             3875|                 4352|               5000|              5000|              5000|               5000|              4999| 5000|              5000|        4634|     4754|      4855|     4609|      4707|     3473|      3559|     1515|      1561|              5000|              5000|               1896|              5000|             5000|              5000|\n",
            "|   mean| NULL|          2617.3074|             NULL|         NULL|       55113.2166|           NULL|            NULL|       262804.4668|        263419.365|             NULL|      275002.6304|199.86986277999944|       1016.4118|                NULL|     NULL|220.51264173913037|                NULL|           28.3584|            0.5848|           1613.0|                NULL|               NULL|      NULL|              NULL|           NULL|           20.7744|                NULL|         1489.013|        3373.6548|      NULL|            813.25|2975.3798480000005|         2016.6966|         1844.528|407.10752688172045|        1958.9996|                NULL|                NULL|         0.1956986|              NULL|                NULL|            NULL|                NULL| 613.5649999999999|                NULL|      NULL|      NULL|            605.0|                 NULL|               NULL|            1.3106|            0.3794|             0.0268|0.4840968193638728| NULL|            2.2008|        NULL|   1616.0|      NULL|     NULL|      NULL|     NULL|      NULL|     NULL|      NULL|             3.088|           355.515|               NULL|           83.9132|             NULL|167.53018399999948|\n",
            "| stddev| NULL| 2854.5641360786785|             NULL|         NULL|16.04082123923336|           NULL|            NULL|140559.82591998563|143944.10818036905|             NULL|409620.6825325362|  3887.26542766022|339.260405212971|                NULL|     NULL| 1080.449615343681|                NULL|28.708702293163125|0.7088790178107822|4.242640687119285|                NULL|               NULL|      NULL|              NULL|           NULL|19.336242724390374|                NULL|626.4868033517995|36040.69828046267|      NULL|1131.0172965078827| 2164.706370518258|0.4653941967318513|840.4421899398722|  680.541043873199|38.84974981196307|                NULL|                NULL|0.3288660127299654|              NULL|                NULL|            NULL|                NULL|1200.3286323753175|                NULL|      NULL|      NULL|855.5992052357225|                 NULL|               NULL|0.5774030817927559|0.5082394135250548|0.16274844826136553|0.6111027066173896| NULL|0.9574250323333469|        NULL|     NULL|      NULL|     NULL|      NULL|     NULL|      NULL|     NULL|      NULL|0.9915909693669597|418.70633428917097|               NULL|146.36032500205434|             NULL| 529.2947147865985|\n",
            "|    min| RMLS|                  1|1 Irvine Park, 1B|         10th|            55042|             MN|LELM - Lake Elmo|             48000|             40000| Exclusive Agency|                5|           29.5567|               1|          Chain Link|       A1|                 -|  6 - South St. Paul|                 0|                 0|       \"9'2\"\"x11\"|, , Family Room, ...|Age 8 Years or Less|     Lower|                No|   Above Ground|                 0|            Assigned|                1|                0|     Lower|       \"13'6\"\"x21\"|               0.0|              2015|                1|              #203|             1850| Business/Commercial|(CC) Converted Ma...|               0.0|           Central|Cooktop, Dishwash...|            NULL|2 Story/High/Vaul...|       \"14'6\"\"X11\"|               Block|  Basement|     Lower|        \"9'2\"\"x7\"|       Breakfast Area|     Concrete Block|                 0|                 0|                  0|                 0|   SF|                 1|1/2 Basement|    07x11|  Basement|    08x10|  Basement|    07x16|  Basement|    09x09|  Basement|                 0|                 0| Information Coming|                 0|               No|               0.0|\n",
            "|    max| RMLS|              12521|   999 Kohlman Ln|mcafee circle|            55130|             MN|   WB - Woodbury|           1700000|           1850000|Service Agreement|         21990000|          275000.0|            3792|Wood, Wire, Priva...|       E4|     zero lot line|    834 - Stillwater|               225|                 8|              9x9|Living Room, Fami...|      Wood Shingles|     Upper|     Not Disclosed|         Shared|               195|Valet Parking for...|             7200|          2547070|     Upper|              x 13|           38182.0|              2017|             8222|              R903|             2018|Residential-Singl...|      (TW) Twin Home|              9.47|      Window, Wall|Water Softener - ...|            NULL|Main Level, Lower...|               9x9|Wood, Vinyl, Stuc...|     Upper|     Upper|            9x9.5| Separate/Formal D...|Walkout, Unfinished|                 5|                 4|                  2|                 4|   SF|                 7|   Whirlpool|      9x9|     Upper|    9x9.5|     Upper|    9x9.5|     Upper|      TBD|     Upper|                 9|              2487|Yes w/No Qualifying|              1683|              Yes|           11130.0|\n",
            "+-------+-----+-------------------+-----------------+-------------+-----------------+---------------+----------------+------------------+------------------+-----------------+-----------------+------------------+----------------+--------------------+---------+------------------+--------------------+------------------+------------------+-----------------+--------------------+-------------------+----------+------------------+---------------+------------------+--------------------+-----------------+-----------------+----------+------------------+------------------+------------------+-----------------+------------------+-----------------+--------------------+--------------------+------------------+------------------+--------------------+----------------+--------------------+------------------+--------------------+----------+----------+-----------------+---------------------+-------------------+------------------+------------------+-------------------+------------------+-----+------------------+------------+---------+----------+---------+----------+---------+----------+---------+----------+------------------+------------------+-------------------+------------------+-----------------+------------------+\n",
            "\n"
          ]
        }
      ]
    },
    {
      "cell_type": "markdown",
      "metadata": {
        "id": "bONP5zoNkGnJ"
      },
      "source": [
        "# EDA"
      ]
    },
    {
      "cell_type": "markdown",
      "metadata": {
        "id": "aKiPo7pkkGnK"
      },
      "source": [
        "## Analyze One Column"
      ]
    },
    {
      "cell_type": "code",
      "execution_count": 128,
      "metadata": {
        "id": "57bxJhjMkGnK",
        "outputId": "7edba556-15d9-4dcc-b4ca-393c8c890ad0",
        "colab": {
          "base_uri": "https://localhost:8080/",
          "height": 480
        }
      },
      "outputs": [
        {
          "output_type": "display_data",
          "data": {
            "text/plain": [
              "<Figure size 640x480 with 1 Axes>"
            ],
            "image/png": "[encoded data removed]"
          },
          "metadata": {}
        },
        {
          "output_type": "stream",
          "name": "stdout",
          "text": [
            "[Row(skewness(LISTPRICE)=2.790448093916559)]\n"
          ]
        }
      ],
      "source": [
        "# Select a single column and sample and convert to pandas\n",
        "sample_df = df.select(['LISTPRICE']).sample(False, 0.5, 42)\n",
        "pandas_df = sample_df.toPandas()\n",
        "\n",
        "# Plot distribution of pandas_df and display plot\n",
        "sns.distplot(pandas_df)\n",
        "plt.show()\n",
        "\n",
        "# Import skewness function\n",
        "from pyspark.sql.functions import skewness\n",
        "\n",
        "# Compute and print skewness of LISTPRICE\n",
        "print(df.agg({'LISTPRICE': 'skewness'}).collect())"
      ]
    },
    {
      "cell_type": "markdown",
      "metadata": {
        "id": "I5qhcDhmkGnK"
      },
      "source": [
        "## Analyze relationship between 2 columns"
      ]
    },
    {
      "cell_type": "markdown",
      "metadata": {
        "id": "z5bwQ8mokGnK"
      },
      "source": [
        "Creating linear model plots helps us visualize if variables have relationships with the dependent variable. If they do they are good candidates to include in our analysis. If they don't it doesn't mean that we should throw them out, it means we may have to process or wrangle them before they can be used."
      ]
    },
    {
      "cell_type": "code",
      "execution_count": 129,
      "metadata": {
        "id": "q_PhfeVpkGnK",
        "outputId": "5a1730c2-d975-4c2e-d312-6c350ee32a31",
        "colab": {
          "base_uri": "https://localhost:8080/",
          "height": 523
        }
      },
      "outputs": [
        {
          "output_type": "execute_result",
          "data": {
            "text/plain": [
              "<seaborn.axisgrid.FacetGrid at 0x7ae524086140>"
            ]
          },
          "metadata": {},
          "execution_count": 129
        },
        {
          "output_type": "display_data",
          "data": {
            "text/plain": [
              "<Figure size 500x500 with 1 Axes>"
            ],
            "image/png": "[encoded data removed]"
          },
          "metadata": {}
        }
      ],
      "source": [
        "# Select columns\n",
        "s_df = df.select(['SALESCLOSEPRICE', 'SQFTABOVEGROUND']) # Sample dataframe\n",
        "s_df = s_df.sample(False, 0.5, 42)\n",
        "# Convert to Pandas DataFrame\n",
        "pandas_df = s_df.toPandas()\n",
        "# Plot it\n",
        "sns.lmplot(x='SQFTABOVEGROUND', y='SALESCLOSEPRICE', data=pandas_df)"
      ]
    },
    {
      "cell_type": "markdown",
      "metadata": {
        "id": "P5Ie3krEkGnL"
      },
      "source": [
        "# Clean Data"
      ]
    },
    {
      "cell_type": "markdown",
      "source": [
        "## Text Filtering"
      ],
      "metadata": {
        "id": "Uc60-M1eWYHI"
      }
    },
    {
      "cell_type": "markdown",
      "source": [
        "isin()  is similar to like() but allows us to pass a list of values to use as a filter rather than a single one."
      ],
      "metadata": {
        "id": "R_i_R02gWoz7"
      }
    },
    {
      "cell_type": "code",
      "source": [
        "df = df.where(~df['POTENTIALSHORTSALE'].like('Not Disclosed'))"
      ],
      "metadata": {
        "id": "WORno6JDWl_n"
      },
      "execution_count": 130,
      "outputs": []
    },
    {
      "cell_type": "code",
      "execution_count": 131,
      "metadata": {
        "id": "TPurjoDskGnM",
        "outputId": "cf7c8ad8-bc65-4c8f-fc4c-c2bebeaf24d2",
        "colab": {
          "base_uri": "https://localhost:8080/"
        }
      },
      "outputs": [
        {
          "output_type": "stream",
          "name": "stdout",
          "text": [
            "+-------------------+\n",
            "|  AssumableMortgage|\n",
            "+-------------------+\n",
            "|  Yes w/ Qualifying|\n",
            "| Information Coming|\n",
            "|Yes w/No Qualifying|\n",
            "|      Not Assumable|\n",
            "|               NULL|\n",
            "+-------------------+\n",
            "\n",
            "4965\n"
          ]
        }
      ],
      "source": [
        "# Inspect unique values in the column 'AssumableMortgage'\n",
        "df.select(['AssumableMortgage']).distinct().show()\n",
        "\n",
        "# List of possible values containing 'yes'\n",
        "yes_values = ['Yes w/ Qualifying', 'Yes w/No Qualifying']\n",
        "\n",
        "# Filter the text values out of df but keep null values\n",
        "text_filter = ~df['AssumableMortgage'].isin(yes_values) | df['AssumableMortgage'].isNull()\n",
        "df = df.where(text_filter)\n",
        "\n",
        "# Print count of remaining records\n",
        "print(df.count())"
      ]
    },
    {
      "cell_type": "markdown",
      "source": [
        "## Outlier Filtering"
      ],
      "metadata": {
        "id": "vPJcItagWp6x"
      }
    },
    {
      "cell_type": "code",
      "execution_count": 132,
      "metadata": {
        "id": "AR69qyx5kGnM"
      },
      "outputs": [],
      "source": [
        "# Calculate values used for outlier filtering\n",
        "mean_val = df.agg({'SalesClosePrice': 'mean'}).collect()[0][0]\n",
        "stddev_val = df.agg({'SalesClosePrice': 'stddev'}).collect()[0][0]\n",
        "\n",
        "# Create three standard deviation (μ ± 3σ) lower and upper bounds for data\n",
        "low_bound = mean_val - (3 * stddev_val)\n",
        "hi_bound = mean_val + (3 * stddev_val)\n",
        "\n",
        "# Filter the data to fit between the lower and upper bounds\n",
        "df = df.where((df['SalesClosePrice'] < hi_bound) & (df['SalesClosePrice'] > low_bound))"
      ]
    },
    {
      "cell_type": "markdown",
      "source": [
        "## Manage NAs"
      ],
      "metadata": {
        "id": "ZgwnGdOrX6mw"
      }
    },
    {
      "cell_type": "markdown",
      "source": [
        "### Plotting Missing Values"
      ],
      "metadata": {
        "id": "790PAOpKYA43"
      }
    },
    {
      "cell_type": "code",
      "execution_count": 133,
      "metadata": {
        "id": "CGlwwVUPkGnS",
        "outputId": "fb36c6ba-5007-4a73-9a95-1bc5d826fa90",
        "colab": {
          "base_uri": "https://localhost:8080/",
          "height": 0
        }
      },
      "outputs": [
        {
          "output_type": "display_data",
          "data": {
            "text/plain": [
              "<Figure size 640x480 with 2 Axes>"
            ],
            "image/png": "[encoded data removed]"
          },
          "metadata": {}
        }
      ],
      "source": [
        "columns = ['APPLIANCES', 'backonmarketdate', 'ROOMFAMILYCHAR', 'BASEMENT', 'DiningRoomDescription']\n",
        "\n",
        "# Sample the dataframe and convert to Pandas\n",
        "sample_df = df.select(columns).sample(False, 0.5, 42)\n",
        "pandas_df = sample_df.toPandas()\n",
        "\n",
        "# Convert all values to T/F\n",
        "tf_df = pandas_df.isnull()\n",
        "\n",
        "# Plot it\n",
        "sns.heatmap(data=tf_df)\n",
        "plt.xticks(rotation=30, fontsize=10)\n",
        "plt.yticks(rotation=0, fontsize=10)\n",
        "plt.show()"
      ]
    },
    {
      "cell_type": "markdown",
      "source": [
        "### Imputation of Missing Values"
      ],
      "metadata": {
        "id": "zaj8Kse5YHgE"
      }
    },
    {
      "cell_type": "code",
      "execution_count": 134,
      "metadata": {
        "id": "VcMd19RkkGnT",
        "outputId": "0932eb06-7dab-4867-f23d-97e986f8af80",
        "colab": {
          "base_uri": "https://localhost:8080/"
        }
      },
      "outputs": [
        {
          "output_type": "execute_result",
          "data": {
            "text/plain": [
              "DataFrame[MLSID: string, STREETNUMBERNUMERIC: int, STREETADDRESS: string, STREETNAME: string, POSTALCODE: int, STATEORPROVINCE: string, CITY: string, SALESCLOSEPRICE: int, LISTDATE: date, LISTPRICE: int, LISTTYPE: string, ORIGINALLISTPRICE: int, PRICEPERTSFT: double, FOUNDATIONSIZE: int, FENCE: string, MAPLETTER: string, LOTSIZEDIMENSIONS: string, SCHOOLDISTRICTNUMBER: string, DAYSONMARKET: int, OFFMARKETDATE: date, FIREPLACES: int, ROOMAREA4: string, ROOMTYPE: string, ROOF: string, ROOMFLOOR4: string, POTENTIALSHORTSALE: string, POOLDESCRIPTION: string, PDOM: int, GARAGEDESCRIPTION: string, SQFTABOVEGROUND: int, TAXES: int, ROOMFLOOR1: string, ROOMAREA1: string, TAXWITHASSESSMENTS: double, TAXYEAR: int, LIVINGAREA: int, UNITNUMBER: string, YEARBUILT: int, ZONING: string, STYLE: string, ACRES: double, COOLINGDESCRIPTION: string, APPLIANCES: string, BACKONMARKETDATE: string, ROOMFAMILYCHAR: string, ROOMAREA3: string, EXTERIOR: string, ROOMFLOOR3: string, ROOMFLOOR2: string, ROOMAREA2: string, DININGROOMDESCRIPTION: string, BASEMENT: string, BATHSFULL: int, BATHSHALF: int, BATHQUARTER: int, BATHSTHREEQUARTER: int, CLASS: string, BATHSTOTAL: int, BATHDESC: string, ROOMAREA5: string, ROOMFLOOR5: string, ROOMAREA6: string, ROOMFLOOR6: string, ROOMAREA7: string, ROOMFLOOR7: string, ROOMAREA8: string, ROOMFLOOR8: string, BEDROOMS: int, SQFTBELOWGROUND: int, ASSUMABLEMORTGAGE: string, ASSOCIATIONFEE: int, ASSESSMENTPENDING: string, ASSESSEDVALUATION: double]"
            ]
          },
          "metadata": {},
          "execution_count": 134
        }
      ],
      "source": [
        "# Count missing rows\n",
        "missing = df.where(df['DAYSONMARKET'].isNull()).count()\n",
        "\n",
        "# Calculate the mean value\n",
        "col_mean = df.agg({\"DAYSONMARKET\": 'mean'}).collect()[0][0]\n",
        "\n",
        "# Replacing with the mean value for that column\n",
        "df.fillna(col_mean, subset=['DAYSONMARKET'])"
      ]
    },
    {
      "cell_type": "markdown",
      "source": [
        "### Drop columns with more than 60% missing"
      ],
      "metadata": {
        "id": "JzefbOGgYYak"
      }
    },
    {
      "cell_type": "code",
      "execution_count": 135,
      "metadata": {
        "id": "uXtrKPl_kGnT"
      },
      "outputs": [],
      "source": [
        "def column_dropper(df, threshold):\n",
        "    # Takes a dataframe and threshold for missing values. Returns a dataframe.\n",
        "    total_records = df.count()\n",
        "    for col in df.columns:\n",
        "        # Calculate the percentage of missing values\n",
        "        missing = df.where(df[col].isNull()).count()\n",
        "        missing_percent = missing / total_records\n",
        "        # Drop column if percent of missing is more than threshold\n",
        "        if missing_percent > threshold:\n",
        "            df = df.drop(col)\n",
        "    return df\n",
        "\n",
        "# Drop columns that are more than 60% missing\n",
        "df = column_dropper(df, 0.6)"
      ]
    },
    {
      "cell_type": "markdown",
      "source": [
        "# Adjust Data"
      ],
      "metadata": {
        "id": "mjeAndyMXIRS"
      }
    },
    {
      "cell_type": "markdown",
      "source": [
        "## Min-max Scaling"
      ],
      "metadata": {
        "id": "fq_I7bKEXLpd"
      }
    },
    {
      "cell_type": "code",
      "execution_count": 136,
      "metadata": {
        "id": "W8LxXOrzkGnN",
        "outputId": "20772454-6aaf-4f7e-c1a6-1ba8a4069dc2",
        "colab": {
          "base_uri": "https://localhost:8080/"
        }
      },
      "outputs": [
        {
          "output_type": "stream",
          "name": "stdout",
          "text": [
            "[Row(max(percentage_scaled_days)=100.0)]\n",
            "[Row(min(percentage_scaled_days)=0.0)]\n"
          ]
        }
      ],
      "source": [
        "# Define max and min values and collect them\n",
        "max_days = df.agg({'DAYSONMARKET': 'max'}).collect()[0][0]\n",
        "min_days = df.agg({'DAYSONMARKET': 'min'}).collect()[0][0]\n",
        "\n",
        "# Create a new column based off the scaled data\n",
        "df = df.withColumn('percentage_scaled_days',\n",
        "                  round((df['DAYSONMARKET'] - min_days) / (max_days - min_days)) * 100)\n",
        "\n",
        "# Calc max and min for new column\n",
        "print(df.agg({'percentage_scaled_days': 'max'}).collect())\n",
        "print(df.agg({'percentage_scaled_days': 'min'}).collect())"
      ]
    },
    {
      "cell_type": "code",
      "execution_count": 137,
      "metadata": {
        "id": "jF_fYGTqkGnN",
        "outputId": "b6e4c967-3da3-4846-ccae-293d40c176c9",
        "colab": {
          "base_uri": "https://localhost:8080/"
        }
      },
      "outputs": [
        {
          "output_type": "stream",
          "name": "stdout",
          "text": [
            "+------------+--------------------+\n",
            "|DAYSONMARKET| scaled_DAYSONMARKET|\n",
            "+------------+--------------------+\n",
            "|          10|0.044444444444444446|\n",
            "|           4|0.017777777777777778|\n",
            "|          28| 0.12444444444444444|\n",
            "|          19| 0.08444444444444445|\n",
            "|          21| 0.09333333333333334|\n",
            "|          17| 0.07555555555555556|\n",
            "|          32| 0.14222222222222222|\n",
            "|           5|0.022222222222222223|\n",
            "|          23| 0.10222222222222223|\n",
            "|          73|  0.3244444444444444|\n",
            "|          80| 0.35555555555555557|\n",
            "|          79|  0.3511111111111111|\n",
            "|          12| 0.05333333333333334|\n",
            "|           1|0.004444444444444...|\n",
            "|          18|                0.08|\n",
            "|           2|0.008888888888888889|\n",
            "|          12| 0.05333333333333334|\n",
            "|          45|                 0.2|\n",
            "|          31| 0.13777777777777778|\n",
            "|          16| 0.07111111111111111|\n",
            "+------------+--------------------+\n",
            "only showing top 20 rows\n",
            "\n"
          ]
        }
      ],
      "source": [
        "cols_to_scale = ['FOUNDATIONSIZE', 'DAYSONMARKET', 'Fireplaces']\n",
        "\n",
        "def min_max_scaler(df, cols_to_scale):\n",
        "    # Takes a dataframe and list of columns to minmax scale. Returns a dataframe.\n",
        "    for col in cols_to_scale:\n",
        "        # Define min and max values and collect them\n",
        "        max_days = df.agg({col: 'max'}).collect()[0][0]\n",
        "        min_days = df.agg({col: 'min'}).collect()[0][0]\n",
        "        new_column_name = 'scaled_' + col\n",
        "        # Create a new column based off the scaled data\n",
        "        df = df.withColumn(new_column_name, (df[col] - min_days) / (max_days - min_days))\n",
        "\n",
        "    return df\n",
        "\n",
        "df = min_max_scaler(df, cols_to_scale)\n",
        "# Show that our data is now between 0 and 1\n",
        "df[['DAYSONMARKET', 'scaled_DAYSONMARKET']].show()"
      ]
    },
    {
      "cell_type": "markdown",
      "source": [
        "## Standardization - Z transform"
      ],
      "metadata": {
        "id": "YzOjnvYuXgPY"
      }
    },
    {
      "cell_type": "code",
      "source": [
        "mean_days = df.agg({'DAYSONMARKET': 'mean'}).collect()[0][0]\n",
        "stddev_days = df.agg({'DAYSONMARKET': 'stddev'}).collect()[0][0]\n",
        "# Create a new column with the scaled data\n",
        "df = df.withColumn(\"ztrans_days\", (df['DAYSONMARKET'] - mean_days) / stddev_days)\n",
        "df.agg({'ztrans_days': 'mean'}).collect()\n",
        "df.agg({'ztrans_days': 'stddev'}).collect()"
      ],
      "metadata": {
        "colab": {
          "base_uri": "https://localhost:8080/"
        },
        "id": "1gRjpq2aXkoH",
        "outputId": "483d1d32-9fe1-4848-af8a-4aa3812ea806"
      },
      "execution_count": 138,
      "outputs": [
        {
          "output_type": "execute_result",
          "data": {
            "text/plain": [
              "[Row(stddev(ztrans_days)=0.9999999999999986)]"
            ]
          },
          "metadata": {},
          "execution_count": 138
        }
      ]
    },
    {
      "cell_type": "markdown",
      "source": [
        "## Log Scaling"
      ],
      "metadata": {
        "id": "pstzK715Xt3X"
      }
    },
    {
      "cell_type": "code",
      "execution_count": 139,
      "metadata": {
        "id": "8QNKUwhUkGnN",
        "outputId": "f705a496-481b-4e55-d913-e7bc57e7513b",
        "colab": {
          "base_uri": "https://localhost:8080/"
        }
      },
      "outputs": [
        {
          "output_type": "stream",
          "name": "stdout",
          "text": [
            "[Row(skewness(YEARBUILT)=-0.2528853969865469)]\n"
          ]
        }
      ],
      "source": [
        "# Compute the skewness\n",
        "print(df.agg({'YEARBUILT': 'skewness'}).collect())\n",
        "\n",
        "# Calculate the max year\n",
        "max_year = df.agg({'YEARBUILT': 'max'}).collect()[0][0]\n",
        "\n",
        "# Create a new column of reflected data\n",
        "df = df.withColumn('Reflect_YearBuilt', (max_year + 1) - df['YEARBUILT'])\n",
        "\n",
        "# Create a new column based reflected data\n",
        "df = df.withColumn('adj_yearbuilt', 1 / log(df['Reflect_YearBuilt']))"
      ]
    },
    {
      "cell_type": "markdown",
      "source": [
        "# Feature Engineering"
      ],
      "metadata": {
        "id": "0QEH2Y9XYm5h"
      }
    },
    {
      "cell_type": "markdown",
      "source": [
        "## Create new columns"
      ],
      "metadata": {
        "id": "Thj7TeVgVePp"
      }
    },
    {
      "cell_type": "markdown",
      "source": [
        "### Day of Week"
      ],
      "metadata": {
        "id": "OE4FgcjnZDL_"
      }
    },
    {
      "cell_type": "code",
      "source": [
        "# Get the day of the week\n",
        "df = df.withColumn('List_Day_of_Week', dayofweek('LISTDATE'))\n",
        "\n",
        "# Sample and convert to pandas dataframe\n",
        "sample_df = df.sample(False, 0.5, 42).toPandas()\n",
        "\n",
        "# Plot count plot of of day of week\n",
        "sns.countplot(x=\"List_Day_of_Week\", data=sample_df)\n",
        "plt.show()"
      ],
      "metadata": {
        "colab": {
          "base_uri": "https://localhost:8080/",
          "height": 450
        },
        "id": "wzeScoRVnjIe",
        "outputId": "a415da80-defe-4905-ff13-36e04b2ccc11"
      },
      "execution_count": 140,
      "outputs": [
        {
          "output_type": "display_data",
          "data": {
            "text/plain": [
              "<Figure size 640x480 with 1 Axes>"
            ],
            "image/png": "[encoded data removed]"
          },
          "metadata": {}
        }
      ]
    },
    {
      "cell_type": "markdown",
      "source": [
        "### Size-related Columns"
      ],
      "metadata": {
        "id": "7yviSoT3ZQLB"
      }
    },
    {
      "cell_type": "code",
      "source": [
        "# Lot size in square feet\n",
        "acres_to_sqfeet = 43560\n",
        "df = df.withColumn('LOT_SIZE_SQFT', df['ACRES'] * acres_to_sqfeet)\n",
        "\n",
        "# Create new column YARD_SIZE\n",
        "df = df.withColumn('YARD_SIZE', df['LOT_SIZE_SQFT'] - df['FOUNDATIONSIZE'])\n",
        "\n",
        "# Corr of ACRES vs SALESCLOSEPRICE\n",
        "print(\"Corr of ACRES vs SALESCLOSEPRICE: \" + str(df.corr('ACRES', 'SALESCLOSEPRICE')))\n",
        "# Corr of FOUNDATIONSIZE vs SALESCLOSEPRICE\n",
        "print(\"Corr of FOUNDATIONSIZE vs SALESCLOSEPRICE: \" + str(df.corr('FOUNDATIONSIZE', 'SALESCLOSEPRICE')))\n",
        "# Corr of YARD_SIZE vs SALESCLOSEPRICE\n",
        "print(\"Corr of YARD_SIZE vs SALESCLOSEPRICE: \" + str(df.corr('YARD_SIZE', 'SALESCLOSEPRICE')))"
      ],
      "metadata": {
        "colab": {
          "base_uri": "https://localhost:8080/"
        },
        "id": "S7w0rBIhmJci",
        "outputId": "7d7e14f0-60dc-4949-ded5-7364706af4ef"
      },
      "execution_count": 141,
      "outputs": [
        {
          "output_type": "stream",
          "name": "stdout",
          "text": [
            "Corr of ACRES vs SALESCLOSEPRICE: 0.2149274462815797\n",
            "Corr of FOUNDATIONSIZE vs SALESCLOSEPRICE: 0.5670907346340114\n",
            "Corr of YARD_SIZE vs SALESCLOSEPRICE: 0.20330952450143708\n"
          ]
        }
      ]
    },
    {
      "cell_type": "markdown",
      "source": [
        "### Ratio-related Columns"
      ],
      "metadata": {
        "id": "vpR-DENQZULk"
      }
    },
    {
      "cell_type": "code",
      "source": [
        "# ASSESSED_TO_LIST\n",
        "df = df.withColumn(\"ASSESSED_TO_LIST\", df['ASSESSEDVALUATION']/df['LISTPRICE'])\n",
        "df[['ASSESSEDVALUATION', 'LISTPRICE', 'ASSESSED_TO_LIST']].show(5)\n",
        "# TAX_TO_LIST\n",
        "df = df.withColumn(\"TAX_TO_LIST\", df['TAXES']/df['LISTPRICE'])\n",
        "df[['TAX_TO_LIST', 'TAXES', 'LISTPRICE']].show(5)\n",
        "# BED_TO_BATHS\n",
        "df = df.withColumn(\"BED_TO_BATHS\", df['BEDROOMS']/df['BATHSTOTAL'])\n",
        "df[['BED_TO_BATHS', 'BEDROOMS', 'BATHSTOTAL']].show(5)"
      ],
      "metadata": {
        "colab": {
          "base_uri": "https://localhost:8080/"
        },
        "id": "10wma-YSmVia",
        "outputId": "6ee2ba37-8cd9-4464-ee24-1d70cb387bb2"
      },
      "execution_count": 142,
      "outputs": [
        {
          "output_type": "stream",
          "name": "stdout",
          "text": [
            "+-----------------+---------+----------------+\n",
            "|ASSESSEDVALUATION|LISTPRICE|ASSESSED_TO_LIST|\n",
            "+-----------------+---------+----------------+\n",
            "|              0.0|   139900|             0.0|\n",
            "|              0.0|   210000|             0.0|\n",
            "|              0.0|   225000|             0.0|\n",
            "|              0.0|   230000|             0.0|\n",
            "|              0.0|   239900|             0.0|\n",
            "+-----------------+---------+----------------+\n",
            "only showing top 5 rows\n",
            "\n",
            "+--------------------+-----+---------+\n",
            "|         TAX_TO_LIST|TAXES|LISTPRICE|\n",
            "+--------------------+-----+---------+\n",
            "|0.013280914939242315| 1858|   139900|\n",
            "| 0.00780952380952381| 1640|   210000|\n",
            "|0.010622222222222222| 2390|   225000|\n",
            "|0.009330434782608695| 2146|   230000|\n",
            "|0.008378491037932471| 2010|   239900|\n",
            "+--------------------+-----+---------+\n",
            "only showing top 5 rows\n",
            "\n",
            "+------------------+--------+----------+\n",
            "|      BED_TO_BATHS|BEDROOMS|BATHSTOTAL|\n",
            "+------------------+--------+----------+\n",
            "|               1.5|       3|         2|\n",
            "|1.3333333333333333|       4|         3|\n",
            "|               2.0|       2|         1|\n",
            "|               1.0|       2|         2|\n",
            "|               1.5|       3|         2|\n",
            "+------------------+--------+----------+\n",
            "only showing top 5 rows\n",
            "\n"
          ]
        }
      ]
    },
    {
      "cell_type": "markdown",
      "source": [
        "## Bucketing"
      ],
      "metadata": {
        "id": "ULnL2jpGaGhl"
      }
    },
    {
      "cell_type": "code",
      "source": [
        "splits = [0, 1, 2, 3, 4, float('Inf')]\n",
        "\n",
        "# Create bucketing transformer\n",
        "buck = Bucketizer(splits=splits, inputCol='BATHSTOTAL', outputCol='baths')\n",
        "\n",
        "# Apply transformer\n",
        "df = buck.transform(df)\n",
        "\n",
        "# Inspect results\n",
        "df[['BATHSTOTAL', 'baths']].show()"
      ],
      "metadata": {
        "colab": {
          "base_uri": "https://localhost:8080/"
        },
        "id": "KSMWuGmrvvft",
        "outputId": "553831ea-3ce5-47cc-9482-a81241309dda"
      },
      "execution_count": 143,
      "outputs": [
        {
          "output_type": "stream",
          "name": "stdout",
          "text": [
            "+----------+-----+\n",
            "|BATHSTOTAL|baths|\n",
            "+----------+-----+\n",
            "|         2|  2.0|\n",
            "|         3|  3.0|\n",
            "|         1|  1.0|\n",
            "|         2|  2.0|\n",
            "|         2|  2.0|\n",
            "|         2|  2.0|\n",
            "|         3|  3.0|\n",
            "|         3|  3.0|\n",
            "|         3|  3.0|\n",
            "|         3|  3.0|\n",
            "|         3|  3.0|\n",
            "|         3|  3.0|\n",
            "|         3|  3.0|\n",
            "|         3|  3.0|\n",
            "|         3|  3.0|\n",
            "|         3|  3.0|\n",
            "|         3|  3.0|\n",
            "|         3|  3.0|\n",
            "|         3|  3.0|\n",
            "|         3|  3.0|\n",
            "+----------+-----+\n",
            "only showing top 20 rows\n",
            "\n"
          ]
        }
      ]
    },
    {
      "cell_type": "markdown",
      "source": [
        "## One-hot Encoding"
      ],
      "metadata": {
        "id": "p-eP5DMdaii5"
      }
    },
    {
      "cell_type": "code",
      "source": [
        "from pyspark.ml.feature import OneHotEncoder, StringIndexer\n",
        "\n",
        "# Map strings to numbers with string indexer\n",
        "string_indexer = StringIndexer(inputCol='SCHOOLDISTRICTNUMBER', outputCol='School_Index')\n",
        "indexed_df = string_indexer.fit(df).transform(df)\n",
        "\n",
        "# Onehot encode indexed values\n",
        "encoder = OneHotEncoder(inputCol='School_Index', outputCol='School_Vec')\n",
        "encoded_df = encoder.fit(indexed_df).transform(indexed_df)\n",
        "\n",
        "# Inspect the transformation steps\n",
        "encoded_df[['SCHOOLDISTRICTNUMBER', 'School_Index', 'School_Vec']].show(truncate=100)"
      ],
      "metadata": {
        "colab": {
          "base_uri": "https://localhost:8080/"
        },
        "id": "WvPfQHL3rcEW",
        "outputId": "9b100026-0a37-4c62-cdbf-0baf5f28999a"
      },
      "execution_count": 144,
      "outputs": [
        {
          "output_type": "stream",
          "name": "stdout",
          "text": [
            "+-----------------------------+------------+-------------+\n",
            "|         SCHOOLDISTRICTNUMBER|School_Index|   School_Vec|\n",
            "+-----------------------------+------------+-------------+\n",
            "|             834 - Stillwater|         3.0|(6,[3],[1.0])|\n",
            "|             834 - Stillwater|         3.0|(6,[3],[1.0])|\n",
            "|622 - North St Paul-Maplewood|         1.0|(6,[1],[1.0])|\n",
            "|             834 - Stillwater|         3.0|(6,[3],[1.0])|\n",
            "|622 - North St Paul-Maplewood|         1.0|(6,[1],[1.0])|\n",
            "|             834 - Stillwater|         3.0|(6,[3],[1.0])|\n",
            "|             834 - Stillwater|         3.0|(6,[3],[1.0])|\n",
            "|             834 - Stillwater|         3.0|(6,[3],[1.0])|\n",
            "|             834 - Stillwater|         3.0|(6,[3],[1.0])|\n",
            "|             834 - Stillwater|         3.0|(6,[3],[1.0])|\n",
            "|             834 - Stillwater|         3.0|(6,[3],[1.0])|\n",
            "|             834 - Stillwater|         3.0|(6,[3],[1.0])|\n",
            "|             834 - Stillwater|         3.0|(6,[3],[1.0])|\n",
            "|             834 - Stillwater|         3.0|(6,[3],[1.0])|\n",
            "|             834 - Stillwater|         3.0|(6,[3],[1.0])|\n",
            "|             834 - Stillwater|         3.0|(6,[3],[1.0])|\n",
            "|             834 - Stillwater|         3.0|(6,[3],[1.0])|\n",
            "|             834 - Stillwater|         3.0|(6,[3],[1.0])|\n",
            "|             834 - Stillwater|         3.0|(6,[3],[1.0])|\n",
            "|             834 - Stillwater|         3.0|(6,[3],[1.0])|\n",
            "+-----------------------------+------------+-------------+\n",
            "only showing top 20 rows\n",
            "\n"
          ]
        }
      ]
    },
    {
      "cell_type": "markdown",
      "source": [
        "# Build Model"
      ],
      "metadata": {
        "id": "jPFIzIDQapJD"
      }
    },
    {
      "cell_type": "markdown",
      "source": [
        "## Vectorize feature columns"
      ],
      "metadata": {
        "id": "tzsFasShcLSy"
      }
    },
    {
      "cell_type": "code",
      "source": [
        "# # Drop na\n",
        "df = df.fillna(-1)\n",
        "\n",
        "# Identify string columns\n",
        "columns_to_drop = [field.name for field in df.schema.fields if isinstance(field.dataType, (StringType, DateType))]\n",
        "\n",
        "# Drop string columns\n",
        "df_no_strings = df.drop(*columns_to_drop)\n",
        "\n",
        "# Define the columns to be converted to vectors\n",
        "features_cols = list(df_no_strings.columns)\n",
        "\n",
        "# Create the vector assembler transformer\n",
        "vec = VectorAssembler(inputCols=features_cols, outputCol='features')"
      ],
      "metadata": {
        "id": "6LsKGXVGjN0I"
      },
      "execution_count": 145,
      "outputs": []
    },
    {
      "cell_type": "code",
      "source": [
        "df = vec.transform(df)\n",
        "df_ml = df.select(['SALESCLOSEPRICE', 'features'])\n",
        "df_ml.show(5)"
      ],
      "metadata": {
        "colab": {
          "base_uri": "https://localhost:8080/"
        },
        "id": "FMh69PXX4sZE",
        "outputId": "0c706b02-a122-4468-d8b9-a6c4d8d3c295"
      },
      "execution_count": 146,
      "outputs": [
        {
          "output_type": "stream",
          "name": "stdout",
          "text": [
            "+---------------+--------------------+\n",
            "|SALESCLOSEPRICE|            features|\n",
            "+---------------+--------------------+\n",
            "|         143000|[11511.0,55042.0,...|\n",
            "|         190000|[11200.0,55042.0,...|\n",
            "|         225000|[8583.0,55042.0,2...|\n",
            "|         265000|[9350.0,55042.0,2...|\n",
            "|         249900|[2915.0,55042.0,2...|\n",
            "+---------------+--------------------+\n",
            "only showing top 5 rows\n",
            "\n"
          ]
        }
      ]
    },
    {
      "cell_type": "markdown",
      "source": [
        "## Building a Regression Model"
      ],
      "metadata": {
        "id": "KYnpDEaPzjk9"
      }
    },
    {
      "cell_type": "code",
      "source": [
        "from pyspark.ml.feature import StringIndexer, OneHotEncoder, VectorAssembler, StandardScaler\n",
        "from pyspark.ml import Pipeline\n",
        "from pyspark.ml.regression import LinearRegression\n",
        "from pyspark.ml.evaluation import RegressionEvaluator\n",
        "from pyspark.sql.functions import mean, col"
      ],
      "metadata": {
        "id": "iFID4Xw0QRik"
      },
      "execution_count": 147,
      "outputs": []
    },
    {
      "cell_type": "code",
      "source": [
        "# Splitting the Data\n",
        "trainDF, testDF = df_ml.randomSplit([0.7, 0.3], seed=42)\n",
        "\n",
        "# Model Building\n",
        "lr = LinearRegression(featuresCol=\"features\", labelCol=\"SALESCLOSEPRICE\")\n",
        "\n",
        "# Train the model\n",
        "model = lr.fit(trainDF)\n",
        "\n",
        "# 7. Evaluation\n",
        "predictions = model.transform(testDF)\n",
        "evaluator = RegressionEvaluator(labelCol=\"SALESCLOSEPRICE\", predictionCol=\"prediction\", metricName=\"mae\")\n",
        "mae = evaluator.evaluate(predictions)\n",
        "print(f\"Root Mean Squared Error (RMSE) on test data = {mae}\")\n",
        "\n",
        "# Show some predictions\n",
        "predictions.select(\"prediction\", \"SALESCLOSEPRICE\").show(5)"
      ],
      "metadata": {
        "colab": {
          "base_uri": "https://localhost:8080/"
        },
        "id": "6e1X6kwXK28M",
        "outputId": "ea06e0ca-dce4-4009-c5c6-602b4d2b74c4"
      },
      "execution_count": 148,
      "outputs": [
        {
          "output_type": "stream",
          "name": "stdout",
          "text": [
            "Root Mean Squared Error (RMSE) on test data = 5.184508662492999\n",
            "+------------------+---------------+\n",
            "|        prediction|SALESCLOSEPRICE|\n",
            "+------------------+---------------+\n",
            "| 50811.97176537725|          50800|\n",
            "| 60004.66877075422|          60000|\n",
            "|61007.203775073474|          61000|\n",
            "| 62003.87254427494|          62000|\n",
            "|  63008.6532369598|          63000|\n",
            "+------------------+---------------+\n",
            "only showing top 5 rows\n",
            "\n"
          ]
        }
      ]
    },
    {
      "cell_type": "markdown",
      "source": [
        "## Evaluate result"
      ],
      "metadata": {
        "id": "eSF1vDmAcOBn"
      }
    },
    {
      "cell_type": "code",
      "source": [
        "# Select columns to compute test error\n",
        "evaluator = RegressionEvaluator(labelCol=\"SALESCLOSEPRICE\", predictionCol=\"prediction\")\n",
        "\n",
        "# Create evaluation metrics\n",
        "mae = evaluator.evaluate(predictions, {evaluator.metricName: \"mae\"})\n",
        "\n",
        "# Print Model Metrics\n",
        "print('MAE: ' + str(mae))"
      ],
      "metadata": {
        "colab": {
          "base_uri": "https://localhost:8080/"
        },
        "id": "EJpkHeWYSj8h",
        "outputId": "40c8dcb4-244a-47e0-f08f-bd42b1ffdb23"
      },
      "execution_count": 149,
      "outputs": [
        {
          "output_type": "stream",
          "name": "stdout",
          "text": [
            "MAE: 5.184508662492999\n"
          ]
        }
      ]
    },
    {
      "cell_type": "code",
      "source": [
        "df.select('SALESCLOSEPRICE').describe().show()"
      ],
      "metadata": {
        "colab": {
          "base_uri": "https://localhost:8080/"
        },
        "id": "hv25hRGYSSvt",
        "outputId": "f21743e8-efd9-45a9-ab79-f952315f75bc"
      },
      "execution_count": 151,
      "outputs": [
        {
          "output_type": "stream",
          "name": "stdout",
          "text": [
            "+-------+------------------+\n",
            "|summary|   SALESCLOSEPRICE|\n",
            "+-------+------------------+\n",
            "|  count|              4886|\n",
            "|   mean|252793.60049119935|\n",
            "| stddev|112779.91029069609|\n",
            "|    min|             48000|\n",
            "|    max|            683000|\n",
            "+-------+------------------+\n",
            "\n"
          ]
        }
      ]
    },
    {
      "cell_type": "code",
      "source": [
        "cư"
      ],
      "metadata": {
        "id": "oUSssYsKeuEK"
      },
      "execution_count": null,
      "outputs": []
    }
  ],
  "metadata": {
    "kernelspec": {
      "display_name": "Python 3",
      "language": "python",
      "name": "python3"
    },
    "language_info": {
      "codemirror_mode": {
        "name": "ipython",
        "version": 3
      },
      "file_extension": ".py",
      "mimetype": "text/x-python",
      "name": "python",
      "nbconvert_exporter": "python",
      "pygments_lexer": "ipython3",
      "version": "3.6.5"
    },
    "colab": {
      "provenance": [],
      "toc_visible": true
    }
  },
  "nbformat": 4,
  "nbformat_minor": 0
}