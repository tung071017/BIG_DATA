{
  "nbformat": 4,
  "nbformat_minor": 0,
  "metadata": {
    "colab": {
      "provenance": []
    },
    "kernelspec": {
      "display_name": "Python 3",
      "language": "python",
      "name": "python3"
    },
    "language_info": {
      "codemirror_mode": {
        "name": "ipython",
        "version": 3
      },
      "file_extension": ".py",
      "mimetype": "text/x-python",
      "name": "python",
      "nbconvert_exporter": "python",
      "pygments_lexer": "ipython3",
      "version": "3.7.1"
    }
  },
  "cells": [
    {
      "cell_type": "markdown",
      "metadata": {
        "id": "6Ijg5wUCTQYG"
      },
      "source": [
        "# **Cleaning Data with Pyspark**\n",
        "\n",
        "Welcome to this hands-on training where we will investigate cleaning a dataset using Python and Apache Spark! During this training, we will cover:\n",
        "\n",
        "* Efficiently loading data into a Spark DataFrame\n",
        "* Handling errant rows / columns from the dataset, including comments, missing data, combined or misinterpreted columns, etc.\n",
        "* Using Python UDFs to run advanced transformations on data\n",
        "\n",
        "\n",
        "## **The Dataset**\n",
        "\n",
        "The dataset used in this webinar is a set of CSV files named `netflix_titles_raw*.csv`. These contain information related to the movies and television shows available on Netflix. These are the *dirty* versions of the dataset - we will cover the individual problems as we work through the notebook.\n",
        "\n",
        "Given that this is a data cleaning webinar, let's look at our intended result.  The dataset will contain the follwing information:\n",
        "\n",
        "- `show_id`: A unique integer identifier for the show\n",
        "- `type`: The type of content, `Movie` or `TV Show`\n",
        "- `title`: The title of the content\n",
        "- `director`: The director (or directors)\n",
        "- `cast`: The cast\n",
        "- `country`: Country (or countries) where the content is available\n",
        "- `date_added`: Date added to Netflix\n",
        "- `release_year`: Year of content release\n",
        "- `rating`: Content rating\n",
        "- `duration`: The duration\n",
        "- `listed_in`: The genres the content is listed in\n",
        "- `description`: A description of the content\n",
        "\n"
      ]
    },
    {
      "cell_type": "markdown",
      "metadata": {
        "id": "KLi6HZeKbiG4"
      },
      "source": [
        "## **Setting up a PySpark session**\n",
        "\n",
        "Before we can start processing our data, we need to configure a Pyspark session for Google Colab. Note that this is specific for using Spark and Python in Colab and likely is not required for other environments."
      ]
    },
    {
      "cell_type": "code",
      "source": [
        "!pip install pyspark"
      ],
      "metadata": {
        "colab": {
          "base_uri": "https://localhost:8080/"
        },
        "id": "2xETkiMc1Mjb",
        "outputId": "59232c76-76c9-45d7-dfbb-be1cb8bf863c"
      },
      "execution_count": null,
      "outputs": [
        {
          "output_type": "stream",
          "name": "stdout",
          "text": [
            "Collecting pyspark\n",
            "  Downloading pyspark-3.5.1.tar.gz (317.0 MB)\n",
            "\u001b[2K     \u001b[90m━━━━━━━━━━━━━━━━━━━━━━━━━━━━━━━━━━━━━━━━\u001b[0m \u001b[32m317.0/317.0 MB\u001b[0m \u001b[31m3.0 MB/s\u001b[0m eta \u001b[36m0:00:00\u001b[0m\n",
            "\u001b[?25h  Preparing metadata (setup.py) ... \u001b[?25l\u001b[?25hdone\n",
            "Requirement already satisfied: py4j==0.10.9.7 in /usr/local/lib/python3.10/dist-packages (from pyspark) (0.10.9.7)\n",
            "Building wheels for collected packages: pyspark\n",
            "  Building wheel for pyspark (setup.py) ... \u001b[?25l\u001b[?25hdone\n",
            "  Created wheel for pyspark: filename=pyspark-3.5.1-py2.py3-none-any.whl size=317488491 sha256=27b04e17fe7bc7331b4cc08a87fa086f2e91f43a32c26dbf8caad925dc3175e1\n",
            "  Stored in directory: /root/.cache/pip/wheels/80/1d/60/2c256ed38dddce2fdd93be545214a63e02fbd8d74fb0b7f3a6\n",
            "Successfully built pyspark\n",
            "Installing collected packages: pyspark\n",
            "Successfully installed pyspark-3.5.1\n"
          ]
        }
      ]
    },
    {
      "cell_type": "code",
      "metadata": {
        "id": "qKvFmTnQbiG9"
      },
      "source": [
        "import pyspark\n",
        "from pyspark.sql import SparkSession\n",
        "spark = SparkSession.builder.master(\"local[*]\").getOrCreate()"
      ],
      "execution_count": null,
      "outputs": []
    },
    {
      "cell_type": "markdown",
      "metadata": {
        "id": "BMYfcKeDY85K"
      },
      "source": [
        "## **Getting started**"
      ]
    },
    {
      "cell_type": "markdown",
      "metadata": {
        "id": "tlIBIjOM39AS"
      },
      "source": [
        "## **Loading our initial DataFrame**\n",
        "\n",
        "Let's take a look at what Spark does with our data and see if it can properly parse the output. To do this, we'll first load the content into a DataFrame using the `spark.read.csv()` method.\n",
        "\n",
        "We'll pass in three arguments:\n",
        "\n",
        " - The path to the file(s)\n",
        " - An entry for `header=False`. Our files do not have a header row, so we must specify this or risk a data row being interpreted as a header.\n",
        " - The last argument we add is the `sep` option, which specifies the field separator. Often in CSV files this is a comma (`,`), but in our files it's a `\\t` or tab character.\n",
        "\n",
        "In our command, we'll be using the wildcard character, `*`, again to access all the files matching `/netflix_titles_dirty*.csv.gz` (ie, all the files we've downloaded thus far). Spark will handle associating all the files to the same dataframe.\n",
        "\n",
        "Depending on how familiar you are with Spark, you should note that this line does not actually read the contents of the files yet. This command is *lazy*, which means it's not executed until we request Spark to execute some type of analysis. This is a crucial point to understand how data processing behaves within Spark."
      ]
    },
    {
      "cell_type": "code",
      "metadata": {
        "id": "uQ_z1ZFYb9AX"
      },
      "source": [
        "# Read csv file wiith spark.read_csv()\n",
        "titles_df = spark.read.csv('netflix_titles_dirty*.csv.gz', header=False, sep='\\t')"
      ],
      "execution_count": null,
      "outputs": []
    },
    {
      "cell_type": "markdown",
      "metadata": {
        "id": "lUFy-nit4fmP"
      },
      "source": [
        "## **Initial analysis**\n",
        "\n",
        "Let's look at the first 150 rows using the `.show()` method on the DataFrame. We'll pass in:\n",
        "\n",
        "- The number of rows to display (`150`)\n",
        "- Set the `truncate` option to `False` so we can see all the DataFrame columns and content.\n",
        "\n",
        "*Note: `.show()` is a Spark action, meaning that any previous lazy commands will now be executed prior to the actual action. Spark can also optimize these commands for best performance as needed.*\n",
        "\n"
      ]
    },
    {
      "cell_type": "code",
      "metadata": {
        "id": "0LjdckdCcCQR",
        "colab": {
          "base_uri": "https://localhost:8080/"
        },
        "outputId": "4e06fe33-ceae-4afa-a46a-06ec7ff57690"
      },
      "source": [
        "# Show first 150 rows\n",
        "titles_df.show(150, truncate=False)"
      ],
      "execution_count": null,
      "outputs": [
        {
          "output_type": "stream",
          "name": "stdout",
          "text": [
            "+------------------------------------------------------------+-------+-------------------------------------------------+-----------------------------------------------------+--------------------------------------------------------------------------------------------------------------------------------------------------------------------------------------------------------------------------------------------------------------------------------------------------------------------------+---------------------------------------------------------------------------------------------------------------------------+---------------+----+--------+--------+-------------------------------------------------------------+-------------------------------------------------------------------------------------------------------------------------------------------------------------------------------------------------------------------+\n",
            "|_c0                                                         |_c1    |_c2                                              |_c3                                                  |_c4                                                                                                                                                                                                                                                                                                                       |_c5                                                                                                                        |_c6            |_c7 |_c8     |_c9     |_c10                                                         |_c11                                                                                                                                                                                                               |\n",
            "+------------------------------------------------------------+-------+-------------------------------------------------+-----------------------------------------------------+--------------------------------------------------------------------------------------------------------------------------------------------------------------------------------------------------------------------------------------------------------------------------------------------------------------------------+---------------------------------------------------------------------------------------------------------------------------+---------------+----+--------+--------+-------------------------------------------------------------+-------------------------------------------------------------------------------------------------------------------------------------------------------------------------------------------------------------------+\n",
            "|81002212                                                    |Movie  |Bioscope                                         |Gajendra Ahire, Viju Mane, Girish Mohite, Ravi Jadhav|Nina Kulkarni, Suhas Palshikar, Kushal Badrike, Spruha Joshi, Mangesh Desai, Smita Tambe, Veena Jamkar, Sandeep Khare                                                                                                                                                                                                     |India                                                                                                                      |August 15, 2018|2015|TV-14   |131 min |Dramas, International Movies, LGBTQ Movies                   |Inspired by classic and contemporary literature, four renowned Marathi directors create four individual stories in this anthology of short films.                                                                  |\n",
            "|80176707                                                    |Movie  |For Here or to Go?                               |Rucha Humnabadkar                                    |Ali Fazal, Melanie Chandra, Rajit Kapoor, Amitosh Nagpal, Omi Vaidya, Samrat Chakrabarti, Keith Stevenson                                                                                                                                                                                                                 |United States, India                                                                                                       |August 15, 2018|2015|TV-MA   |105 min |Comedies, Dramas, Independent Movies                         |A software engineer must decide if he'd rather navigate America's frustrating visa renewal process or simply return to his home country of India.                                                                  |\n",
            "|80199381                                                    |Movie  |Hostiles                                         |Scott Cooper                                         |Christian Bale, Rosamund Pike, Wes Studi, Jesse Plemons, Timothée Chalamet, Ben Foster, Adam Beach, Rory Cochrane, Peter Mullan, Scott Wilson, Paul Anderson, Jonathan Majors, John Benjamin Hickey, Q'orianka Kilcher, Ryan Bingham                                                                                      |United States                                                                                                              |August 15, 2018|2017|R       |134 min |Dramas                                                       |After a long career battling the Cheyenne, a U.S. Army captain is ordered to safely escort the tribe's most influential chief to his Montana homeland.                                                             |\n",
            "|80202176                                                    |Movie  |Hurricane Bianca: From Russia With Hate          |Matt Kugelman                                        |Roy Haylock, Rachel Dratch, Brian McCook, D.J. \"Shangela\" Pierce, Doug Plaut, Cheyenne Jackson, Kristen Johnston, Heather McDonald, Wanda Sykes, Janeane Garofalo                                                                                                                                                         |United States                                                                                                              |August 15, 2018|2018|TV-MA   |85 min  |Comedies, Independent Movies, LGBTQ Movies                   |When Texas teacher Richard is lured to Russia under false pretenses by his enemy Deb, his drag alter ego Bianca soon turns the country upside down.                                                                |\n",
            "|81014293                                                    |TV Show|Nuestra Lucha Libre                              |NULL                                                 |NULL                                                                                                                                                                                                                                                                                                                      |NULL                                                                                                                       |August 15, 2018|2018|TV-MA   |1 Season|Docuseries, International TV Shows, Spanish-Language TV Shows|This documentary series lifts the mask on Mexican wrestling, diving into the daily lives of its stars, examining the sport’s cultural impact and more.                                                             |\n",
            "|81014811                                                    |TV Show|The Creative Indians                             |NULL                                                 |NULL                                                                                                                                                                                                                                                                                                                      |NULL                                                                                                                       |August 15, 2018|2017|NR      |1 Season|Docuseries, International TV Shows                           |From chefs and comedians to filmmakers and fashion designers, India’s most notable imaginative minds share their artistic journeys.                                                                                |\n",
            "|70123118                                                    |Movie  |What's Your Raashee?                             |Ashutosh Gowariker                                   |Priyanka Chopra, Harman Baweja, Suzy Brack, Gene Fojtik, Anjan Srivastav, Darshan Jariwala, Dilip Joshi, Daya Shankar Pandey, Yuri Suri, Rajesh Vivek, Geeta Tyagi                                                                                                                                                        |India                                                                                                                      |August 15, 2018|2009|TV-PG   |203 min |Comedies, International Movies, Music & Musicals             |To protect his family from ruin, Yogesh must marry his dream girl in only ten days, so he rushes into dating women with different astrological signs.                                                              |\n",
            "|80175913                                                    |TV Show|20 Minutes                                       |NULL                                                 |Tuba Büyüküstün, Ilker Aksum, Bülent Emin Yarar, İpek Bilgin, Müjde Uzman, Firat Çelik, Ayten Uncuoglu, Cihat Tamer                                                                                                                                                                                                       |Turkey                                                                                                                     |August 15, 2017|2013|TV-MA   |1 Season|Crime TV Shows, International TV Shows, TV Dramas            |When his wife is convicted of murder, a horrified family man races to prove her innocence while a dogged investigator sets out to uncover the truth.                                                               |\n",
            "|80182274                                                    |Movie  |Barbecue                                         |Matthew Salleh                                       |NULL                                                                                                                                                                                                                                                                                                                      |Australia, Armenia, Japan, Jordan, Mexico, Mongolia, New Zealand, Philippines, South Africa, Sweden, United States, Uruguay|August 15, 2017|2017|TV-MA   |101 min |Documentaries, International Movies                          |A blend of cultural nuance and mesmerizing techniques adds flavor to this globe-hopping celebration of cooking, tradition and community.                                                                           |\n",
            "|80185166                                                    |Movie  |Brad Paisley's Comedy Rodeo                      |Jay Chapman                                          |Brad Paisley, Nate Bargatze, John Heffron, Jon Reep, Sarah Tiana, Mike E. Winfield                                                                                                                                                                                                                                        |United States                                                                                                              |August 15, 2017|2017|TV-MA   |63 min  |Stand-Up Comedy                                              |Country music star Brad Paisley hosts a night of music and laughs with comics Nate Bargatze, John Heffron, Jon Reep, Sarah Tiana and Mike E. Winfield.                                                             |\n",
            "|80068219                                                    |Movie  |Colin Quinn: Unconstitutional                    |Jay Chapman                                          |Colin Quinn                                                                                                                                                                                                                                                                                                               |United States                                                                                                              |August 15, 2017|2015|TV-MA   |56 min  |Stand-Up Comedy                                              |New York comedian Colin Quinn writes and stars in this live one-man stage show that dissects and deconstructs U.S. constitutional history.                                                                         |\n",
            "|70209163                                                    |Movie  |Goon                                             |Michael Dowse                                        |Seann William Scott, Jay Baruchel, Liev Schreiber, Alison Pill, Marc-André Grondin, Kim Coates, Eugene Levy, Nicholas Campbell, Richard Clarkin, Jonathan Cherry                                                                                                                                                          |United States, Canada                                                                                                      |August 15, 2017|2011|R       |92 min  |Comedies, Sports Movies                                      |When he's seen dispatching a rude opposing hockey player in the stands, Doug Glatt is hired by a rival team ... for his fighting skills.                                                                           |\n",
            "|80170687                                                    |TV Show|Million Yen Women                                |NULL                                                 |Yojiro Noda, Rila Fukushima, Rena Matsui, Miwako Wagatsuma, Rena Takeda, Yuko Araki, Yuya Endo, Kaito Yoshimura, Moeka Hoshi, Juri Ihata, Mariko Tsutsui, Kanji Furutachi, Tetsuhiro Ikeda, Takashi Yamanaka, Tomoya Nakamura, Lily Franky                                                                                |Japan                                                                                                                      |August 15, 2017|2017|TV-MA   |1 Season|Crime TV Shows, International TV Shows, TV Dramas            |Five beautiful but mysterious women move in with unsuccessful novelist Shin, who manages their odd household in exchange for a tidy monthly sum.                                                                   |\n",
            "|80163191                                                    |Movie  |My Ex-Ex                                         |Nathaniel Warsh                                      |André Bharti, Katherine Barrell, Ray Galletti, Emily Alatalo, Tamara Duarte, Randal Edwards, Alastair Forbes, Jesse Camacho                                                                                                                                                                                               |Canada                                                                                                                     |August 15, 2017|2015|TV-MA   |91 min  |Comedies, Romantic Movies                                    |A recently dumped attorney hires a psychic to help her win back her boyfriend. Things take an unexpected turn when another ex re-enters the picture.                                                               |\n",
            "|80184661                                                    |Movie  |We're No Animals                                 |Alejandro Agresti                                    |John Cusack, Paul Hipp, Kevin Morris, Alejandro Agresti, Mario Alarcón, Norman Briski, Lucila Solá, Juana Viale, Pablo Bossi, Leticia Brédice                                                                                                                                                                             |United States, Argentina                                                                                                   |August 15, 2017|2015|TV-MA   |94 min  |Comedies, Dramas, Independent Movies                         |Unhappy with his commercial film work, a jaded Hollywood actor moves to Argentina to participate in an experimental thesis on social philosophy.                                                                   |\n",
            "|80114588                                                    |TV Show|Behind Enemy Lines                               |NULL                                                 |NULL                                                                                                                                                                                                                                                                                                                      |United States                                                                                                              |August 15, 2016|2001|TV-14   |1 Season|British TV Shows, Docuseries                                 |After dire setbacks in 1940, Winston Churchill commissions a new kind of fighting force: commandos trained to use stealth and audacious tactics.                                                                   |\n",
            "|80078761                                                    |Movie  |Being AP                                         |Anthony Wonke                                        |Tony McCoy                                                                                                                                                                                                                                                                                                                |United Kingdom                                                                                                             |August 15, 2016|2015|TV-14   |99 min  |Documentaries, International Movies, Sports Movies           |With retirement staring him in the face, an all-time-great jump jockey pursues his 20th consecutive title in his unrelenting quest for glory.                                                                      |\n",
            "|80115844                                                    |Movie  |John & Jane                                      |Ashim Ahluwalia                                      |NULL                                                                                                                                                                                                                                                                                                                      |India                                                                                                                      |August 15, 2016|2005|TV-14   |79 min  |Documentaries, International Movies                          |Truth and fiction blend in this quasi-documentary about six exhausted workers at a Mumbai call center servicing U.S. customers.                                                                                    |\n",
            "|80114111                                                    |Movie  |Louis C.K.: Live at the Comedy Store             |Louis C.K.                                           |Louis C.K.                                                                                                                                                                                                                                                                                                                |United States                                                                                                              |August 15, 2016|2015|NULL    |66 min  |Movies                                                       |The comic puts his trademark hilarious/thought-provoking spin on finding a bat in his kitchen, seeing rats having sex, Boston accents and dead pets.                                                               |\n",
            "|80108998                                                    |Movie  |Real Crime: Supermarket Heist (Tesco Bomber)     |NULL                                                 |NULL                                                                                                                                                                                                                                                                                                                      |United Kingdom                                                                                                             |August 15, 2016|2010|TV-14   |46 min  |Documentaries                                                |In 2000, U.K. detectives spent months tracking a criminal known only as Sally, who was targeting a supermarket chain with extortion and letter bombs.                                                              |\n",
            "|70308278                                                    |Movie  |Mission Blue                                     |Robert Nixon, Fisher Stevens                         |James Cameron, Michael deGruy, Sylvia Earle, Bryce Groark, Jeremy Jackson, Carl Safina                                                                                                                                                                                                                                    |United States, Bermuda, Ecuador                                                                                            |August 15, 2014|2014|TV-Y7   |94 min  |Documentaries                                                |This documentary follows oceanographer Sylvia Earle's campaign to save the world's oceans from threats such as overfishing and toxic waste.                                                                        |\n",
            "|80223113                                                    |TV Show|Happy Jail                                       |NULL                                                 |NULL                                                                                                                                                                                                                                                                                                                      |NULL                                                                                                                       |August 14, 2019|2019|TV-MA   |1 Season|Crime TV Shows, Docuseries                                   |The Philippine jail known for a viral Michael Jackson dance video comes under the management of an ex-convict, sparking controversy and criticism.                                                                 |\n",
            "|81147274                                                    |Movie  |Uyare                                            |Manu Ashokan                                         |Parvathy, Asif Ali, Tovino Thomas, Siddique, Pratap Pothan, Samyuktha Menon, Anarkali Marikar, Prem Prakash                                                                                                                                                                                                               |India                                                                                                                      |August 14, 2019|2019|TV-14   |119 min |Dramas, International Movies                                 |An aspiring pilot fights for her future – and justice – after surviving an acid attack from her abusive boyfriend.                                                                                                 |\n",
            "|80136450                                                    |TV Show|Exclusive Edition                                |James Lee                                            |Berg Lee, Yise Loo, Alvin Wong, Hady, Monday Kang, Ruobing, Wymen Yang, May June, Aenie Wong, Ernest Chong                                                                                                                                                                                                                |NULL                                                                                                                       |August 14, 2017|2008|TV-14   |1 Season|International TV Shows, TV Dramas                            |Young journalists working for a magazine juggle careers, romance and other challenges while reporting on social issues and news stories in Malaysia.                                                               |\n",
            "|80136453                                                    |TV Show|Glowing Embers                                   |NULL                                                 |Henley Hii, Debbie Goh, Frederick Lee, Wymen Yang, Melvin Sia, Alvin Wong                                                                                                                                                                                                                                                 |NULL                                                                                                                       |August 14, 2017|2010|TV-14   |1 Season|International TV Shows, TV Dramas                            |Amid Malaysia's charcoal industry, a woman deftly adapts to her environs as she juggles three men in her life: her husband, her lover and her friend.                                                              |\n",
            "|80163530                                                    |TV Show|Persona                                          |NULL                                                 |Loo Aye Keng, Kyo, Jojo Goh, Fabian Loo, Emily Chan                                                                                                                                                                                                                                                                       |NULL                                                                                                                       |August 14, 2017|2015|TV-PG   |1 Season|Crime TV Shows, International TV Shows, TV Dramas            |A private investigation firm takes on sensitive cases while its uniquely skilled agents deal with issues both inside and out of the office.                                                                        |\n",
            "|80136455                                                    |TV Show|The Iron Lady                                    |NULL                                                 |Yeo Yann Yann, Aenie Wong, Seck Fook Yee, Jacky Kam, Frederick Lee, Jeffery Cheng, Mandy Chen                                                                                                                                                                                                                             |NULL                                                                                                                       |August 14, 2017|2009|TV-PG   |1 Season|International TV Shows, TV Dramas                            |After business troubles destroy her father, a headstrong young woman does battle with her deeply patriarchal culture to secure her family's legacy.                                                                |\n",
            "|80039439                                                    |Movie  |The Outcasts                                     |Peter Hutchings                                      |Victoria Justice, Eden Sher, Ashley Rickards, Claudia Lee, Katie Chang, Peyton List, Jazmyn Richardson, Avan Jogia, Will Peltz                                                                                                                                                                                            |United States                                                                                                              |August 14, 2017|2017|PG-13   |94 min  |Comedies                                                     |After failing to strike a truce with their school's queen bee, two misfit best friends lead a nerd uprising that turns social hierarchy on its head.                                                               |\n",
            "|80044804                                                    |Movie  |Demetri Martin: Live (At the Time)               |Jay Karas                                            |Demetri Martin                                                                                                                                                                                                                                                                                                            |United States                                                                                                              |August 14, 2015|2015|TV-MA   |62 min  |Stand-Up Comedy                                              |Demetri Martin brings his off-kilter take on acoustic guitar, hairless cats, color schemes, and the word \"nope\" to Washington in his original special.                                                             |\n",
            "|81147278                                                    |Movie  |90 ML                                            |Anita Udeep                                          |Oviya, Masoom Shankar, Bommu Lakshmi, Monisha Ram, Tej Raj, Shree Gopika, Anson Paul, Devadarshini Chetan                                                                                                                                                                                                                 |India                                                                                                                      |August 13, 2019|2019|TV-14   |123 min |Comedies, International Movies, Music & Musicals             |Four friends shake up their lives when they meet a new woman in their apartment complex who encourages them to embrace their wild sides.                                                                           |\n",
            "|81146011                                                    |Movie  |Calum von Moger: Unbroken                        |Vlad Yudin                                           |Calum Von Moger                                                                                                                                                                                                                                                                                                           |United States                                                                                                              |August 13, 2019|2019|TV-MA   |93 min  |Documentaries, Sports Movies                                 |Bodybuilder and two-time Mr. Universe, Calum von Moger, reflects on his rise to fame and battle to come back from a debilitating injury.                                                                           |\n",
            "|81123826                                                    |Movie  |Hasta los dientes                                |Alberto Arnaut Estrada                               |NULL                                                                                                                                                                                                                                                                                                                      |Mexico                                                                                                                     |August 13, 2019|2018|TV-MA   |109 min |Documentaries, International Movies                          |This documentary follows the controversy surrounding the 2010 murders of two students, who were framed as criminals and killed by the Mexican military.                                                            |\n",
            "|81002933                                                    |TV Show|Tiffany Haddish Presents: They Ready             |NULL                                                 |Tracey Ashley, Flame Monroe, Aida Rodriguez, Marlo Williams, April Macie, Chaunté Wayans, Tiffany Haddish                                                                                                                                                                                                                 |United States                                                                                                              |August 13, 2019|2019|TV-MA   |1 Season|Stand-Up Comedy & Talk Shows, TV Comedies                    |Hand-picked by Tiffany Haddish, six diverse comedians showcase their raw humor in a series of specials oozing with energy.                                                                                         |\n",
            "|81135868                                                    |Movie  |Woodstock                                        |Barak Goodman                                        |NULL                                                                                                                                                                                                                                                                                                                      |United States                                                                                                              |August 13, 2019|2019|TV-MA   |97 min  |Documentaries, Music & Musicals                              |For the 50th anniversary of the legendary Woodstock festival, organizers and attendees reminisce about one of the defining moments of the 1960s.                                                                   |\n",
            "|80162142                                                    |Movie  |Hot Property                                     |Max McGill                                           |MyAnna Buring, Tom Rhys Harries, Ella Smith, Sam Phillips, Kate Bracken                                                                                                                                                                                                                                                   |United Kingdom                                                                                                             |August 13, 2017|2016|TV-MA   |82 min  |Comedies, Independent Movies                                 |When a resourceful but flighty Londoner is threatened with eviction, she vows to do whatever it takes to defeat a greedy real estate agent.                                                                        |\n",
            "|80175483                                                    |Movie  |Mission Control: The Unsung Heroes of Apollo     |David Fairhead                                       |NULL                                                                                                                                                                                                                                                                                                                      |United States, United Kingdom                                                                                              |August 13, 2017|2017|TV-14   |100 min |Documentaries                                                |Combining archive footage with present-day interviews, this documentary explores how Apollo's mission control helped change the course of history.                                                                 |\n",
            "|80100772                                                    |Movie  |13 Cameras                                       |Victor Zarcoff                                       |PJ McCabe, Brianne Moncrief, Sarah Baldwin, Jim Cummings, Heidi Niedermeyer, Neville Archambault                                                                                                                                                                                                                          |United States                                                                                                              |August 13, 2016|2015|NR      |90 min  |Horror Movies, Independent Movies, Thrillers                 |Young parents-to-be Claire and Ryan move into a suburban rental home, unaware that someone is secretly watching their every move via hidden cameras.                                                               |\n",
            "|81145135                                                    |TV Show|DC Super Hero Girls                              |NULL                                                 |Grey Griffin, Tara Strong, Nicole Sullivan, Kari Wahlgren, Myrna Velasco, Kimberly Brooks                                                                                                                                                                                                                                 |United States                                                                                                              |August 12, 2019|2019|TV-Y7-FV|1 Season|Kids' TV                                                     |As Metropolis High students, super teens Wonder Woman, Supergirl, Bumblebee, Batgirl, Zatanna, and Green Lantern fight crime, classwork and crushes.                                                               |\n",
            "|80188580                                                    |Movie  |Chocolate City: Vegas Strip                      |Jean-Claude La Marre                                 |Robert Ri'chard, Darrin Dewitt Henson, Ginuwine, Gilbert Saldivar, Keith Carlos, Michael Bolwaire, Willie Taylor, Michael Jai White, Vivica A. Fox, Mekhi Phifer                                                                                                                                                          |United States                                                                                                              |August 12, 2017|2017|TV-MA   |90 min  |Dramas                                                       |The exotic dancers from Chocolate City get back together for a trip to Las Vegas and a chance at $500,000 in prize money.                                                                                          |\n",
            "|80106737                                                    |Movie  |Los Herederos                                    |Jorge Hernandez Aldana                               |Máximo Hollander, Sebastián Aguirre, Úrsula Pruneda, Rodrigo Mendoza, Germán Bracco, Tomás Manterola, Regina Soto, Diego Velázquez, Mónica Del Carmen, José Egüez, Pablo Cruz                                                                                                                                             |Mexico                                                                                                                     |August 12, 2017|2015|TV-MA   |71 min  |Dramas, International Movies                                 |Spurred by boredom and peer pressure, a group of suburban teens becomes increasingly violent and find their paths intersecting those of their parents.                                                             |\n",
            "|80142058                                                    |Movie  |Naked                                            |Michael Tiddes                                       |Marlon Wayans, Regina Hall, Dennis Haysbert, Loretta Devine, Eliza Coupe, Scott Foley, J.T. Jackson, Brian McKnight, Cory Hardrict, Neil Brown Jr., David Sheridan, Minka Kelly                                                                                                                                           |United States                                                                                                              |August 11, 2017|2017|TV-14   |97 min  |Comedies, Romantic Movies                                    |Rob's madly in love and about to be married. Unfortunately, he's also naked, stuck in an elevator and caught in a time loop.                                                                                       |\n",
            "|70044256                                                    |Movie  |Jim Gaffigan: Beyond the Pale                    |Michael Drumm                                        |Jim Gaffigan                                                                                                                                                                                                                                                                                                              |United States                                                                                                              |August 11, 2016|2005|TV-14   |72 min  |Stand-Up Comedy                                              |Comedian Jim Gaffigan cuts loose on a variety of topics, including Hot Pockets, holidays, Catholicism and his favorite activity: doing nothing.                                                                    |\n",
            "|70113636                                                    |Movie  |Jim Gaffigan: King Baby                          |Troy Miller                                          |Jim Gaffigan                                                                                                                                                                                                                                                                                                              |United States                                                                                                              |August 11, 2016|2009|TV-PG   |71 min  |Stand-Up Comedy                                              |Jim Gaffigan offers up his take on bacon, bowling and other weighty topics in this stand-up performance filmed live in Austin on his 2008 comedy tour.                                                             |\n",
            "|70237054                                                    |Movie  |Jim Gaffigan: Mr. Universe                       |Jay Karas                                            |Jim Gaffigan                                                                                                                                                                                                                                                                                                              |United States                                                                                                              |August 11, 2016|2012|TV-14   |77 min  |Stand-Up Comedy                                              |Funnyman Jim Gaffigan offers up his unique take on everything from Disney World to overweight whales in this live show from Washington, D.C.                                                                       |\n",
            "|70301469                                                    |Movie  |Jim Gaffigan: Obsessed                           |Jay Chapman                                          |Jim Gaffigan                                                                                                                                                                                                                                                                                                              |United States                                                                                                              |August 11, 2016|2014|TV-14   |70 min  |Stand-Up Comedy                                              |Comic Jim Gaffigan delivers his sardonic take on topics like eating, exercise, weddings and his five kids in this live stand-up special.                                                                           |\n",
            "|80165437                                                    |TV Show|72 Dangerous Animals: Asia                       |NULL                                                 |Bob Brisbane                                                                                                                                                                                                                                                                                                              |Australia                                                                                                                  |August 10, 2018|2018|TV-14   |1 Season|Docuseries, International TV Shows, Science & Nature TV      |From fangs to claws to venomous stings, they all wield deadly weapons. But which creature will be crowned the fiercest of all?                                                                                     |\n",
            "|80188953                                                    |TV Show|Afflicted                                        |NULL                                                 |NULL                                                                                                                                                                                                                                                                                                                      |United States                                                                                                              |August 10, 2018|2018|TV-MA   |1 Season|Docuseries, Reality TV                                       |Baffling symptoms. Controversial diagnoses. Costly treatments. Seven people with chronic illnesses search for answers – and relief.                                                                                |\n",
            "|80211884                                                    |TV Show|All About the Washingtons                        |NULL                                                 |Joseph Simmons, Justine Simmons, Kiana Ledé, Nathan Anderson, Leah Rose Randall, Maceo Smedley, Quincy Fouse, DJ Ruckus, Adain Bradley, Tim Meadows, Daymond John, Erick Chavarria, Christopher Clarke, Aubrey Cleland, Arsenio Hall, Stephen Schneider, Max Goudsmit, Noah Gerry, Jamie VanDyke, Ashleigh Hairston       |United States                                                                                                              |August 10, 2018|2018|TV-PG   |1 Season|TV Comedies                                                  |Hip-hop icon MC Joe Speed retires from showbiz and finds a new rhythm balancing business, romance and everyday family chaos.                                                                                       |\n",
            "|81005454                                                    |Movie  |Beyond the Clouds                                |Majid Majidi                                         |Ishaan Khattar, Malavika Mohanan, Goutam Ghose, Sharada, Tannishtha Chatterjee, Shashank Shende, Hema Singh, Akash Gopal                                                                                                                                                                                                  |India, Iran                                                                                                                |August 10, 2018|2018|TV-14   |120 min |Dramas, Independent Movies, International Movies             |A youthful drug dealer in Mumbai must change his ways when the sister who raised him is assaulted by her boss and imprisoned for defending herself.                                                                |\n",
            "|80995575                                                    |Movie  |The Birth Reborn                                 |Eduardo Chauvet                                      |NULL                                                                                                                                                                                                                                                                                                                      |Brazil                                                                                                                     |August 10, 2018|2013|TV-14   |91 min  |Documentaries, International Movies                          |Mothers and medical professionals speak about their experiences with the increasingly controversial practice of Caesarean deliveries in Brazil.                                                                    |\n",
            "|80223371                                                    |Movie  |The Guernsey Literary and Potato Peel Pie Society|Mike Newell                                          |Lily James, Michiel Huisman, Penelope Wilton, Tom Courtenay, Jessica Brown Findlay, Katherine Parkinson, Matthew Goode                                                                                                                                                                                                    |United Kingdom, France, United States                                                                                      |August 10, 2018|2018|TV-14   |124 min |Dramas, Romantic Movies                                      |A London writer bonds with the colorful residents of Guernsey as she learns about the book club they formed during the WWII German occupation.                                                                     |\n",
            "|80175147                                                    |Movie  |The Package                                      |Jake Szymanski                                       |Daniel Doheny, Geraldine Viswanathan, Luke Spencer Roberts, Eduardo Franco, Sadie Calvano                                                                                                                                                                                                                                 |United States                                                                                                              |August 10, 2018|2018|TV-MA   |95 min  |Comedies                                                     |After their buddy suffers an unfortunate accident during spring break, four pals risk everything – including their dignity – to make him whole again.                                                              |\n",
            "|80239831                                                    |Movie  |Zion                                             |Floyd Russ                                           |Zion Clark                                                                                                                                                                                                                                                                                                                |United States                                                                                                              |August 10, 2018|2018|TV-PG   |12 min  |Documentaries, Sports Movies                                 |Born without legs and stuck in foster care for years, teen Zion Clark finds his calling when he pursues competitive wrestling. A documentary short.                                                                |\n",
            "|80105356                                                    |Movie  |Alive and Kicking                                |Susan Glatzer                                        |NULL                                                                                                                                                                                                                                                                                                                      |Sweden, United States                                                                                                      |August 10, 2017|2016|TV-14   |89 min  |Documentaries                                                |Take an inside look at swing dancing's continued prosperity and the lively and joyous personalities that make the art form so unique.                                                                              |\n",
            "|70296443                                                    |Movie  |Demonic                                          |Will Canon                                           |Maria Bello, Frank Grillo, Cody Horn, Dustin Milligan, Megan Park, Scott Mechlowicz, Aaron Yoo, Alex Goode, Terence Rosemore, Jesse Steccato                                                                                                                                                                              |United States                                                                                                              |August 10, 2017|2015|R       |83 min  |Horror Movies, Independent Movies                            |When amateur ghost hunters visit an abandoned house, their investigation turns into a massacre, leaving questions for a detective and a psychologist.                                                              |\n",
            "|80168033                                                    |Movie  |SHOT! The Psycho-Spiritual Mantra of Rock        |Barney Clay                                          |Mick Rock                                                                                                                                                                                                                                                                                                                 |United Kingdom, United States                                                                                              |August 10, 2017|NULL|TV-MA   |98 min  |Documentaries, Music & Musicals                              |Aptly named iconic rock photographer Mick Rock reconstructs his journey through the thrilling and murky universe of rock 'n' roll history.                                                                         |\n",
            "|80160346                                                    |Movie  |The Saint                                        |Ernie Barbarash                                      |Adam Rayner, Eliza Dushku, Ian Ogilvy, James Remar, Roger Moore, Enrique Murciano, Thomas Kretschmann, Beatrice Rosen, Greg Grunberg, Yani Gellman                                                                                                                                                                        |United States                                                                                                              |August 10, 2017|2017|TV-14   |92 min  |Action & Adventure                                           |Master thief Simon Templar – also known as the Saint – is hired by a wealthy banker to find his kidnapped daughter, but not all is as it seems.                                                                    |\n",
            "|70121522                                                    |Movie  |3 Idiots                                         |Rajkumar Hirani                                      |Aamir Khan, Kareena Kapoor, Madhavan, Sharman Joshi, Omi Vaidya, Boman Irani, Mona Singh, Javed Jaffrey                                                                                                                                                                                                                   |India                                                                                                                      |August 1, 2019 |2009|PG-13   |164 min |Comedies, Dramas, International Movies                       |While attending one of India's premier colleges, three miserable engineering students and best friends struggle to beat the school's draconian system.                                                             |\n",
            "|81065784                                                    |Movie  |Are We Done Yet?                                 |Khaled El Halafawy                                   |Ahmed Eid, Ayten Amer, Ahmed Fouad Selim, Mohsen Mansour                                                                                                                                                                                                                                                                  |Egypt                                                                                                                      |August 1, 2019 |2018|TV-14   |87 min  |Comedies, Dramas, International Movies                       |When authorities arrest his young son, a taxi driver must convince the courts and rabid media that he's not the criminal they seek.                                                                                |\n",
            "|80124099                                                    |Movie  |Boyka: Undisputed                                |Todor Chapkanov                                      |Scott Adkins, Teodora Duhovnikova, Alon Aboutboul, Julian Vergov, Brahim Achabbakhe, Paul Chahidi, Petio Petkov, Valentin Ganev, Vlado Mihailov                                                                                                                                                                           |Bulgaria, United States                                                                                                    |August 1, 2019 |2016|R       |90 min  |Action & Adventure                                           |The fourth film in the action franchise finds Boyka taking on brutal gangsters to protect the widow of a man he unintentionally killed in the ring.                                                                |\n",
            "|70119812                                                    |Movie  |Clash of the Titans                              |Louis Leterrier                                      |Sam Worthington, Liam Neeson, Ralph Fiennes, Jason Flemyng, Gemma Arterton, Alexa Davalos, Tine Stapelfeldt, Mads Mikkelsen, Luke Evans                                                                                                                                                                                   |United States, United Kingdom, Australia                                                                                   |August 1, 2019 |2010|PG-13   |106 min |Action & Adventure, Sci-Fi & Fantasy                         |If he is to save the life of the beautiful Princess Andromeda, the valiant Perseus must battle a host of powerful, beastly enemies.                                                                                |\n",
            "|60032685                                                    |Movie  |Darna Mana Hai                                   |Prawal Raman                                         |Aftab Shivdasani, Antara Mali, Boman Irani, Isha Koppikar, Nana Patekar, Raghuvir Yadav, Rajpal Yadav, Revathy, Saif Ali Khan, Sameera Reddy, Sanjay Kapoor, Shilpa Shetty, Sohail Khan, Vivek Oberoi                                                                                                                     |India                                                                                                                      |August 1, 2019 |2003|TV-MA   |116 min |Horror Movies, International Movies, Thrillers               |Stranded in a jungle when their car breaks down, six friends pass their time exchanging horror stories, unaware that they may be part of one themselves.                                                           |\n",
            "|70006816                                                    |Movie  |Ek Hasina Thi                                    |Sriram Raghavan                                      |Saif Ali Khan, Urmila Matondkar, Seema Biswas, Pratima Kazmi, Aditya Srivastava, Rasika Joshi, Madan Joshi, Seema Adhikari                                                                                                                                                                                                |India                                                                                                                      |August 1, 2019 |2004|TV-MA   |134 min |Dramas, International Movies, Thrillers                      |Imprisoned for underworld crimes she didn’t commit, a vengeful woman breaks free and goes scorched earth on the smooth-talking suitor who framed her.                                                              |\n",
            "|70236587                                                    |Movie  |Ferrari Ki Sawaari                               |Rajesh Mapuskar                                      |Sharman Joshi, Boman Irani, Ritwik Sahore, Paresh Rawal, Deepak Shirke, Satyadeep Misra, Aakash Dabhade, Nilesh Diwekar, Vidya Balan                                                                                                                                                                                      |India                                                                                                                      |August 1, 2019 |2012|TV-PG   |133 min |Comedies, International Movies, Sports Movies                |A father winds up involved with a stolen Ferrari as he tries to acquire the money to send his son to the leading cricket academy.                                                                                  |\n",
            "|520489                                                      |Movie  |Four Weddings and a Funeral                      |Mike Newell                                          |Hugh Grant, Andie MacDowell, James Fleet, Simon Callow, John Hannah, Kristin Scott Thomas, David Bower, Charlotte Coleman, David Haig, Rowan Atkinson, Sophie Thompson, Anna Chancellor, Corin Redgrave                                                                                                                   |United Kingdom                                                                                                             |August 1, 2019 |1994|R       |118 min |Classic Movies, Comedies, International Movies               |A commitment-phobic Brit tries to reconnect with an alluring American who's about to make a seemingly awful mistake by marrying a wealthy, boring man.                                                             |\n",
            "|70266677                                                    |Movie  |Horns                                            |Alexandre Aja                                        |Daniel Radcliffe, Juno Temple, Max Minghella, Joe Anderson, Kelli Garner, Heather Graham, David Morse, Kathleen Quinlan, James Remar                                                                                                                                                                                      |United States, Canada                                                                                                      |August 1, 2019 |2013|R       |120 min |Dramas, Horror Movies, Sci-Fi & Fantasy                      |Accused of murder, Ig Perish wakes up one day to find he's grown a set of horns – compelling people to confess their sins to him.                                                                                  |\n",
            "|60010514                                                    |Movie  |Jackie Brown                                     |Quentin Tarantino                                    |Pam Grier, Samuel L. Jackson, Robert Forster, Bridget Fonda, Michael Keaton, Robert De Niro, Michael Bowen, Chris Tucker, LisaGay Hamilton, Tommy 'Tiny' Lister, Hattie Winston, Sid Haig                                                                                                                                 |United States                                                                                                              |August 1, 2019 |1997|R       |154 min |Dramas, Thrillers                                            |When an aging flight attendant's caught smuggling cash and forced to help with an investigation, she hatches a clever plan to make off with the dough.                                                             |\n",
            "|70301367                                                    |Movie  |Jupiter Ascending                                |Lana Wachowski, Lilly Wachowski                      |Mila Kunis, Channing Tatum, Sean Bean, Eddie Redmayne, Douglas Booth, Tuppence Middleton, Nikki Amuka-Bird, Christina Cole, James D'Arcy, Gugu Mbatha-Raw                                                                                                                                                                 |United States, Australia                                                                                                   |August 1, 2019 |2015|PG-13   |128 min |Action & Adventure, Sci-Fi & Fantasy                         |A young impoverished woman learns she's been predestined to change the fate of the universe after a genetically engineered hunter tracks her down.                                                                 |\n",
            "|81139317                                                    |TV Show|Khaani                                           |NULL                                                 |Feroze Khan, Sana Javed, Mehmood Aslam, Saman Ansari, Qavi Khan, Salma Hasan, Rashid Farooqi, Muhammad Mubarik Ali                                                                                                                                                                                                        |Pakistan                                                                                                                   |August 1, 2019 |2017|TV-14   |1 Season|Crime TV Shows, International TV Shows, Romantic TV Shows    |After a rich politician's son kills a young woman's brother, an unlikely romantic connection complicates her pursuit of justice.                                                                                   |\n",
            "|80014727                                                    |Movie  |Last Knights                                     |Kazuaki Kiriya                                       |Clive Owen, Morgan Freeman, Cliff Curtis, Aksel Hennie, Peyman Moaadi, Ayelet Zurer, Shohreh Aghdashloo, Tsuyoshi Ihara, Ahn Sung-kee                                                                                                                                                                                     |United Kingdom, South Korea                                                                                                |August 1, 2019 |2015|R       |115 min |Action & Adventure                                           |A nobleman who values his people's well-being over his emperor's edicts is killed. His knights vow revenge.                                                                                                        |\n",
            "|81050688                                                    |Movie  |Manu                                             |Phanindra Narsetti                                   |Raja Goutham, Chandini Chowdary, Bomma Sreedhar, John Kottoly, Srikanth Mullagiri, Ravi Teja                                                                                                                                                                                                                              |India                                                                                                                      |August 1, 2019 |2018|TV-MA   |177 min |Dramas, Independent Movies, International Movies             |The relationship between a painter and his admirer unfolds as an abstract, twist-filled hide-and-seek game against the backdrop of murder and revenge.                                                             |\n",
            "|80081505                                                    |Movie  |MI-5                                             |Bharat Nalluri                                       |Peter Firth, Kit Harington, Jennifer Ehle, Elyes Gabel, Eleanor Matsuura, Tim McInnerny, Lara Pulver, David Harewood, Tuppence Middleton                                                                                                                                                                                  |United Kingdom                                                                                                             |August 1, 2019 |2015|R       |105 min |Action & Adventure, Dramas, International Movies             |When a terrorist escapes custody, MI-5 director Harry Pearce becomes the scapegoat. But the wily veteran still has some spycraft tricks up his sleeve.                                                             |\n",
            "|60022700                                                    |Movie  |Panic Room                                       |David Fincher                                        |Jodie Foster, Forest Whitaker, Dwight Yoakam, Jared Leto, Kristen Stewart, Ann Magnuson, Ian Buchanan, Patrick Bauchau, Paul Schulze                                                                                                                                                                                      |United States                                                                                                              |August 1, 2019 |2002|R       |112 min |Thrillers                                                    |A woman and her daughter are caught in a game of cat-and-mouse with burglars in their New York City home and are forced to retreat inside a vault.                                                                 |\n",
            "|81155880                                                    |TV Show|Regiment Diaries                                 |NULL                                                 |NULL                                                                                                                                                                                                                                                                                                                      |India                                                                                                                      |August 1, 2019 |2018|TV-14   |1 Season|Docuseries, International TV Shows                           |Historical footage and interviews with soldiers showcase war stories, unique traditions and unifying principles of the Indian Army’s various regiments.                                                            |\n",
            "|915927                                                      |Movie  |Rocky                                            |John G. Avildsen                                     |Sylvester Stallone, Talia Shire, Burt Young, Carl Weathers, Burgess Meredith, Thayer David, Joe Spinell, Jimmy Gambina, Bill Baldwin                                                                                                                                                                                      |United States                                                                                                              |August 1, 2019 |1976|PG      |120 min |Action & Adventure, Classic Movies, Dramas                   |Sylvester Stallone shot to fame as Rocky Balboa, an unknown fighter who's given a shot at fighting world champ Apollo Creed as a publicity stunt.                                                                  |\n",
            "|916043                                                      |Movie  |Rocky II                                         |Sylvester Stallone                                   |Sylvester Stallone, Talia Shire, Burt Young, Carl Weathers, Burgess Meredith, Tony Burton, Joe Spinell, Leonard Gaines, John Pleshette, Sylvia Meals                                                                                                                                                                      |United States                                                                                                              |August 1, 2019 |1979|PG      |119 min |Dramas, Sports Movies                                        |Featuring a rousing climax, this engaging sequel finds boxer Rocky Balboa returning to the ring for a rematch against reigning champ Apollo Creed.                                                                 |\n",
            "|60010836                                                    |Movie  |Rocky III                                        |Sylvester Stallone                                   |Sylvester Stallone, Talia Shire, Burt Young, Carl Weathers, Burgess Meredith, Tony Burton, Mr. T, Hulk Hogan, Ian Fried                                                                                                                                                                                                   |United States                                                                                                              |August 1, 2019 |1982|PG      |100 min |Dramas, Sports Movies                                        |After taking a pounding from a powerful young fighter, humbled world champ Rocky Balboa turns to ex-rival Apollo Creed for help in regaining his form.                                                             |\n",
            "|916061                                                      |Movie  |Rocky IV                                         |Sylvester Stallone                                   |Sylvester Stallone, Talia Shire, Burt Young, Carl Weathers, Dolph Lundgren, Brigitte Nielsen, Tony Burton, Michael Pataki                                                                                                                                                                                                 |United States                                                                                                              |August 1, 2019 |1985|PG      |92 min  |Dramas, Sports Movies                                        |Rocky Balboa takes on the Cold War, coming out of retirement to battle a Soviet fighter who pulverized Rocky's friend and former rival, Apollo Creed.                                                              |\n",
            "|60025674                                                    |Movie  |Rocky V                                          |John G. Avildsen                                     |Sylvester Stallone, Talia Shire, Burt Young, Richard Gant, Tommy Morrison, Sage Stallone, Burgess Meredith, Tony Burton                                                                                                                                                                                                   |United States                                                                                                              |August 1, 2019 |1990|PG-13   |104 min |Dramas, Sports Movies                                        |Inspired by the memory of his trainer, a broke and seemingly careerless Rocky finds glory in training and takes on an up-and-coming boxer.                                                                         |\n",
            "|70039168                                                    |Movie  |Rumor Has It                                     |Rob Reiner                                           |Jennifer Aniston, Kevin Costner, Shirley MacLaine, Mark Ruffalo, Richard Jenkins, Christopher McDonald, Steve Sandvoss, Mena Suvari, Mike Vogel                                                                                                                                                                           |United States, Germany, Australia                                                                                          |August 1, 2019 |2005|PG-13   |97 min  |Comedies, Romantic Movies                                    |When Sarah travels to California for her sister's wedding, she hears a rumor that her family was the real-life inspiration for \"The Graduate.\"                                                                     |\n",
            "|81103092                                                    |Movie  |Running Out Of Time                              |Chris Stokes                                         |Tasha Smith, RonReaco Lee, Telma Hopkins, Sydney Elise Johnson, Sean Dominic, Dustin Harnish, Paul Logan, Kearia Schroeder, Michael Toland, Anton Peeples                                                                                                                                                                 |United States                                                                                                              |August 1, 2019 |2018|TV-14   |88 min  |Thrillers                                                    |Held hostage by men searching for a secret her late husband left behind, a recent widow and her family race against time to find a way out.                                                                        |\n",
            "|80242065                                                    |TV Show|Sleepless Society: Nyctophobia                   |NULL                                                 |Chermarn Boonyasak, Nattapat Nimjirawat, Jason Young, Matthew Deane Chanthavanij, Inthira Charoenpura, Natharinee Kanasoot                                                                                                                                                                                                |Thailand                                                                                                                   |August 1, 2019 |2019|TV-MA   |1 Season|International TV Shows, TV Mysteries, TV Thrillers           |Following the death of her child, a grief-stricken woman struggles to find peace until a mysterious boy appears, claiming to be her reincarnated son.                                                              |\n",
            "|60031278                                                    |Movie  |Something's Gotta Give                           |Nancy Meyers                                         |Jack Nicholson, Diane Keaton, Keanu Reeves, Frances McDormand, Amanda Peet, Jon Favreau, Paul Michael Glaser, Rachel Ticotin                                                                                                                                                                                              |United States                                                                                                              |August 1, 2019 |2003|PG-13   |128 min |Comedies, Romantic Movies                                    |Still sexy at 60, Harry Sanborn wines and dines women half his age. But a getaway with his girlfriend goes awry when her mother drops in unannounced.                                                              |\n",
            "|60001363                                                    |Movie  |Space Cowboys                                    |Clint Eastwood                                       |Clint Eastwood, Tommy Lee Jones, Donald Sutherland, James Garner, James Cromwell, Marcia Gay Harden, William Devane, Loren Dean, Courtney B. Vance, Rade Serbedzija, Barbara Babcock, Blair Brown                                                                                                                         |United States                                                                                                              |August 1, 2019 |2000|PG-13   |130 min |Action & Adventure, Dramas, Sci-Fi & Fantasy                 |A retired engineer agrees to help NASA prevent a Russian satellite from falling to Earth if he and his over-the-hill pals can man the mission.                                                                     |\n",
            "|81103517                                                    |TV Show|The Chefs' Line                                  |NULL                                                 |Dan Hong, Mark Olive, Melissa Leong, Maeve O'Meara                                                                                                                                                                                                                                                                        |Australia                                                                                                                  |August 1, 2019 |2017|TV-14   |1 Season|International TV Shows, Reality TV                           |Home cooks face off against trained chefs to see if passion can beat profession in the kitchen in this reality competition show.                                                                                   |\n",
            "|60026477                                                    |Movie  |To Wong Foo, Thanks for Everything! Julie Newmar |Beeban Kidron                                        |Patrick Swayze, Wesley Snipes, John Leguizamo, Stockard Channing, Blythe Danner, Arliss Howard, Jason London, Chris Penn, Melinda Dillon, Beth Grant, Alice Drummond, Marceline Hugot, Michael Vartan, RuPaul Charles, Julie Newmar                                                                                       |United States                                                                                                              |August 1, 2019 |1995|PG-13   |108 min |Comedies, Cult Movies, LGBTQ Movies                          |Three New York drag queens on their way to Hollywood for a beauty pageant get stranded in a small Midwestern town when their car breaks down.                                                                      |\n",
            "|80094096                                                    |Movie  |Wazir                                            |Bejoy Nambiar                                        |Amitabh Bachchan, Farhan Akhtar, Aditi Rao Hydari, Manav Kaul, Neil Nitin Mukesh, John Abraham                                                                                                                                                                                                                            |India                                                                                                                      |August 1, 2019 |2016|TV-MA   |98 min  |Dramas, International Movies, Thrillers                      |Helping an amputee grandmaster settle the score for his tragic past, a grieving detective unravels a conspiracy more complicated than he imagined.                                                                 |\n",
            "|81085824                                                    |Movie  |White Chamber                                    |Paul Raschid                                         |Shauna MacDonald, Oded Fehr, Amrita Acharia, Sharon Maughan, Nicholas Farrell, Candis Nergaard, Marcus Griffiths, Adrianna Edwards, Sumit Chakravarti, Lisa Reynolds                                                                                                                                                      |United Kingdom                                                                                                             |August 1, 2019 |2018|TV-MA   |89 min  |Sci-Fi & Fantasy, Thrillers                                  |When a civil war ravages the UK, a scientist awakens in a futuristic cell and is tortured by her captor for information she claims she doesn't possess.                                                            |\n",
            "|1171655                                                     |Movie  |Bean: The Ultimate Disaster Movie                |Mel Smith                                            |Rowan Atkinson, Peter MacNicol, John Mills, Pamela Reed, Harris Yulin, Burt Reynolds, Larry Drake, Danny Goldring, Johnny Galecki, Chris Ellis, Andrew Lawrence, Peter Egan, Peter Capaldi, June Brown, Peter James, Sandra Oh                                                                                            |United Kingdom, United States                                                                                              |August 1, 2018 |1997|PG-13   |89 min  |Comedies, International Movies                               |Disaster-prone Mr. Bean is sent to Los Angeles to guard a famous painting, but as he's unfit for any physical task, everything goes hilariously wrong.                                                             |\n",
            "|80226279                                                    |TV Show|Becoming Champions                               |NULL                                                 |NULL                                                                                                                                                                                                                                                                                                                      |Mexico                                                                                                                     |August 1, 2018 |2018|TV-G    |1 Season|Docuseries, International TV Shows                           |This series looks at the stories behind the athletes and countries that have achieved World Cup champion status.                                                                                                   |\n",
            "|80993489                                                    |Movie  |Being Napoleon                                   |Jesse Handsher, Olivier Roland                       |Mark Schneider, Frank Samson                                                                                                                                                                                                                                                                                              |United States                                                                                                              |August 1, 2018 |2018|TV-14   |88 min  |Documentaries                                                |On the 200th anniversary of the Battle of Waterloo, thousands of enthusiasts reenact the epic clash. But there can only be one Napoleon.                                                                           |\n",
            "|70033643                                                    |Movie  |Casino Tycoon                                    |Wong Jing                                            |Wong Jing                                                                                                                                                                                                                                                                                                                 |Hong Kong                                                                                                                  |August 1, 2018 |1992|TV-MA   |125 min |Action & Adventure, Dramas, International Movies             |When Japanese troops invade Hong Kong, young Benny Ho flees to Macau and rises to the top of the city's casino business with pluck, diligence and wit.                                                             |\n",
            "|70233317                                                    |Movie  |Chernobyl Diaries                                |Bradley Parker                                       |Ingrid Bolsø Berdal, Dimitri Diatchenko, Olivia Taylor Dudley, Devin Kelley, Jesse McCartney, Nathan Phillips, Jonathan Sadowski, Alex Feldman, Kristof Konrad, Pasha D. Lychnikoff                                                                                                                                       |United States                                                                                                              |August 1, 2018 |2012|R       |88 min  |Horror Movies, Thrillers                                     |A group of kids takes an illegal tour through an abandoned city near Chernobyl, where mysterious humanoid forms begin to haunt their steps...                                                                      |\n",
            "|80997858                                                    |Movie  |Doubles Cause Troubles                           |Wong Jing                                            |Carol 'Do Do' Cheng, Maggie Cheung, Wilson Lam, Chan Pak-cheung, Charlie Cho, Tom Poon, Kwan Ming-yuk, Hon Yee-Sang, Sherman Wong, Lo Fan                                                                                                                                                                                 |Hong Kong                                                                                                                  |August 1, 2018 |1989|TV-14   |94 min  |Action & Adventure, Comedies, International Movies           |When the tenant in their flat dies under suspicious circumstances, two bickering cousins are forced to navigate both sides of the law.                                                                             |\n",
            "|80238607                                                    |Movie  |Flock of Four                                    |Gregory Caruso                                       |Braeden Lemasters, Isaac Jay, Uriah Shelton, Dylan Riley Snyder, Coco Jones, Shane Harper, Nadji Jeter, Connor Paolo, Gatlin Green, Reg E. Cathey                                                                                                                                                                         |United States                                                                                                              |August 1, 2018 |2018|TV-MA   |83 min  |Dramas, Independent Movies, Music & Musicals                 |One night in 1959, four young musicians venture from Pasadena to South-Central Los Angeles in the hopes of hearing a living jazz legend play.                                                                      |\n",
            "|80039485                                                    |Movie  |Hero                                             |Corey Yuen                                           |Takeshi Kaneshiro, Yuen Biao, Valerie Chow, Jessica Hester Hsuan, Tak Yuen, Wah Yuen, Corey Yuen                                                                                                                                                                                                                          |Hong Kong, China                                                                                                           |August 1, 2018 |1997|TV-MA   |89 min  |Action & Adventure, International Movies                     |A pugilist from Shantung struggles to rise to the top of the Shanghai triad ladder, where his stellar martial arts talents can shine.                                                                              |\n",
            "|80998560                                                    |Movie  |History of Joy                                   |Vishnu Govindhan                                     |Vishnu Vinay, Vinay Forrt, Saikumar, Joju George, Nobi, Sreekumar, Nandu, Sunil Sukhada                                                                                                                                                                                                                                   |India                                                                                                                      |August 1, 2018 |2017|TV-14   |118 min |Dramas, International Movies                                 |The life of a high-flying law student takes a drastic turn when a bout of misfortune changes his status in society for good.                                                                                       |\n",
            "|70043379                                                    |Movie  |Initial D                                        |Andrew Lau Wai-Keung, Alan Mak                       |Jay Chou, Anne Suzuki, Edison Chen, Anthony Wong Chau-Sang, Shawn Yue, Chapman To, Jordan Chan, Kenny Bee                                                                                                                                                                                                                 |China, Hong Kong                                                                                                           |August 1, 2018 |2005|TV-14   |109 min |Action & Adventure, International Movies                     |By day, an 18-year-old delivers tofu for his father, a retired race car driver; but by night, it's the teen's turn to take the wheel.                                                                              |\n",
            "|80232892                                                    |Movie  |Invisible                                        |Pablo Giorgelli                                      |Mora Arenillas, Mara Bestelli, Diego Cremonesi                                                                                                                                                                                                                                                                            |Argentina, France                                                                                                          |August 1, 2018 |2017|TV-MA   |87 min  |Dramas, Independent Movies, International Movies             |After learning she's pregnant, a teen grapples with the consequences while trying to go about her life as if nothing has changed.                                                                                  |\n",
            "|80998562                                                    |Movie  |Kaaliyan                                         |Jijo Pancode                                         |Tini Tom, Meghanathan, Balachandran Chullikadu, Shivaji Guruvayoor, Kottayam Purushan, Nithin George, Grace Antony, Shalu                                                                                                                                                                                                 |NULL                                                                                                                       |August 1, 2018 |2017|TV-14   |105 min |Dramas, International Movies                                 |An aggressive, wayward fisherman abandons his wife and daughters, who grow up to face the consequences of their father's mistakes.                                                                                 |\n",
            "|70124268                                                    |Movie  |Kung Fu Magoo                                    |Andrés Couturier                                     |Dylan Sprouse, Cole Sprouse, Alyson Stoner, Tom Kenny, Chris Parnell, Rodger Bumpass, Maile Flanagan, Wally Wingert, Candi Milo, Jim Ward                                                                                                                                                                                 |Mexico, United States                                                                                                      |August 1, 2018 |2010|TV-Y7   |79 min  |Children & Family Movies, Comedies                           |Shortsighted curmudgeon Mr. Magoo and his young nephew, Justin, fight such nefarious foes as kung fu villains, robot spiders and teenage mutants.                                                                  |\n",
            "|80998563                                                    |Movie  |Kuppivala                                        |Suresh Pillai                                        |Nandu, Kochu Preman, Jayakrishnan, Mohan Ayroor, M.R. Gopakumar, Shanawas, Adoor Ajayan, Dinesh Panicker                                                                                                                                                                                                                  |NULL                                                                                                                       |August 1, 2018 |2017|TV-14   |133 min |Dramas, International Movies, Romantic Movies                |A young woman talented at traditional dance finds her life changed when her love for a man clashes with the wishes of her father.                                                                                  |\n",
            "|80998564                                                    |Movie  |Lechmi                                           |B.N. Shajeer Sha                                     |Parvathy Ratheesh, Biju Sopanam, Sethulekshmi Amma, Molly Angamaly                                                                                                                                                                                                                                                        |India                                                                                                                      |August 1, 2018 |2017|TV-14   |147 min |Comedies, Horror Movies, International Movies                |The spirit of a murdered woman contacts four bachelors, enlisting their help to find her killer.                                                                                                                   |\n",
            "|80997864                                                    |Movie  |Little Dragon Maiden                             |Hua Shan                                             |Leslie Cheung, Jing-Jing Yung, Chen Kuan-tai, Leanne Liu, Tanny Tien Ni                                                                                                                                                                                                                                                   |Hong Kong                                                                                                                  |August 1, 2018 |1983|TV-14   |92 min  |Action & Adventure, International Movies, Romantic Movies    |Seeking to improve his combat skills, a young man falls in love with a woman with mystical powers, but his past stands in the way of their union.                                                                  |\n",
            "|80035685                                                    |TV Show|Los tiempos de Pablo Escobar                     |Alessandro Angulo                                    |NULL                                                                                                                                                                                                                                                                                                                      |Colombia                                                                                                                   |August 1, 2018 |2012|TV-MA   |1 Season|Crime TV Shows, Docuseries, International TV Shows           |Featuring never-before-seen images, personal testimonies and more, this is the story of one of the most notorious drug smugglers of all time.                                                                      |\n",
            "|70142792                                                    |Movie  |Love In A Puff                                   |Pang Ho-cheung                                       |Miriam Chin Wah Yeung, Shawn Yue, Singh Hartihan Bitto, Yat Ning Chan, Tat-Ming Cheung, Matt Chow, Chui Tien-you, Queenie Chu, Charmaine Fong, Vincent Kok                                                                                                                                                                |Hong Kong                                                                                                                  |August 1, 2018 |2010|TV-MA   |103 min |Comedies, Dramas, International Movies                       |When the Hong Kong government enacts a ban on smoking cigarettes indoors, the new law drives hard-core smokers outside, facilitating a meeting between Cherie, a makeup saleswoman, and Jimmy, an advertising exec.|\n",
            "|81002214                                                    |Movie  |Mahabharat                                       |Amaan Khan                                           |Amitabh Bachchan, Ajay Devgn, Vidya Balan, Shatrughan Sinha, Sunny Deol, Anil Kapoor, Manoj Bajpayee, Jackie Shroff, Anupam Kher, Deepti Naval                                                                                                                                                                            |India                                                                                                                      |August 1, 2018 |2013|TV-14   |119 min |Action & Adventure, Dramas, International Movies             |Two young brothers encounter a singing bird who treats them to a musical reinterpretation of one of India’s most epic ancient tales.                                                                               |\n",
            "|80993656                                                    |Movie  |Mater                                            |Pablo D'Alo Abba                                     |Lautaro Perotti, Tamara Kiper, Inda Lavalle, Miriam Odorico, Araceli Dvoskin, Gonzalo Ruiz, Patricio Aranguren, Marina Bellati, Luciana Fuks, Martin Slipak                                                                                                                                                               |Argentina                                                                                                                  |August 1, 2018 |2017|TV-MA   |80 min  |Dramas, Independent Movies, International Movies             |A single man in his 30s overwhelmed by his domineering mother meets a lesbian couple willing to go to extreme lengths to have a child.                                                                             |\n",
            "|80998568                                                    |Movie  |Melle                                            |Binu Ulahhannan                                      |Amith Chakalakkal, Thanuja Karthik, Joy Mathew, Joju George, Krishna Prabha, Ambika Mohan, P. Balachandran, Illikkett Namboothiri                                                                                                                                                                                         |India                                                                                                                      |August 1, 2018 |2017|TV-PG   |110 min |Dramas, International Movies, Romantic Movies                |After recovering from a tragic experience, a young woman makes a journey to her father's homeland and falls in love with a kind-hearted doctor.                                                                    |\n",
            "|80998565                                                    |Movie  |Minnaminugu the FireFly                          |Anil Thomas                                          |Surabhi Lakshmi, Krishnan Balakrishnan, Rebecca Santhosh, Prem Prakash, Archana Padmini                                                                                                                                                                                                                                   |India                                                                                                                      |August 1, 2018 |2017|TV-PG   |128 min |Dramas, International Movies                                 |A nameless widow juggles multiple jobs to support her daughter’s decision to study abroad, only to discover that she has other plans.                                                                              |\n",
            "|80998566                                                    |Movie  |Mythily Veendum Varunnu                          |Sabu Varghese                                        |Udhay, Kiran Raj, I.M. Vijayan, Sandhanam, Shivani Bhai, Sangeetha Balan                                                                                                                                                                                                                                                  |India                                                                                                                      |August 1, 2018 |2017|TV-14   |88 min  |Horror Movies, International Movies                          |After losing her father, a young woman moves to the city to earn money. When she finds a job at a mysterious bungalow, her worst nightmares come true.                                                             |\n",
            "|81001379                                                    |Movie  |Once In A Lifetime Sessions with Moby            |Matt Askem                                           |Moby, Alex Cohen                                                                                                                                                                                                                                                                                                          |NULL                                                                                                                       |August 1, 2018 |2018|TV-PG   |86 min  |Documentaries, Music & Musicals                              |Through performances and interviews, musician Moby opens up about his unusual childhood, his heroes and the stories behind his songs.                                                                              |\n",
            "|81001381                                                    |Movie  |Once In A Lifetime Sessions with Nile Rodgers    |Charlie Lightening                                   |Nile Rodgers                                                                                                                                                                                                                                                                                                              |NULL                                                                                                                       |August 1, 2018 |2018|TV-PG   |70 min  |Documentaries, Music & Musicals                              |The career of rhythm guitarist and Chic founder Nile Rodgers is chronicled in this musical blend of documentary and original concert performance.                                                                  |\n",
            "|81001382                                                    |Movie  |Once In A Lifetime Sessions with Noel Gallagher  |Charlie Lightening                                   |Noel Gallagher                                                                                                                                                                                                                                                                                                            |NULL                                                                                                                       |August 1, 2018 |2018|TV-MA   |66 min  |Documentaries, Music & Musicals                              |Between scenes from an intimate performance, the Oasis legend reflects on his road to stardom and offers insights on his creative process.                                                                         |\n",
            "|81001383                                                    |Movie  |Once In A Lifetime Sessions with TLC             |Matt Askem                                           |NULL                                                                                                                                                                                                                                                                                                                      |NULL                                                                                                                       |August 1, 2018 |2018|TV-PG   |72 min  |Documentaries, Music & Musicals                              |One of the most successful female groups in music history, TLC performs in concert while taking a look back at their tumultuous history.                                                                           |\n",
            "|80998567                                                    |Movie  |Oru Vishsheshapetta Biryani Kissa                |Kiran Narayanan                                      |Nedumudi Venu, V.K. Sriraman, Lena, Sunil Sukhada, Mammukoya, Joju George, Bhagath Baby Manuel, Sasi Kalinga                                                                                                                                                                                                              |NULL                                                                                                                       |August 1, 2018 |2017|TV-14   |122 min |Comedies, Dramas, International Movies                       |When the village's biryani cook unexpectedly passes, a widow steps up to the plate and takes on new delectable challenges.                                                                                         |\n",
            "|81002215                                                    |Movie  |P Se PM Tak                                      |Kundan Shah                                          |Meenakshi Dixit, Indrajeet Soni, Bharat Jadhav, Yashpal Sharma, Anjan Srivastav, Deepak Shirke, Akhilendra Mishra, Mushtaq Khan, Aanand Kale                                                                                                                                                                              |India                                                                                                                      |August 1, 2018 |2015|TV-14   |117 min |Comedies, Independent Movies, International Movies           |A prostitute who is down on her luck gets caught in the middle of an elaborate scheme orchestrated by two local politicians.                                                                                       |\n",
            "|70105338                                                    |Movie  |R.L. Stine's Mostly Ghostly                      |Richard Correll                                      |Madison Pettis, Sterling Beaumon, Luke Benward, Brian Stepanek, David DeLuise, Kim Rhodes, Adam Hicks, Ali Lohan, Sabrina Bryan, Rachel Winfree, Diego Acuña                                                                                                                                                              |United States                                                                                                              |August 1, 2018 |2008|PG      |98 min  |Children & Family Movies, Comedies                           |After discovering a pair of young ghosts, a nebbish 11-year-old agrees to help the sibling spirits solve the mystery surrounding their demise.                                                                     |\n",
            "|81014824                                                    |Movie  |Rangreza                                         |Amir Mohiuddin                                       |Urwa Hocane, Bilal Ashraf, Gohar Rasheed, Saleem Mairaj, Ghana Ali, Shahid Naqvi                                                                                                                                                                                                                                          |Pakistan                                                                                                                   |August 1, 2018 |2017|TV-14   |126 min |Dramas, International Movies, Music & Musicals               |A high-flying rock star and son of a politician falls for a woman from a qawwal family, leading to a love triangle that may consume everyone involved.                                                             |\n",
            "|81013200                                                    |Movie  |Sudani from Nigeria                              |Zakariya                                             |Soubin Shahir, Samuel Abiola Robinson, Savithri Sredharan, Aneesh Menon                                                                                                                                                                                                                                                   |India                                                                                                                      |August 1, 2018 |2018|TV-PG   |115 min |Comedies, Dramas, International Movies                       |When a soccer club manager brings one of his injured foreign players home to recuperate, they form an unlikely bond despite their cultural differences.                                                            |\n",
            "|80230018                                                    |TV Show|Switched                                         |NULL                                                 |Daiki Shigeoka, Tomohiro Kamiyama, Kaya Kiyohara, Miu Tomita, Reika Kirishima, Shinji Rokkaku, Miu Suzuki, Riko Hisada, Megumi Seki, Shoko Nakajima                                                                                                                                                                       |Japan                                                                                                                      |August 1, 2018 |2018|TV-MA   |1 Season|International TV Shows, TV Dramas, TV Mysteries              |High schooler Ayumi's perfect world evaporates when her envious classmate Zenko somehow steals her body, her boyfriend and her life.                                                                               |\n",
            "|80242916                                                    |TV Show|The Could’ve-Gone-All-the-Way Committee          |NULL                                                 |Jiro Sato, Mai Shiraishi, Takayuki Yamada, Shotaro Mamiya, Tamotsu Kanshuji, Yuka Ogura, Kenta Hamano, Yuka Kuramochi, Yuki Morinaga, Rena Takeda, Munenori Nagano, Shiori Enatsu, Toru Tezuka, Yosuke Sugino, Maika Yamamoto, Akiyoshi Nakao, Aoi Morikawa, Masato Yano, Mari Yamachi, Megumi, Mayuko Fukuda, Yuta Koseki|Japan                                                                                                                      |August 1, 2018 |2018|TV-14   |1 Season|International TV Shows, Romantic TV Shows, TV Dramas         |People bring their stories of missed lust connections to an objective panel of experts who then judge whether they could have gone all the way or not.                                                             |\n",
            "|80041339                                                    |Movie  |The Diabolical                                   |Alistair Legrand                                     |Ali Larter, Arjun Gupta, Max Rose, Merrin Dungey, Chloe Perrin, Kurt Carley, Patrick Fischler, Wilmer Calderon, Tom Wright                                                                                                                                                                                                |United States                                                                                                              |August 1, 2018 |2015|TV-MA   |86 min  |Horror Movies, Sci-Fi & Fantasy, Thrillers                   |Terrorized by unexplained disturbances and horrific visions in her home, a young widowed mother turns to her scientist boyfriend for help.                                                                         |\n",
            "|70105371                                                    |Movie  |The Informant!                                   |Steven Soderbergh                                    |Matt Damon, Scott Bakula, Joel McHale, Melanie Lynskey, Thomas F. Wilson, Patton Oswalt, Tony Hale, Eddie Jemison, Paul F. Tompkins, Tom Papa                                                                                                                                                                             |United States                                                                                                              |August 1, 2018 |2009|R       |108 min |Comedies, Dramas                                             |While gathering evidence against his employer to help the FBI build a price-fixing case, Mark Whitacre begins to piece together a fantasy world.                                                                   |\n",
            "|60022962                                                    |Movie  |The Parole Officer                               |John Duigan                                          |Steve Coogan, Emma Gilmour, Susan Jane Tanner, Iain Mitchell, James Smith, Om Puri, Steven Waddington, Ben Miller, Lena Headey, Jenny Agutter                                                                                                                                                                             |United Kingdom                                                                                                             |August 1, 2018 |2001|R       |94 min  |Action & Adventure, Comedies                                 |After witnessing a murder, Simon Garden is framed – and the only evidence that proves his innocence is a videotape locked inside a bank vault.                                                                     |\n",
            "|81002213                                                    |Movie  |Tikli and Laxmi Bomb                             |Aditya Kripalani                                     |Vibhawari Deshpande, Chitrangada Chakraborty, Suchitra Pillai, Upendra Limaye, Divya Unny, Kritika Pande, Mayur More, Kamil Shaikh                                                                                                                                                                                        |India                                                                                                                      |August 1, 2018 |2017|TV-MA   |151 min |Dramas, International Movies                                 |Two frustrated sex workers cut out the middlemen from their business affairs and start a cooperative that's run entirely by women.                                                                                 |\n",
            "|80190147                                                    |Movie  |A Sort of Homecoming                             |Maria Burton                                         |Laura Marano, Parker Mack, Katherine McNamara, Marcus Lyle Brown, Shayne Topp, Michelle Clunie, Kathleen Wilhoite                                                                                                                                                                                                         |United States                                                                                                              |August 1, 2017 |2015|TV-PG   |89 min  |Dramas, Independent Movies                                   |Ace news producer Amy is called back to her Louisiana hometown where memories of what used to be – and what might have been – come flooding back.                                                                  |\n",
            "|80190149                                                    |Movie  |All Hallows' Eve                                 |Charlie Vaughn                                       |Lexi Giovagnoli, Ashley Argota, John DeLuca, Diane Salinger, Martin Klebba, Tracey Gold, Dee Wallace, Pilot Paisley-Rose, Daniel Cooksley, Vincent Giovagnoli, Dillon Cavitt                                                                                                                                              |United States                                                                                                              |August 1, 2017 |2016|TV-G    |92 min  |Children & Family Movies, Independent Movies                 |Instead of summoning the spirit of her dearly departed mother, a charming teen accidentally awakens a vengeful witch who wants to destroy her town.                                                                |\n",
            "|80195886                                                    |Movie  |Anarkali of Aarah                                |Avinash Das                                          |Swara Bhaskar, Sanjay Mishra, Vijay Kumar, Pankaj Tripathi, Mayur More, Ishtiyak Khan                                                                                                                                                                                                                                     |India                                                                                                                      |August 1, 2017 |2017|TV-MA   |111 min |Dramas, Independent Movies, International Movies             |After being sexually harassed by a drunken politician while performing at a public event, a village dancer plots revenge to clear her name.                                                                        |\n",
            "|80190148                                                    |Movie  |Annabelle Hooper and the Ghosts of Nantucket     |Paul Serafini                                        |Bailee Madison, Robert Capron, Rachel Resheff, Mavrick Moreno, Whitney Goin, Gary Weeks, Juliana Harkavy, Kevin B. McGlynn, Jamison Stern, Mia Matthews, Bianca Matthews                                                                                                                                                  |United States                                                                                                              |August 1, 2017 |2016|TV-PG   |92 min  |Children & Family Movies                                     |While vacationing on picturesque Nantucket, a crafty teenage mystery writer contends with two thieves as she tries to solve a ghostly conundrum.                                                                   |\n",
            "|80185803                                                    |TV Show|Aussie Gold Hunters                              |NULL                                                 |NULL                                                                                                                                                                                                                                                                                                                      |Australia                                                                                                                  |August 1, 2017 |2016|TV-MA   |1 Season|Docuseries, International TV Shows, Reality TV               |Three teams of gold hunters battle all manner of challenges while pursuing their dreams in the Australian Outback.                                                                                                 |\n",
            "|80147321                                                    |Movie  |Below Her Mouth                                  |April Mullen                                         |Erika Linder, Natalie Krill, Sebastian Pigott, Mayko Nguyen, Tommie-Amber Pirie, Melanie Leishman, Andrea Stefancikova, Daniela Barbosa                                                                                                                                                                                   |Canada                                                                                                                     |August 1, 2017 |2016|TV-MA   |91 min  |Dramas, Independent Movies, International Movies             |An engaged fashion editor begins a torrid affair with a female roofer that threatens to turn both of their lives upside down.                                                                                      |\n",
            "|80157177                                                    |TV Show|Bountiful Blessings                              |NULL                                                 |Jessica Hsuan, Tay Ping Hui, Thomas Ong, Jeffrey Xu, Ya Hui, Ann Kok, Zhu Houren, Yao Wenlong                                                                                                                                                                                                                             |NULL                                                                                                                       |August 1, 2017 |2011|TV-14   |1 Season|International TV Shows, TV Dramas, TV Sci-Fi & Fantasy       |A former mortal who is now the Kitchen God cooks up celestial turmoil when he impregnates and opens a restaurant with his beloved, reincarnated wife.                                                              |\n",
            "|80185369                                                    |TV Show|Close Your Eyes Before It’s Dark                 |NULL                                                 |Bryan Shu-Hao Chang, Jian Man-shu, Yen Tsao, Sun Ke-fang, Allen Chen, Jake Hsu, Chu Sheng-ping, Blue Lan                                                                                                                                                                                                                  |Taiwan                                                                                                                     |August 1, 2017 |2016|TV-14   |1 Season|Crime TV Shows, International TV Shows, TV Dramas            |While vacationing at a mountain cabin, a group of longtime friends uncovers an old scandal that could have deadly consequences.                                                                                    |\n",
            "|70248183                                                    |Movie  |Cloud Atlas                                      |Lilly Wachowski, Lana Wachowski, Tom Tykwer          |Tom Hanks, Halle Berry, Jim Broadbent, Hugo Weaving, Jim Sturgess, Doona Bae, Ben Whishaw, Keith David, James D'Arcy, Zhou Xun                                                                                                                                                                                            |Germany, United States, Hong Kong, Singapore                                                                               |August 1, 2017 |2012|R       |172 min |Action & Adventure, Cult Movies, Dramas                      |In this star-studded drama, six seemingly disparate stories explore the complicated links that humanity shares through the generations.                                                                            |\n",
            "|80185723                                                    |Movie  |Cop Watchers                                     |Ben Steele                                           |NULL                                                                                                                                                                                                                                                                                                                      |NULL                                                                                                                       |August 1, 2017 |2016|TV-MA   |45 min  |Documentaries, International Movies                          |Explore the stories of the citizens who seek to deter police brutality by observing and videotaping arrests made by the New York Police Department.                                                                |\n",
            "|80159897                                                    |TV Show|Entangled                                        |NULL                                                 |Thomas Ong, Jack Tan, Margaret Wang, Kate Pang, Huang Qi Ming, Aileen Tan, Rayson Tan, Zhang Shui Fa                                                                                                                                                                                                                      |South Korea                                                                                                                |August 1, 2017 |2014|TV-MA   |1 Season|International TV Shows, TV Dramas                            |When the children of two families become friends, they begin to unravel a horrific crime in the past that already linked their fathers to each other.                                                              |\n",
            "|# The wave for issues such as semantic network and computing|NULL   |NULL                                             |NULL                                                 |NULL                                                                                                                                                                                                                                                                                                                      |NULL                                                                                                                       |NULL           |NULL|NULL    |NULL    |NULL                                                         |NULL                                                                                                                                                                                                               |\n",
            "|80166472                                                    |TV Show|Fartsa                                           |NULL                                                 |Alexander Petrov, Fillip Gorenshtein, Maksim Emelyanov, Aleksey Vesyolkin, Zoya Berber, Ieva Andrejevaite                                                                                                                                                                                                                 |Russia                                                                                                                     |August 1, 2017 |2015|TV-MA   |1 Season|Crime TV Shows, International TV Shows, TV Dramas            |As four Russian friends grow up in the early '60s, life, love and the curse of success threaten to derail their dreams.                                                                                            |\n",
            "|80185801                                                    |TV Show|Genius of the Ancient World                      |NULL                                                 |Bettany Hughes                                                                                                                                                                                                                                                                                                            |United Kingdom                                                                                                             |August 1, 2017 |2015|TV-PG   |1 Season|British TV Shows, Docuseries, International TV Shows         |Historian Bettany Hughes travels to India, Greece and China to explore the lives and times of Buddha, Socrates and Confucius.                                                                                      |\n",
            "|80186252                                                    |TV Show|Genius of the Modern World                       |NULL                                                 |Bettany Hughes                                                                                                                                                                                                                                                                                                            |United Kingdom                                                                                                             |August 1, 2017 |2016|TV-14   |1 Season|British TV Shows, Docuseries, International TV Shows         |Historian Bettany Hughes explores the intellectual landscapes that helped shape the work of Karl Marx, Friedrich Nietzsche and Sigmund Freud.                                                                      |\n",
            "|80151962                                                    |Movie  |Handsome Devil                                   |John Butler                                          |Fionn O'Shea, Nicholas Galitzine, Andrew Scott, Michael McElhatton, Moe Dunford, Ruairí O'Connor, Jay Duffy, Mark Lavery, Jamie Hallahan, Ardal O'Hanlon, Amy Huberman                                                                                                                                                    |Ireland                                                                                                                    |August 1, 2017 |2016|TV-MA   |95 min  |Comedies, Dramas, International Movies                       |A self-described outsider is sent to a rugby-obsessed boarding school, where he forms an unexpected bond with the star player.                                                                                     |\n",
            "|80185427                                                    |TV Show|Have You Ever Fallen in Love, Miss Jiang?        |NULL                                                 |Lan Cheng-lung, Esther Yeh, He Yu-chen, Greg Han                                                                                                                                                                                                                                                                          |NULL                                                                                                                       |August 1, 2017 |2016|TV-MA   |1 Season|Crime TV Shows, International TV Shows, TV Dramas            |A new teacher finds herself in an unenviable situation after witnessing a troubling interaction between an administrator and a student.                                                                            |\n",
            "|80176179                                                    |TV Show|Hogie the Globehopper                            |NULL                                                 |Mae Elliessa                                                                                                                                                                                                                                                                                                              |United States                                                                                                              |August 1, 2017 |2016|TV-Y    |1 Season|Kids' TV                                                     |Hogie and his friends travel the world, exploring far-flung locales like Buenos Aires, Cairo, Hawaii and the Galapagos Islands.                                                                                    |\n",
            "|80190146                                                    |Movie  |Jessica Darling's It List                        |Ali Scher                                            |Chloe East, Emma Rayne Lyle, Jane Widdop, Jane Sibbett, Eric Lutes, Blair Fowler, Ashley Liao, Eva Bella, Kimrie Lewis-Davis, Abraham Benrubi                                                                                                                                                                             |United States                                                                                                              |August 1, 2017 |2016|TV-G    |80 min  |Children & Family Movies, Comedies                           |Armed with popularity tips from her beautiful older sister, precocious Jessica Darling prepares to navigate the treacherous world of seventh grade.                                                                |\n",
            "|80184595                                                    |TV Show|Life Plan A and B                                |NULL                                                 |Rainie Yang, Yan Yu-lin, Johnny Lu, Chang Fu-chien, Chen Chi-hsia                                                                                                                                                                                                                                                         |Taiwan                                                                                                                     |August 1, 2017 |2016|TV-PG   |1 Season|International TV Shows, Romantic TV Shows, TV Dramas         |Two parallel life paths begin for a man and woman in love after she is offered a lucrative promotion far away and must choose between love and career.                                                             |\n",
            "|80166481                                                    |TV Show|Locust                                           |NULL                                                 |Pyotr Fyodorov, Paulina Andreeva, Dmitry Shevchenko, Aleksey Gorbunov, Evgeniya Dmitrieva, Maksim Pinsker                                                                                                                                                                                                                 |Russia                                                                                                                     |August 1, 2017 |2014|TV-MA   |1 Season|Crime TV Shows, International TV Shows, Romantic TV Shows    |A torrid affair between a passionate lowborn poet and a wealthy Moscow heiress is engulfed by class difference, criminality and, eventually, murder.                                                               |\n",
            "|80184684                                                    |TV Show|Love Storm                                       |NULL                                                 |Chris Wu, Chen Yu, Greg Han, Esther Yeh, Yeh Chen-Ting, Deng Yu-kai                                                                                                                                                                                                                                                       |NULL                                                                                                                       |August 1, 2017 |2016|TV-PG   |1 Season|International TV Shows, Romantic TV Shows, TV Comedies       |Three grown siblings must rethink their idea of family when they learn their parents are getting divorced and have their eyes on new partners.                                                                     |\n",
            "|80179433                                                    |Movie  |Maz Jobrani: Immigrant                           |Maz Jobrani                                          |Maz Jobrani                                                                                                                                                                                                                                                                                                               |NULL                                                                                                                       |August 1, 2017 |2017|TV-MA   |67 min  |Stand-Up Comedy                                              |Iranian American comic Maz Jobrani lights up the Kennedy Center with riffs on immigrant life in the Trump era, modern parenting pitfalls and more.                                                                 |\n",
            "|80185622                                                    |TV Show|Nurses Who Kill                                  |NULL                                                 |NULL                                                                                                                                                                                                                                                                                                                      |United Kingdom                                                                                                             |August 1, 2017 |2016|TV-14   |1 Season|British TV Shows, Crime TV Shows, Docuseries                 |Top medical, criminal and psychological experts analyze the motives and methods of nurses who use their positions to kill rather than heal.                                                                        |\n",
            "+------------------------------------------------------------+-------+-------------------------------------------------+-----------------------------------------------------+--------------------------------------------------------------------------------------------------------------------------------------------------------------------------------------------------------------------------------------------------------------------------------------------------------------------------+---------------------------------------------------------------------------------------------------------------------------+---------------+----+--------+--------+-------------------------------------------------------------+-------------------------------------------------------------------------------------------------------------------------------------------------------------------------------------------------------------------+\n",
            "only showing top 150 rows\n",
            "\n"
          ]
        }
      ]
    },
    {
      "cell_type": "markdown",
      "metadata": {
        "id": "LGzPDicW4zUo"
      },
      "source": [
        "\n",
        "**Observation 1**:\n",
        "\n",
        "If we start by looking at the first column of data, we see that most of the entries are numeric IDs. If we scroll through the data we do see at least one random text entry. Let's make a note of this and browse through the rest of the data, looking for anything that might be out of the ordinary.\n",
        "\n",
        "**Problem 1**: First column contains a mix of numeric and string data.\n",
        "\n",
        "**Observation 2**:\n",
        "We can also use the `.printSchema()` method to print the inferred schema associated with the data. Notice that we have 12 columns (which is expected based on our format information) but there are no column names, incorrect datatypes, and each field is nullable. *Note: `.printSchema()` is also a Spark action.*\n",
        "\n",
        "**Problem 2**: Column names are generic.\n",
        "\n",
        "**Problem 3**: All columns are typed as strings, but appear to contain various datatypes (also reference **problem 1**)"
      ]
    },
    {
      "cell_type": "code",
      "metadata": {
        "id": "THf1tctucd9h",
        "outputId": "be315caf-a0c7-47a1-e58b-ded713b23520",
        "colab": {
          "base_uri": "https://localhost:8080/"
        }
      },
      "source": [
        "# Print schema\n",
        "titles_df.printSchema()"
      ],
      "execution_count": null,
      "outputs": [
        {
          "output_type": "stream",
          "name": "stdout",
          "text": [
            "root\n",
            " |-- _c0: string (nullable = true)\n",
            " |-- _c1: string (nullable = true)\n",
            " |-- _c2: string (nullable = true)\n",
            " |-- _c3: string (nullable = true)\n",
            " |-- _c4: string (nullable = true)\n",
            " |-- _c5: string (nullable = true)\n",
            " |-- _c6: string (nullable = true)\n",
            " |-- _c7: string (nullable = true)\n",
            " |-- _c8: string (nullable = true)\n",
            " |-- _c9: string (nullable = true)\n",
            " |-- _c10: string (nullable = true)\n",
            " |-- _c11: string (nullable = true)\n",
            "\n"
          ]
        }
      ]
    },
    {
      "cell_type": "markdown",
      "metadata": {
        "id": "RXGTHdV75wUi"
      },
      "source": [
        "## **Bypassing the CSV interpeter**\n",
        "\n",
        "Our first few data rows look ok, but we can see that we have a few random rows even in our small sample. We know the first column should be an integer value but it looks like there are some values that do not meet this requirement.\n",
        "\n",
        "Let's run a `.count()` method on our dataframe to determine how many rows are present in the dataset, regardless of whether they're correct.\n"
      ]
    },
    {
      "cell_type": "code",
      "metadata": {
        "id": "eABNrdsfOzRR",
        "outputId": "44dbdc1f-ec52-490c-9278-7238a391eac0",
        "colab": {
          "base_uri": "https://localhost:8080/"
        }
      },
      "source": [
        "# Count the number of rows\n",
        "titles_df.count()"
      ],
      "execution_count": null,
      "outputs": [
        {
          "output_type": "execute_result",
          "data": {
            "text/plain": [
              "6238"
            ]
          },
          "metadata": {},
          "execution_count": 6
        }
      ]
    },
    {
      "cell_type": "markdown",
      "metadata": {
        "id": "zYuq7DGUPtSe"
      },
      "source": [
        " Let's run a quick select statement on the DataFrame to determine the makeup of the content. We'll use some methods from the `pyspark.sql.functions` module to help us determine this. We'll alias this module as `F` for simplicity.\n",
        "\n",
        "We're going to use the `F.col` method to find the column named `_c0` in our dataframe. We'll then chain the function `.cast(\"int\")` to attempt to change each entry from a string value to an integer one. We then use the `.isNotNull()` function to find only entries that are not null. This is passed to the the `.filter()` method on the dataframe to return only rows that meet this requirement. Finally we run the `.count()` method on the resulting dataframe to get the count of rows where the first column is an integer value.\n",
        "\n",
        "An example to filter a Spark dataframe named `df_1` with a column named `_c0` would be:\n",
        "\n",
        "```\n",
        "from pyspark.sql import functions as F\n",
        "\n",
        "df_1.filter(F.col(\"_c0\").cast(\"int\").isNotNull()).show()\n",
        "```\n"
      ]
    },
    {
      "cell_type": "code",
      "metadata": {
        "id": "uznFuRdDcwTM",
        "outputId": "bcb6a747-90ca-4403-aa17-96b507b0637e",
        "colab": {
          "base_uri": "https://localhost:8080/"
        }
      },
      "source": [
        "# Import the Pyspark SQL helper functions\n",
        "from pyspark.sql import functions as F\n",
        "\n",
        "# Determine how many rows have a column that converts properly to an integer value\n",
        "titles_df.filter(F.col(\"_c0\").cast(\"int\").isNotNull()).count()"
      ],
      "execution_count": null,
      "outputs": [
        {
          "output_type": "execute_result",
          "data": {
            "text/plain": [
              "6173"
            ]
          },
          "metadata": {},
          "execution_count": 7
        }
      ]
    },
    {
      "cell_type": "markdown",
      "metadata": {
        "id": "m7_8YXWoS59q"
      },
      "source": [
        "### **Spark is different**\n",
        "\n",
        "Depending on your background, you may be very confused as to what's going on right now. If you're used to pandas, you should know that Spark behaves similarly, but there are some significant differences.\n",
        "\n",
        "#### **Spark dataframes are immutable**\n",
        "- This means that once a dataframe is created, you cannot change the contents of the dataframe, you can only create a new one.\n",
        "- We won't cover why during this class, beyond mentioning that it makes a distributed system (such as Spark) much more manageable.\n",
        "- While you cannot change a dataframe, you can create a new one.\n",
        "- Dataframes in Spark are defined with various types of *transformations*. These are the *lazy* commands we mentioned earlier. You can think of them as a recipe, or set of commands that will be run at a given time.\n",
        "- Spark *actions* (such as `.count()`, `.show()`, `.write()`, among others) instantiate the dataframe, meaning that the data is processed and available within the dataframe.\n",
        "\n",
        "The important thing to note is that these `.filter()` commands are not changing our underlying dataframe - it's creating a new dataframe with the results of the `.filter()` operation and giving us the `.count()` of that. This is all done behind the scenes for you, but it's important to understand what Spark is doing underneath.\n",
        "\n",
        "### **Back to analysis**\n",
        "\n",
        "Now that we've determined there is a difference between the number of correct entries vs all entries (ie, take the full count and subtract the filtered dataframe), let's look at the rows that aren't coverting properly.\n",
        "\n",
        "We'll do the same as before, but this time we're going to use the `.isNull()` method to obtain only the rows that can't be cast to integers. We'll use the `.show()` method to see the content.\n",
        "\n",
        "*Note, this is only possible because Spark maintains an immutable dataframe. In our previous step, we created a new dataframe from our `.filter()` command, ran an action, and then Spark threw away the dataframe as we didn't assign it to a variable. We're going to now do the same type of operation on the original `titles_df` dataframe.*"
      ]
    },
    {
      "cell_type": "code",
      "metadata": {
        "id": "FM8wY72J7qnC",
        "outputId": "d9af0554-e19f-4d3e-867a-b8f59cccb122",
        "colab": {
          "base_uri": "https://localhost:8080/"
        }
      },
      "source": [
        "# Look at rows that don't convert properly\n",
        "titles_df.filter(F.col(\"_c0\").cast(\"int\").isNull()).show(truncate=False)"
      ],
      "execution_count": null,
      "outputs": [
        {
          "output_type": "stream",
          "name": "stdout",
          "text": [
            "+------------------------------------------------------------------------------------------------------+-------------------------------------------------+-----------------------------------------------------------------------------------+----+-----+----+----+----+----+----+----+----+\n",
            "|_c0                                                                                                   |_c1                                              |_c2                                                                                |_c3 |_c4  |_c5 |_c6 |_c7 |_c8 |_c9 |_c10|_c11|\n",
            "+------------------------------------------------------------------------------------------------------+-------------------------------------------------+-----------------------------------------------------------------------------------+----+-----+----+----+----+----+----+----+----+\n",
            "|# The wave for issues such as semantic network and computing                                          |NULL                                             |NULL                                                                               |NULL|NULL |NULL|NULL|NULL|NULL|NULL|NULL|NULL|\n",
            "|TV Show                                                                                               |TV-MA                                            |Crime TV Shows, International TV Shows, Spanish-Language TV Shows                  |NULL|NULL |NULL|NULL|NULL|NULL|NULL|NULL|NULL|\n",
            "|# Which was, Change Performance Index (EPI) with an electrode at                                      |NULL                                             |NULL                                                                               |NULL|NULL |NULL|NULL|NULL|NULL|NULL|NULL|NULL|\n",
            "|# Five 40 dangerous. A more direct connection came                                                    |NULL                                             |NULL                                                                               |NULL|NULL |NULL|NULL|NULL|NULL|NULL|NULL|NULL|\n",
            "|# Heisei Hyakkei fishing village with very low                                                        |NULL                                             |NULL                                                                               |NULL|NULL |NULL|NULL|NULL|NULL|NULL|NULL|NULL|\n",
            "|# (or will advanced stage. There are                                                                  |NULL                                             |NULL                                                                               |NULL|NULL |NULL|NULL|NULL|NULL|NULL|NULL|NULL|\n",
            "|The Miracle                                                                                           |Donghyun Kim, Nahyun, Yang Hak Jin, Yoon Hwa Hong|International TV Shows, Korean TV Shows, TV Dramas                                 |NULL|NULL |NULL|NULL|NULL|NULL|NULL|NULL|NULL|\n",
            "|Movie                                                                                                 |Harold and Lillian: A Hollywood Love Story       |Harold Michelson, Lillian Michelson, Mel Brooks, Francis Ford Coppola, Danny DeVito|2015|TV-14|NULL|NULL|NULL|NULL|NULL|NULL|NULL|\n",
            "|# Site Montana energies. Like                                                                         |NULL                                             |NULL                                                                               |NULL|NULL |NULL|NULL|NULL|NULL|NULL|NULL|NULL|\n",
            "|Black Snake Moan                                                                                      |NULL                                             |NULL                                                                               |NULL|NULL |NULL|NULL|NULL|NULL|NULL|NULL|NULL|\n",
            "|# To improving example, unclear and badly stated directions                                           |NULL                                             |NULL                                                                               |NULL|NULL |NULL|NULL|NULL|NULL|NULL|NULL|NULL|\n",
            "|# Stanford Linear new ocean. He called it simply the most                                             |NULL                                             |NULL                                                                               |NULL|NULL |NULL|NULL|NULL|NULL|NULL|NULL|NULL|\n",
            "|# Europeans. Carl 2003. Regional Oceanography: an Introduction. (see                                  |NULL                                             |NULL                                                                               |NULL|NULL |NULL|NULL|NULL|NULL|NULL|NULL|NULL|\n",
            "|# Offer international anarchist thinkers, but as soon as possible.                                    |NULL                                             |NULL                                                                               |NULL|NULL |NULL|NULL|NULL|NULL|NULL|NULL|NULL|\n",
            "|Jen Kirkman                                                                                           |May 22, 2015                                     |NULL                                                                               |NULL|NULL |NULL|NULL|NULL|NULL|NULL|NULL|NULL|\n",
            "|# Hundred Views Some can get a Nobel Prize in physics World of                                        |NULL                                             |NULL                                                                               |NULL|NULL |NULL|NULL|NULL|NULL|NULL|NULL|NULL|\n",
            "|# Filipino American the 2010s expansion of the year, within the state                                 |NULL                                             |NULL                                                                               |NULL|NULL |NULL|NULL|NULL|NULL|NULL|NULL|NULL|\n",
            "|# West Side descendants, and most of northern California are dammed as part                           |NULL                                             |NULL                                                                               |NULL|NULL |NULL|NULL|NULL|NULL|NULL|NULL|NULL|\n",
            "|# To British colonial New Spain in the European Union. The EU established a legal document            |NULL                                             |NULL                                                                               |NULL|NULL |NULL|NULL|NULL|NULL|NULL|NULL|NULL|\n",
            "|# Rates than laws usually states that some historians call the creatures laboři (\"workers\", from Latin|NULL                                             |NULL                                                                               |NULL|NULL |NULL|NULL|NULL|NULL|NULL|NULL|NULL|\n",
            "+------------------------------------------------------------------------------------------------------+-------------------------------------------------+-----------------------------------------------------------------------------------+----+-----+----+----+----+----+----+----+----+\n",
            "only showing top 20 rows\n",
            "\n"
          ]
        }
      ]
    },
    {
      "cell_type": "markdown",
      "metadata": {
        "id": "jw0aLgc19Qok"
      },
      "source": [
        "**Observation 3**\n",
        "\n",
        "Looking at our content, we notice we have several types of problems:\n",
        "\n",
        "*Data problems*:\n",
        "- **Problem 4**: Comment rows - These begin with a `#` character in the first column, and all other columns are null\n",
        "- **Problem 5**: Missing first column - We have few rows that reference `TV Show` or `Movie`, which should be the 2nd column.\n",
        "- **Problem 6**: Odd columns - There are a few rows included where the columns seem out of sync (ie, a content type in the ID field, dates in the wrong column, etc).\n",
        "\n",
        "We could fairly easily remove rows that match this pattern, but we're not entirely sure what to expect here. This is a common issue when trying to parse a large amount of data, be it in native Python, in Spark, or even with command-line tools.\n",
        "\n",
        "What we need to do is bypass most of the CSV parser's intelligence, but still load the content into a DataFrame. One way to do this is to modify an option on the CSV loader.\n",
        "\n",
        "# **CSV loading**\n",
        "\n",
        "Our initial import relies on the defaults for the CSV import mechanism. This typically assumes an actual comma-separated value file using `,` between fields and a normal row level terminator (ie, `\\r\\n`, `\\r`, `\\n`). While this often works well, it doesn't always handle ever data cleaning process you'd like, especially if you want to save the errant data for later examination.\n",
        "\n",
        "One way we can trick our CSV load is to specify a custom separator that we know does not exist within our dataset. As we used above, the option to do this is called `sep` and takes a single character to be used as the column separator. The separator cannot be an empty string so depending on your data, you may need to determine a character that is not used. For our purposes, let's use a curly brace, `{`, which is most likely not present in our data."
      ]
    },
    {
      "cell_type": "code",
      "metadata": {
        "id": "Vme6VYgc8UP7"
      },
      "source": [
        "# Load the files into a DataFrame with a single column\n",
        "titles_single_df = spark.read.csv('netflix_titles_dirty*.csv.gz', sep='{')"
      ],
      "execution_count": null,
      "outputs": []
    },
    {
      "cell_type": "code",
      "metadata": {
        "id": "CyTxTDhXART2",
        "outputId": "f834e3e4-f6b9-4ee2-8d55-25ccc812c853",
        "colab": {
          "base_uri": "https://localhost:8080/"
        }
      },
      "source": [
        "# Count rows\n",
        "titles_single_df.count()"
      ],
      "execution_count": null,
      "outputs": [
        {
          "output_type": "execute_result",
          "data": {
            "text/plain": [
              "6238"
            ]
          },
          "metadata": {},
          "execution_count": 10
        }
      ]
    },
    {
      "cell_type": "code",
      "metadata": {
        "id": "JcsIM-2KBMzP",
        "outputId": "72dfb98f-b67e-4677-e977-6fe3ce1b7787",
        "colab": {
          "base_uri": "https://localhost:8080/"
        }
      },
      "source": [
        "# Show header\n",
        "titles_single_df.show(truncate=False)"
      ],
      "execution_count": null,
      "outputs": [
        {
          "output_type": "stream",
          "name": "stdout",
          "text": [
            "+--------------------------------------------------------------------------------------------------------------------------------------------------------------------------------------------------------------------------------------------------------------------------------------------------------------------------------------------------------------------------------------------------------------------------------------------------------------------------------------------------------------------------------------+\n",
            "|_c0                                                                                                                                                                                                                                                                                                                                                                                                                                                                                                                                   |\n",
            "+--------------------------------------------------------------------------------------------------------------------------------------------------------------------------------------------------------------------------------------------------------------------------------------------------------------------------------------------------------------------------------------------------------------------------------------------------------------------------------------------------------------------------------------+\n",
            "|81002212\\tMovie\\tBioscope\\tGajendra Ahire, Viju Mane, Girish Mohite, Ravi Jadhav\\tNina Kulkarni, Suhas Palshikar, Kushal Badrike, Spruha Joshi, Mangesh Desai, Smita Tambe, Veena Jamkar, Sandeep Khare\\tIndia\\tAugust 15, 2018\\t2015\\tTV-14\\t131 min\\tDramas, International Movies, LGBTQ Movies\\tInspired by classic and contemporary literature, four renowned Marathi directors create four individual stories in this anthology of short films.                                                                                  |\n",
            "|80176707\\tMovie\\tFor Here or to Go?\\tRucha Humnabadkar\\tAli Fazal, Melanie Chandra, Rajit Kapoor, Amitosh Nagpal, Omi Vaidya, Samrat Chakrabarti, Keith Stevenson\\tUnited States, India\\tAugust 15, 2018\\t2015\\tTV-MA\\t105 min\\tComedies, Dramas, Independent Movies\\tA software engineer must decide if he'd rather navigate America's frustrating visa renewal process or simply return to his home country of India.                                                                                                               |\n",
            "|80199381\\tMovie\\tHostiles\\tScott Cooper\\tChristian Bale, Rosamund Pike, Wes Studi, Jesse Plemons, Timothée Chalamet, Ben Foster, Adam Beach, Rory Cochrane, Peter Mullan, Scott Wilson, Paul Anderson, Jonathan Majors, John Benjamin Hickey, Q'orianka Kilcher, Ryan Bingham\\tUnited States\\tAugust 15, 2018\\t2017\\tR\\t134 min\\tDramas\\tAfter a long career battling the Cheyenne, a U.S. Army captain is ordered to safely escort the tribe's most influential chief to his Montana homeland.                                       |\n",
            "|80202176\\tMovie\\tHurricane Bianca: From Russia With Hate\\tMatt Kugelman\\tRoy Haylock, Rachel Dratch, Brian McCook, D.J. \"Shangela\" Pierce, Doug Plaut, Cheyenne Jackson, Kristen Johnston, Heather McDonald, Wanda Sykes, Janeane Garofalo\\tUnited States\\tAugust 15, 2018\\t2018\\tTV-MA\\t85 min\\tComedies, Independent Movies, LGBTQ Movies\\tWhen Texas teacher Richard is lured to Russia under false pretenses by his enemy Deb, his drag alter ego Bianca soon turns the country upside down.                                      |\n",
            "|81014293\\tTV Show\\tNuestra Lucha Libre\\t\\t\\t\\tAugust 15, 2018\\t2018\\tTV-MA\\t1 Season\\tDocuseries, International TV Shows, Spanish-Language TV Shows\\tThis documentary series lifts the mask on Mexican wrestling, diving into the daily lives of its stars, examining the sport’s cultural impact and more.                                                                                                                                                                                                                           |\n",
            "|81014811\\tTV Show\\tThe Creative Indians\\t\\t\\t\\tAugust 15, 2018\\t2017\\tNR\\t1 Season\\tDocuseries, International TV Shows\\tFrom chefs and comedians to filmmakers and fashion designers, India’s most notable imaginative minds share their artistic journeys.                                                                                                                                                                                                                                                                           |\n",
            "|70123118\\tMovie\\tWhat's Your Raashee?\\tAshutosh Gowariker\\tPriyanka Chopra, Harman Baweja, Suzy Brack, Gene Fojtik, Anjan Srivastav, Darshan Jariwala, Dilip Joshi, Daya Shankar Pandey, Yuri Suri, Rajesh Vivek, Geeta Tyagi\\tIndia\\tAugust 15, 2018\\t2009\\tTV-PG\\t203 min\\tComedies, International Movies, Music & Musicals\\tTo protect his family from ruin, Yogesh must marry his dream girl in only ten days, so he rushes into dating women with different astrological signs.                                                  |\n",
            "|80175913\\tTV Show\\t20 Minutes\\t\\tTuba Büyüküstün, Ilker Aksum, Bülent Emin Yarar, İpek Bilgin, Müjde Uzman, Firat Çelik, Ayten Uncuoglu, Cihat Tamer\\tTurkey\\tAugust 15, 2017\\t2013\\tTV-MA\\t1 Season\\tCrime TV Shows, International TV Shows, TV Dramas\\tWhen his wife is convicted of murder, a horrified family man races to prove her innocence while a dogged investigator sets out to uncover the truth.                                                                                                                         |\n",
            "|80182274\\tMovie\\tBarbecue\\tMatthew Salleh\\t\\tAustralia, Armenia, Japan, Jordan, Mexico, Mongolia, New Zealand, Philippines, South Africa, Sweden, United States, Uruguay\\tAugust 15, 2017\\t2017\\tTV-MA\\t101 min\\tDocumentaries, International Movies\\tA blend of cultural nuance and mesmerizing techniques adds flavor to this globe-hopping celebration of cooking, tradition and community.                                                                                                                                        |\n",
            "|80185166\\tMovie\\tBrad Paisley's Comedy Rodeo\\tJay Chapman\\tBrad Paisley, Nate Bargatze, John Heffron, Jon Reep, Sarah Tiana, Mike E. Winfield\\tUnited States\\tAugust 15, 2017\\t2017\\tTV-MA\\t63 min\\tStand-Up Comedy\\tCountry music star Brad Paisley hosts a night of music and laughs with comics Nate Bargatze, John Heffron, Jon Reep, Sarah Tiana and Mike E. Winfield.                                                                                                                                                           |\n",
            "|80068219\\tMovie\\tColin Quinn: Unconstitutional\\tJay Chapman\\tColin Quinn\\tUnited States\\tAugust 15, 2017\\t2015\\tTV-MA\\t56 min\\tStand-Up Comedy\\tNew York comedian Colin Quinn writes and stars in this live one-man stage show that dissects and deconstructs U.S. constitutional history.                                                                                                                                                                                                                                            |\n",
            "|70209163\\tMovie\\tGoon\\tMichael Dowse\\tSeann William Scott, Jay Baruchel, Liev Schreiber, Alison Pill, Marc-André Grondin, Kim Coates, Eugene Levy, Nicholas Campbell, Richard Clarkin, Jonathan Cherry\\tUnited States, Canada\\tAugust 15, 2017\\t2011\\tR\\t92 min\\tComedies, Sports Movies\\tWhen he's seen dispatching a rude opposing hockey player in the stands, Doug Glatt is hired by a rival team ... for his fighting skills.                                                                                                    |\n",
            "|80170687\\tTV Show\\tMillion Yen Women\\t\\tYojiro Noda, Rila Fukushima, Rena Matsui, Miwako Wagatsuma, Rena Takeda, Yuko Araki, Yuya Endo, Kaito Yoshimura, Moeka Hoshi, Juri Ihata, Mariko Tsutsui, Kanji Furutachi, Tetsuhiro Ikeda, Takashi Yamanaka, Tomoya Nakamura, Lily Franky\\tJapan\\tAugust 15, 2017\\t2017\\tTV-MA\\t1 Season\\tCrime TV Shows, International TV Shows, TV Dramas\\tFive beautiful but mysterious women move in with unsuccessful novelist Shin, who manages their odd household in exchange for a tidy monthly sum.|\n",
            "|80163191\\tMovie\\tMy Ex-Ex\\tNathaniel Warsh\\tAndré Bharti, Katherine Barrell, Ray Galletti, Emily Alatalo, Tamara Duarte, Randal Edwards, Alastair Forbes, Jesse Camacho\\tCanada\\tAugust 15, 2017\\t2015\\tTV-MA\\t91 min\\tComedies, Romantic Movies\\tA recently dumped attorney hires a psychic to help her win back her boyfriend. Things take an unexpected turn when another ex re-enters the picture.                                                                                                                                |\n",
            "|80184661\\tMovie\\tWe're No Animals\\tAlejandro Agresti\\tJohn Cusack, Paul Hipp, Kevin Morris, Alejandro Agresti, Mario Alarcón, Norman Briski, Lucila Solá, Juana Viale, Pablo Bossi, Leticia Brédice\\tUnited States, Argentina\\tAugust 15, 2017\\t2015\\tTV-MA\\t94 min\\tComedies, Dramas, Independent Movies\\tUnhappy with his commercial film work, a jaded Hollywood actor moves to Argentina to participate in an experimental thesis on social philosophy.                                                                           |\n",
            "|80114588\\tTV Show\\tBehind Enemy Lines\\t\\t\\tUnited States\\tAugust 15, 2016\\t2001\\tTV-14\\t1 Season\\tBritish TV Shows, Docuseries\\tAfter dire setbacks in 1940, Winston Churchill commissions a new kind of fighting force: commandos trained to use stealth and audacious tactics.                                                                                                                                                                                                                                                      |\n",
            "|80078761\\tMovie\\tBeing AP\\tAnthony Wonke\\tTony McCoy\\tUnited Kingdom\\tAugust 15, 2016\\t2015\\tTV-14\\t99 min\\tDocumentaries, International Movies, Sports Movies\\tWith retirement staring him in the face, an all-time-great jump jockey pursues his 20th consecutive title in his unrelenting quest for glory.                                                                                                                                                                                                                         |\n",
            "|80115844\\tMovie\\tJohn & Jane\\tAshim Ahluwalia\\t\\tIndia\\tAugust 15, 2016\\t2005\\tTV-14\\t79 min\\tDocumentaries, International Movies\\tTruth and fiction blend in this quasi-documentary about six exhausted workers at a Mumbai call center servicing U.S. customers.                                                                                                                                                                                                                                                                    |\n",
            "|80114111\\tMovie\\tLouis C.K.: Live at the Comedy Store\\tLouis C.K.\\tLouis C.K.\\tUnited States\\tAugust 15, 2016\\t2015\\t\\t66 min\\tMovies\\tThe comic puts his trademark hilarious/thought-provoking spin on finding a bat in his kitchen, seeing rats having sex, Boston accents and dead pets.                                                                                                                                                                                                                                           |\n",
            "|80108998\\tMovie\\tReal Crime: Supermarket Heist (Tesco Bomber)\\t\\t\\tUnited Kingdom\\tAugust 15, 2016\\t2010\\tTV-14\\t46 min\\tDocumentaries\\tIn 2000, U.K. detectives spent months tracking a criminal known only as Sally, who was targeting a supermarket chain with extortion and letter bombs.                                                                                                                                                                                                                                         |\n",
            "+--------------------------------------------------------------------------------------------------------------------------------------------------------------------------------------------------------------------------------------------------------------------------------------------------------------------------------------------------------------------------------------------------------------------------------------------------------------------------------------------------------------------------------------+\n",
            "only showing top 20 rows\n",
            "\n"
          ]
        }
      ]
    },
    {
      "cell_type": "code",
      "metadata": {
        "id": "P0HJfU--BRm1",
        "outputId": "224cade4-e195-406b-c636-dde3035867f4",
        "colab": {
          "base_uri": "https://localhost:8080/"
        }
      },
      "source": [
        "# Print schema\n",
        "titles_single_df.printSchema()"
      ],
      "execution_count": null,
      "outputs": [
        {
          "output_type": "stream",
          "name": "stdout",
          "text": [
            "root\n",
            " |-- _c0: string (nullable = true)\n",
            "\n"
          ]
        }
      ]
    },
    {
      "cell_type": "markdown",
      "metadata": {
        "id": "hSTcSJgEB-YK"
      },
      "source": [
        "# **Cleaning up our data**\n",
        "\n",
        "We know from some earlier analysis that we have comment rows in place (ie, rows that begin with a `#`). While Spark provides a DataFrame option to handle this automatically, let's consider what it would take to remove comment rows.\n",
        "\n",
        "We need to:\n",
        "\n",
        "- Determine if the column / line starts with a `#`\n",
        "- If so, filter these out to a new DataFrame\n",
        "\n",
        "There are many ways to accomplish this in Spark, but let's use a conceptually straight-forward option, `.startsWith()`."
      ]
    },
    {
      "cell_type": "code",
      "metadata": {
        "id": "Pny8lhMnBVsv",
        "outputId": "4034b392-8a27-4b17-8e50-e2c7e82335d9",
        "colab": {
          "base_uri": "https://localhost:8080/"
        }
      },
      "source": [
        "# Filter DataFrame and show rows that starts with #\n",
        "titles_single_new_df = titles_single_df.filter(F.col('_c0').startswith('#'))\n",
        "titles_single_new_df.show()"
      ],
      "execution_count": null,
      "outputs": [
        {
          "output_type": "stream",
          "name": "stdout",
          "text": [
            "+--------------------+\n",
            "|                 _c0|\n",
            "+--------------------+\n",
            "|# The wave for is...|\n",
            "|# Which was, Chan...|\n",
            "|# Five 40 dangero...|\n",
            "|# Heisei Hyakkei ...|\n",
            "|# (or will advanc...|\n",
            "|# Site Montana en...|\n",
            "|# To improving ex...|\n",
            "|# Stanford Linear...|\n",
            "|# Europeans. Carl...|\n",
            "|# Offer internati...|\n",
            "|# Hundred Views S...|\n",
            "|# Filipino Americ...|\n",
            "|# West Side desce...|\n",
            "|# To British colo...|\n",
            "|# Rates than laws...|\n",
            "|# (87.8 percent B...|\n",
            "|# On exteriority,...|\n",
            "|# Roosevelt Unive...|\n",
            "|# An \"or\". a conv...|\n",
            "|# 1611–1613 Kalma...|\n",
            "+--------------------+\n",
            "only showing top 20 rows\n",
            "\n"
          ]
        }
      ]
    },
    {
      "cell_type": "code",
      "metadata": {
        "id": "8GOHWXvmDhtu",
        "outputId": "5eabf6b3-074a-4295-d22c-07a80a044370",
        "colab": {
          "base_uri": "https://localhost:8080/"
        }
      },
      "source": [
        "# Count number of rows\n",
        "titles_single_new_df.count()"
      ],
      "execution_count": null,
      "outputs": [
        {
          "output_type": "execute_result",
          "data": {
            "text/plain": [
              "47"
            ]
          },
          "metadata": {},
          "execution_count": 14
        }
      ]
    },
    {
      "cell_type": "markdown",
      "metadata": {
        "id": "MurSx_92YsGv"
      },
      "source": [
        "We've determined that we have 47 rows that begin with a comment character. We can now easily filter these from our DataFrame as we do below. This resolves **Problem 4**.\n",
        "\n",
        "*Note: We're doing things in a more difficult fashion than is absolutely necessary to illustrate options. The Spark CSV reader has an option for a `comment` property, which actually defaults to skipping all rows starting with a `#` character. That said, it only supports a single character - consider if you were looking for multi-character options (ie, a // from C-style syntax). This feature is also only available in newer versions of Spark, where our method works in any of the 2.x Spark releases.*"
      ]
    },
    {
      "cell_type": "code",
      "metadata": {
        "id": "FnKLL42OXtkx"
      },
      "source": [
        "# Filter out comments\n",
        "titles_single_df = titles_single_df.filter(~ F.col('_c0').startswith('#'))"
      ],
      "execution_count": null,
      "outputs": []
    },
    {
      "cell_type": "code",
      "metadata": {
        "id": "MHbyFQt4aUag",
        "outputId": "f241a19d-0fe5-4fa2-b3b9-780deb3471f5",
        "colab": {
          "base_uri": "https://localhost:8080/"
        }
      },
      "source": [
        "titles_single_df.count()"
      ],
      "execution_count": null,
      "outputs": [
        {
          "output_type": "execute_result",
          "data": {
            "text/plain": [
              "6191"
            ]
          },
          "metadata": {},
          "execution_count": 16
        }
      ]
    },
    {
      "cell_type": "markdown",
      "metadata": {
        "id": "2NRGmdeqa2L3"
      },
      "source": [
        "# **Checking column counts**\n",
        "\n",
        "Our next step for cleaning this dataset in Pyspark involves determining how many columns we should have in our dataset and take care of any outliers. We know from our earlier examination that the dataset should have 12 usable columns per row.\n",
        "\n",
        "First, let's determine how many columns are present in the data and add that as a column. We'll do this with a combination of:\n",
        "\n",
        "- `F.split()`: This acts similar to the Python `split()` method, splitting the contents of a dataframe column on a specified character into a Spark ArrayType column (ie, Spark's version of a list variable).\n",
        "- `F.size()`: Returns the size (length) of a Spark ArrayType column.\n",
        "- `.withColumn()`: Creates a new dataframe with a given column."
      ]
    },
    {
      "cell_type": "code",
      "metadata": {
        "id": "0mNCitULaWL7"
      },
      "source": [
        "# Add a column representing the total number of fields / columns\n",
        "titles_single_df = titles_single_df.withColumn('fieldCount', F.size(F.split(titles_single_df['_c0'], '\\t')))"
      ],
      "execution_count": null,
      "outputs": []
    },
    {
      "cell_type": "code",
      "metadata": {
        "id": "Lv5MOxL_tuyw",
        "outputId": "36586671-e31f-4aa6-a66d-67285d3ba557",
        "colab": {
          "base_uri": "https://localhost:8080/"
        }
      },
      "source": [
        "# Show rows with a fieldcount > 12 (Note, select statement here isn't necessarily required - used to reorder the columns for easier viewing)\n",
        "titles_single_df.select('fieldcount', '_c0').where('fieldCount > 12').show(truncate=False)"
      ],
      "execution_count": null,
      "outputs": [
        {
          "output_type": "stream",
          "name": "stdout",
          "text": [
            "+----------+--------------------------------------------------------------------------------------------------------------------------------------------------------------------------------------------------------------------------------------------------------------------------------------------------------------------------------------------------------------------------------------------------------------------------------------------------------------------------------------------------------------------------------------------------------------------------------------------------------------------------------------------------------------------------------------------------------------------------------------------------------------------------------------------------------------------------------------------------------------------------------------------------------------------------+\n",
            "|fieldcount|_c0                                                                                                                                                                                                                                                                                                                                                                                                                                                                                                                                                                                                                                                                                                                                                                                                                                                                                                                       |\n",
            "+----------+--------------------------------------------------------------------------------------------------------------------------------------------------------------------------------------------------------------------------------------------------------------------------------------------------------------------------------------------------------------------------------------------------------------------------------------------------------------------------------------------------------------------------------------------------------------------------------------------------------------------------------------------------------------------------------------------------------------------------------------------------------------------------------------------------------------------------------------------------------------------------------------------------------------------------+\n",
            "|32        |80167646\\tMovie\\tThe Blind Christ\\tChristopher Murray\\tMichael Silva, Bastián Inostroza, Ana María Henríquez, Mauricio Pinto, Pedro Godoy, Hermelinda Cayo, Héctor Mella, Gonzalo Villalobos, Noelia Rubio\\tChile, France\\tAugust 1, 2017\\t2016\\tTV-MA\\t86 min\\tDramas, Independent Movies, International Movies\\tA man claiming he had a divine revelation as a child treks across the Chilean desert to perform a miracle on a friend badly injured in a remote town.\\t\\trand@pernar.biz\\thttp://is.nal.com/by/wever/was/Forgin.puliko-ifird-thembo\\taderve@becolv.edu\\t374-831-1651\\ta@of181.com\\t58861\\ttian@Mobsiz.net\\thttp://pid.org/com/naterl/of/the.matudi-laname-cology-Eurrel-of\\tecto@whount.com\\tDevial\\tan.sooms@fousit.fr\\t\\tpred@triesp.net\\thttps://tork.net/20thoo/painit.larmay14-the-Vargat8366\\tth@al.edu\\t\\tvateca@Bus.com\\t\\tinguen@Subate274.co.uk                                               |\n",
            "|30        |80118918\\tMovie\\tStrike a Pose\\tEster Gould, Reijer Zwaan\\t\\tNetherlands, Belgium\\tApril 7, 2017\\t2016\\tTV-MA\\t85 min\\tDocumentaries, International Movies, LGBTQ Movies\\tA quarter-century later, this documentary relocates the male dancers who backed Madonna on her 1990 Blond Ambition tour, as seen in \"Truth or Dare.\"\\t\\tles@hinges.net\\thttp://downs.us/bectio/is/casse.html\\tdurems@was999.co.uk\\t680-778-1031\\tBrolud@Cens.com\\t1864\\tof@gre.ru\\thttps://Bathe.tv.png\\t29@humate.us\\tby\\talled@to.com\\t\\tof@form.thin.gov\\thttps://sologe.com/Reput/plattl/Orgy/to.propor-to-tries\\tnintat@dis.net\\t\\tthenti846@fochou.en.com                                                                                                                                                                                                                                                                                 |\n",
            "|34        |80104198\\tTV Show\\tLost in Space\\t\\tMolly Parker, Toby Stephens, Max Jenkins, Taylor Russell, Mina Sundwall, Parker Posey, Ignacio Serricchio\\tUnited States\\tApril 13, 2018\\t2018\\tTV-PG\\t1 Season\\tTV Action & Adventure, TV Dramas, TV Sci-Fi & Fantasy\\tAfter crash-landing on an alien planet, the Robinson family fights against all odds to survive and escape. But they're surrounded by hidden dangers.\\t\\tthen@Unican.us\\thttp://pras.tv/Spand/whicou.arevoc-sact4-ing-taint-difica\\tne@hichor.jp\\t738-149-6607\\tres@al.com\\t6404\\tSiencl@ing.biz\\thttp://cons.us/couts.html\\tDecans@law.biz\\tpron\\tact846@as.us\\t\\tinated380@regin.com\\thttp://Kin.edu/lit/his/comatt.of-colow57-rentru-forequ-Statea-The\\taniong925@was.org\\t\\ta@center.co.uk\\t\\tdiniqu@bran.ru\\thttps://re847.us.(extio-to-His\\tprommi@bechou.edu                                                                                            |\n",
            "|35        |80207445\\tMovie\\tThe Legend of Michael Mishra\\tManish Jha\\tArshad Warsi, Aditi Rao Hydari, Kayoze Irani, Boman Irani\\tIndia\\tApril 1, 2019\\t2016\\tTV-PG\\t118 min\\tComedies, Dramas, International Movies\\tAfter a life of crime, a notorious kidnapper tries to change his ways and turn over a new leaf to win the heart of the woman he loves.\\t\\tthe@The.200.us\\thttps://by.Comens.biz/bectin/prount/tive/art.fore-com-Thenti-ind-to-not\\tagente@des.com\\t300-324-1101\\tarions@martia.com\\t93170\\tbel785@th.the.com\\thttps://so.us.asp\\tbety361@Inds510.com\\thas\\ta@the.edu\\t\\tthe.Cenesi@gain.com\\thttp://actlag.com/ing.html\\tth@Not661.us\\t\\tang231@auding.com\\t\\tpard@to.An.com\\thttp://East.biz/way/over.the91-adiver\\ta.Humacy@Nolopu.com\\t                                                                                                                                                                      |\n",
            "|35        |60000722\\tMovie\\tPhir Bhi Dil Hai Hindustani\\tAziz Mirza\\tShah Rukh Khan, Juhi Chawla, Paresh Rawal, Satish Shah, Dilip Tahil, Govind Namdeo, Smita Jaykar, Shakti Kapoor, Johnny Lever\\tIndia\\tApril 1, 2018\\t2000\\tTV-PG\\t159 min\\tComedies, Dramas, International Movies\\tIn this Bollywood entertainment, two journalists, Ajay and Ria, work for rival TV stations and compete heavily to mask their feelings for each other.\\t\\tfen.and@Rearly.com\\thttps://andepr.co.uk/eventi/Krain/thatin/inic.as-in-GeV42\\tSlonsu@imasti.com\\t999-278-9874\\tinativ.ativen@an.thand.us\\t10454\\tado.Asighw@of.conega.co.uk\\thttp://ili.com.html\\tthe@Cences.edu\\tAdmay\\tAsin@ithe.org\\t\\tthot@ustect.com\\thttps://the.com/2011/sha.a-of-forn-diseca-matind-ords\\tFicann@abled.com\\t\\tre@to.edu\\t\\tOrg@orated.gov\\thttps://the.th.ru/usheir/Bakey.reenta-ean-ory-ing\\tshil@thaved808.us\\t                                          |\n",
            "|21        |80159714\\tTV Show\\tBala Loca\\t\\tAlejandro Goic, Trinidad González, Ingrid Isensee, Mario Horton, Manuela Oyarzún, Fernanda Urrejola, Catalina Saavedra, Pablo Schwarz, Aline Küppenheim, Marcial Tagle, Víctor Quezada, Alfredo Castro, Roberto Farías, Hugo Medina, Daniel Candia, María Paz Grandjean, Alejandro Sieveking, Nicolás Durán, Sergio Hernández, Willy Semler, Erto Pantoja\\tChile\\tApril 1, 2017\\t2016\\tTV-MA\\t1 Season\\tInternational TV Shows, Spanish-Language TV Shows, TV Dramas\\tA veteran journalist starting a news site about corruption in Chile stumbles on a big story when a fellow investigative reporter dies suspiciously.\\t\\tof@Hit.org\\thttps://angly.net.html\\tUrb@Provel.the.org\\t488-752-7084\\tacton@the.com\\t29160\\tdu@hassio.com\\thttps://In.com/holis.and-ons37                                                                                                                    |\n",
            "|30        |80134695\\tTV Show\\tFree Rein\\t\\tJaylen Barron, Manpreet Bambra, Celine Buckens, Freddy Carter, Caroline Ford, Natalie Gumede, Bruce Herbelin-Earle, Noah Huntley, Kerry Ingram, Paul Luebke, Geoffrey McGivern, Navia Ziraili Robinson, Milo Twomey, Carla Woodcock\\tUnited States\\t July 6, 2019\\t2019\\tTV-G\\t3 Seasons\\tBritish TV Shows, Kids' TV, TV Dramas\\tA 15-year-old from LA spends the summer at her mom's childhood home on an island off the coast of England, where she bonds with a mysterious horse.\\t\\tknotop@of689.com\\thttp://solso.fr/prich/The/of.the-prompl-Trat-forana-ons-a-hicano\\twhis@the.com\\t812-758-6230\\tasin.ralude@cand.net\\t50496\\tforédé.inges@a.com\\thttp://is.com/uple/the.com-icalso-sectie\\tlactis@Ancitu.net\\tState\\tand@be.biz\\t\\tand@witoor751.com\\thttp://siffic.com/dry/of/molowf.The30-moso\\tcovere@larese.gov\\t\\tmat@The.com                                                |\n",
            "|32        |81033086\\tMovie\\tHoliday Rush\\tLeslie Small\\tRomany Malco, Sonequa Martin-Green, Darlene Love, Deon Cole, La La Anthony, Deysha Nelson, Amarr M. Wooten, Selena-Marie Alphonse, Andrea-Marie Alphonse\\tUnited States\\tNovember 28, 2019\\t2019\\tTV-PG\\t94 min\\tChildren & Family Movies, Dramas\\tA widowed radio DJ and his four spoiled kids need to tighten their belts and pull together when their life of luxury turns lean just before Christmas.\\t\\tpais@Thipla.org\\thttp://wilect.co.uk.suler-ort-ace-al\\tas@med370.net\\t776-579-6312\\tof@sommit.ru\\t5526\\tsitin@Hance.pulow.com\\thttps://st.ru/of/nentra/wast.ecie,-the-2012-birs-Gen-Mosted\\tAdin@non.hatesi.com\\tthe\\tadat@neces.tv\\t\\tAmborw.any@com.biz\\thttp://wer622.com/st/icatic.a-pleati20-cons-a-le\\tthely@thandu.com\\t\\tSpare.arides@be.gov\\t\\ta@wits.by.net                                                                                           |\n",
            "|33        |70044693\\tMovie\\tWorld Trade Center\\tOliver Stone\\tNicolas Cage, Michael Peña, Maggie Gyllenhaal, Maria Bello, Stephen Dorff, Jay Hernandez, Michael Shannon, Frank Whaley, Jon Bernthal, Morgan Flynn, Nick Damici, Viola Davis, William Mapother\\tUnited States\\tNovember 20, 2019\\t2006\\tPG-13\\t129 min\\tAction & Adventure, Dramas\\tWorking under treacherous conditions, an army of dedicated rescuers struggles to find anyone who survived the World Trade Center's tragic collapse.\\t\\tFredic@fic.jp\\thttps://Ther.edu/The/clobje/rultud/tousit.mon-partar-funide-whishe-ract-ex\\tversic@ctral.biz\\t545-137-8707\\tmon@and.fr\\t59454\\tpround@is.20133.com\\thttps://milans.org/sch/sulthi.asp\\tof145@dithe.com\\tHanteg\\tcorous@mance492.us\\t\\tyoted@e.fr\\thttp://fall.bothe.edu/xicter.ands,-such-OCLC-Mexpro2511\\tnothe.ack@Mexami.com\\t\\tas@ce.co.uk\\t\\tles.learog@anki.net\\thttps://flibra767.com/cial/BC/Den.jsp|\n",
            "|31        |80004534\\tMovie\\tChelsea Peretti: One of the Greats\\tLance Bangs\\tChelsea Peretti\\tUnited States\\tNovember 14, 2014\\t2014\\tNR\\t75 min\\tStand-Up Comedy\\t\"Brooklyn Nine-Nine\" star Chelsea Peretti showcases her diverse talents in this dark yet silly reimagining of the comedy special.\\t\\tAms@and.com\\thttp://of.net.jsp\\tTheite@even.org\\t292-678-0292\\tme@ention.com\\t41935\\tforlia507@ort150.tv\\thttp://linuoi.com/Mostes/Afrat/Brainc.Watmes-conati-ontarp-con\\tboratt@Faisto.ru\\tconvol\\tof@and.net\\t\\tfor@spain.tv\\thttp://arat.ru/cord/Coldit/ing.shindi-an-norte\\totleca@Car.fibefl.com\\t\\tobial557@ally.com\\t                                                                                                                                                                                                                                                                                                 |\n",
            "|33        |80218819\\tTV Show\\tWe Are the Wave\\t\\tLudwig Simon, Luise Befort, Michelle Barthel, Mohamed Issa, Daniel Friedl, Robert Schupp\\t\\tNovember 1, 2019\\t2019\\tTV-MA\\t1 Season\\tInternational TV Shows, TV Dramas, TV Mysteries\\tA mysterious classmate leads four idealistic teens in a revolt against a rising tide of nationalistic fervor, but their movement takes a dark turn.\\t\\tinted@thobse.net\\thttp://theran.Atlake.tv/thesis/Cat.html\\tof@of.Jor.tv\\t703-141-0882\\topular@thenzá.ru\\t98933\\tso@inges.net\\thttp://thers.com/hers.php\\tfre.us@hipas.com\\tThe\\tMet@The.ru\\t\\tmonadi@por.gov\\thttp://bectio.com/mener/of/joun.and-is-Sauste71\\tunis@Couth.us\\t\\tater@pe.fr\\t\\tJapeci@to.org\\thttps://Thinfr.com/fica/ems.html                                                                                                                                                                                          |\n",
            "|23        |70185023\\tMovie\\tShor In the City\\tRaj Nidimoru, Krishna D.K.\\tSendhil Ramamurthy, Tusshar Kapoor, Nikhil Dwivedi, Preeti Desai, Sundeep Kishan, Radhika Apte, Pitobash, Girija Oak, Alok Chaturvedi, Sudhir Chowdhary\\tIndia\\tMay 31, 2019\\t2011\\tTV-MA\\t106 min\\tComedies, Dramas, Independent Movies\\tWhen three small-time Mumbai crooks steal a bag on a train, they find that it's filled with weapons and realize that their lives may be in danger.\\t\\tof@ing.com\\thttp://bee.gov/mista.gif\\tpa400@onorth.com\\t789-462-1430\\tRío@of.com\\t99609\\tperbot@ent924.org\\thttp://whic.us/Noved/pris/Julter/of.jsp\\tre.land@of487.net\\tMan.                                                                                                                                                                                                                                                                               |\n",
            "|28        |80091778\\tTV Show\\tThis Is My Love\\t\\tJin-mo Joo, Sa-rang Kim, Junior, Ja-in Lee, Sung-hyun Baek, So-hui Yoon\\tSouth Korea\\tMay 22, 2017\\t2015\\tTV-14\\t1 Season\\tInternational TV Shows, Korean TV Shows, Romantic TV Shows\\tA renowned actor who is still pining over the loss of his first real love writes an autobiography about his memories of her, hoping to reconnect.\\t\\tcal182@elso252.com\\thttp://mentur.com/par/ally/Skilly.Wes),-rece55-lestag-the\\twitate@the.com\\t573-690-1082\\tlausat@How.com\\t18416\\tLiked@Porthe566.fr\\thttps://com.me.gov/of/ithenm/an/thical.tept-the37\\tof.Nomer@culand.ru\\tfill\\twelson.plaryt@Bir698.biz\\t\\tobote@crouth.us\\thttps://Intry.gov/rentri/cal/ex.les,-bor-Mact\\tan@ing.jp                                                                                                                                                                                              |\n",
            "|17        |81121186\\tMovie\\tNOVA: Prediction by the Numbers\\tDaniel McCabe\\tJay O. Sanders\\tUnited States\\tJuly 1, 2019\\t2018\\tTV-G\\t53 min\\tDocumentaries\\tWith the science of forecasting flourishing, this documentary explores how predictions inform our lives and statistics and algorithms' reliability.\\t\\tUruct@ect.fr\\thttps://Ind.us.gif\\tthe@weas.com\\t837-874-9418                                                                                                                                                                                                                                                                                                                                                                                                                                                                                                                                                      |\n",
            "|20        |80099016\\tMovie\\tIBOY\\tAdam Randall\\tBill Milner, Maisie Williams, Rory Kinnear, Miranda Richardson, Jordan Bolger, Charley Palmer Rothwell, Aymen Hamdouchi\\tUnited Kingdom\\tJanuary 27, 2017\\t2017\\tTV-MA\\t91 min\\tInternational Movies, Sci-Fi & Fantasy, Thrillers\\tWhen shards of a cell phone get lodged in a teenager's brain, he discovers he can control electronic devices and uses his newfound power for revenge.\\t\\tan@watime.com\\thttps://as.us/Earnal/sions.sm-andes-Itan\\t200000.th@antre.us\\t591-758-0224\\twhiso.fistry@sooman57.com\\t79576\\tind@agence.usiged.us                                                                                                                                                                                                                                                                                                                                        |\n",
            "|26        |70113006\\tMovie\\tThe Final Destination\\tDavid R. Ellis\\tBobby Campo, Shantel VanSanten, Nick Zano, Haley Webb, Mykelti Williamson, Krista Allen, Andrew Fiscella, Justin Welborn, Stephanie Honoré\\tUnited States\\tJanuary 1, 2020\\t2009\\tR\\t82 min\\tHorror Movies\\tNick O'Bannon thinks he's cheated death when he keeps a grisly premonition from becoming reality, but he soon realizes that fate has other plans.\\t\\tcal.gentic@win.gov\\thttps://thampe.org/the.whilly-produl27\\tbitedu504@cuilop.com\\t372-771-9479\\tmatems@lartha.tv\\t28582\\tof@foughe.org\\thttps://used.us/the/Caboha.php\\tduccut@mocked.com\\tition,\\tinumis@he.tv\\t\\ta@Leve.edu                                                                                                                                                                                                                                                                    |\n",
            "|23        |60004476\\tMovie\\tJay and Silent Bob Strike Back\\tKevin Smith\\tJason Mewes, Kevin Smith, Ben Affleck, Jeff Anderson, Brian O'Halloran, Shannon Elizabeth, Eliza Dushku, Ali Larter, Jennifer Schwalbach, Will Ferrell, Jason Lee\\tUnited States\\tJanuary 1, 2019\\t2001\\tR\\t105 min\\tComedies, Cult Movies\\tJay and Silent Bob's comic book alter egos have been sold to Hollywood without permission, so they head to Tinseltown to sabotage the production.\\t\\tthe@a.com\\thttps://werric.com/fulaya/the/The.mern10-woriag-Jultur\\tist@a.of.com\\t220-422-0555\\tAs@Scate.edu\\t48985\\twidept@now.com\\thttps://ing.biz/of/nommun/a.peny-tworiv-by\\tand@Deatin.com\\tThe                                                                                                                                                                                                                                                        |\n",
            "|27        |70286029\\tMovie\\tMonster High: Why Do Ghouls Fall in Love?\\tDustin McKenzie, Steve Sacks\\tLaura Bailey, Ogie Banks, Cam Clarke, Debi Derryberry, Erin Fitzgerald, Kate Higgins, Jonathan Lipow, Audu Paden, Cindy Robinson, Salli Saffioti, Evan Smith, America Young\\tUnited States\\tJanuary 1, 2018\\t2013\\tTV-Y7\\t46 min\\tChildren & Family Movies\\tDraculaura's ghoulfriends have some suspicions about one of her two persistent suitors – but can they stop him before he steals her un-beating heart?\\t\\tcandle@Ion.net\\thttps://us.tain.net/the/ang.Therge-troand-majoya-the-ing-thomme65\\tcoduch@Nor.fr\\t576-493-0008\\ta@exual.Burnit.us\\t51727\\tprove@socans.jp\\thttps://is.whisio.us/as/Placia/ing/Min.fory,-by32\\tspere.sedout@pon.com\\tAment\\tCend.begick@ision.gov\\t\\t1300@Swed.tv\\thttps://of.com/polles/ha.ound-foriss53-lans                                                                              |\n",
            "|35        |70039645\\tMovie\\tZach Galifianakis: Live at the Purple Onion\\tMichael Blieden\\tZach Galifianakis, Brian Unger\\tUnited States\\tFebruary 26, 2019\\t2006\\tTV-MA\\t61 min\\tStand-Up Comedy\\tThe unorthodox, piano-playing stand-up star Zach Galifianakis makes a splash on the scene and serves up a healthy dose of his signature wit.\\t\\tlarly.The@coadve.ru\\thttps://etwo.com/Unitur/be/Atly.html\\tFais@co.biz\\t971-617-7850\\tSuscho@con.gov\\t77933\\tof@fealgi.cough.net\\thttps://stmose.com/oriali/coutco/Pubgem/mal.theaus-th12-of13-wain\\tof@noulan.tv\\tDecomy\\tand@du.com\\t\\tfroper@Canic.com\\thttp://on.ru/sed/for.Naraiw-ma5\\tfourea.wits@isints.com\\t\\tcoges.gonto@of.com\\t\\tand@dozoni.Anicat.com\\thttps://wed976.com/Sparld/numark/rage/the.Nom-Agrope54997319\\tainglo@Comica.of.edu\\t                                                                                                                            |\n",
            "|15        |80198794\\tTV Show\\tRe:Mind\\t\\tKeyakizaka46\\tJapan\\tFebruary 15, 2018\\t2017\\tTV-MA\\t1 Season\\tInternational TV Shows, TV Dramas, TV Mysteries\\tEleven high school classmates awaken, restrained to a large dining room. While fearing for their lives, they question a motive to this bizarre act.\\t\\tFunifi@sideen.com\\thttp://topopu.com/to.Islato55-litent-is-artisa30-abduch                                                                                                                                                                                                                                                                                                                                                                                                                                                                                                                                           |\n",
            "+----------+--------------------------------------------------------------------------------------------------------------------------------------------------------------------------------------------------------------------------------------------------------------------------------------------------------------------------------------------------------------------------------------------------------------------------------------------------------------------------------------------------------------------------------------------------------------------------------------------------------------------------------------------------------------------------------------------------------------------------------------------------------------------------------------------------------------------------------------------------------------------------------------------------------------------------+\n",
            "only showing top 20 rows\n",
            "\n"
          ]
        }
      ]
    },
    {
      "cell_type": "code",
      "metadata": {
        "id": "Pl3Tz5rht5OC",
        "outputId": "e586c4b9-982f-49cf-eeea-53654bc0eea6",
        "colab": {
          "base_uri": "https://localhost:8080/"
        }
      },
      "source": [
        "# Check for any rows with fewer than 12 columns\n",
        "titles_single_df.select('fieldcount', '_c0').where('fieldcount < 12').show(truncate=False)"
      ],
      "execution_count": null,
      "outputs": [
        {
          "output_type": "stream",
          "name": "stdout",
          "text": [
            "+----------+-----------------------------------------------------------------------------------------------------------------------------------------------------------------------------------------------------------------------------------------------------------------------------------------------------------------------------------------------------------------------------------------------------------------------------------------------------------------------------------------------------------------------------------------------------------------------------------------------------------------------------+\n",
            "|fieldcount|_c0                                                                                                                                                                                                                                                                                                                                                                                                                                                                                                                                                                                                                          |\n",
            "+----------+-----------------------------------------------------------------------------------------------------------------------------------------------------------------------------------------------------------------------------------------------------------------------------------------------------------------------------------------------------------------------------------------------------------------------------------------------------------------------------------------------------------------------------------------------------------------------------------------------------------------------------+\n",
            "|3         |TV Show\\tTV-MA\\tCrime TV Shows, International TV Shows, Spanish-Language TV Shows                                                                                                                                                                                                                                                                                                                                                                                                                                                                                                                                            |\n",
            "|11        |80109038\\tTV Show\\tYou're My Destiny\\t\\tJoe Chen, Ethan Juan, Baron Chen, Bianca Bai, Wei-hsun Na, Tan Ai-Chen\\tTaiwan\\tAugust 1, 2016\\t2008\\tTV-14\\tInternational TV Shows, Romantic TV Shows, TV Comedies\\tA young woman's romantic cruise ends in a twist when she gets pregnant after a one-night stand with a rich executive, turning their lives upside down.                                                                                                                                                                                                                                                          |\n",
            "|11        |80227114\\tMovie\\tKüçük Esnaf\\tBedran Güzel\\tİbrahim Büyükak, Zeynep Koçak, Gupse Özay, Cengiz Bozkurt\\tTurkey\\tApril 4, 2018\\t2016\\tTV-14\\tComedies, International Movies\\tAs an honest locksmith scrambles to pay his late father's hefty debt to the mafia, he crosses paths with a woman in similar trouble and falls for her.                                                                                                                                                                                                                                                                                            |\n",
            "|8         |80108518\\tAnthony D'Souza\\tApril 12, 2019\\t2016\\tTV-PG\\t129 min\\tDramas, International Movies, Sports Movies\\tThis biopic traces the tumultuous life and career of top cricket player Mohammad Azharuddin, who led India's national team in the 1990s.                                                                                                                                                                                                                                                                                                                                                                       |\n",
            "|3         |The Miracle\\tDonghyun Kim, Nahyun, Yang Hak Jin, Yoon Hwa Hong\\tInternational TV Shows, Korean TV Shows, TV Dramas                                                                                                                                                                                                                                                                                                                                                                                                                                                                                                           |\n",
            "|11        |80179762\\tShe-Ra and the Princesses of Power\\t\\tAimee Carrero, AJ Michalka, Marcus Scribner, Karen Fukuhara, Reshma Shetty, Lorraine Toussaint, Keston John, Lauren Ash, Christine Woods, Morla Gorrondona, Antony Del Rio, Dana Davis, Grey Griffin, Genesis Rodriguez, Jordan Fisher, Vella Lovell, Merit Leighton, Sandra Oh, Krystal Joy Brown\\tUnited States\\t November 5, 2019\\t2019\\tTV-Y7-FV\\t4 Seasons\\tKids' TV, TV Action & Adventure, TV Sci-Fi & Fantasy\\tSoldier Adora finds a magic sword – and her identity as legendary hero She-Ra. She joins the Rebellion, but her best friend stays with the evil Horde.|\n",
            "|5         |Movie\\tHarold and Lillian: A Hollywood Love Story\\tHarold Michelson, Lillian Michelson, Mel Brooks, Francis Ford Coppola, Danny DeVito\\t2015\\tTV-14                                                                                                                                                                                                                                                                                                                                                                                                                                                                          |\n",
            "|1         |Black Snake Moan                                                                                                                                                                                                                                                                                                                                                                                                                                                                                                                                                                                                             |\n",
            "|10        |70178618\\tShark Night\\tDavid R. Ellis\\tSara Paxton, Dustin Milligan, Chris Carmack, Katharine McPhee, Donal Logue, Joshua Leonard, Sinqua Walls, Chris Zylka, Alyssa Diaz, Joel David Moore\\tUnited States\\tNovember 2, 2019\\t2011\\tPG-13\\t91 min\\tHorror Movies                                                                                                                                                                                                                                                                                                                                                             |\n",
            "|10        |80160504\\tLa Doña\\t\\tAracely Arámbula, David Chocarro, Danna Paola, Rebecca Jones, Odiseo Bichir, Gabriela Roel, Andrea Martí, Juan Ríos Cantú, Diego Soldano, Daniela Bascopé\\tUnited States, Mexico\\tNovember 17, 2018\\tTV-14\\t1 Season\\tSpanish-Language TV Shows, TV Dramas\\tWorlds collide and lives shatter when Altagracia, a powerful and elegant businesswoman, plots a ruthless revenge while falling in love.                                                                                                                                                                                                     |\n",
            "|5         |80195049\\tMovie\\tIbiza\\t2018\\tComedies, Romantic Movies                                                                                                                                                                                                                                                                                                                                                                                                                                                                                                                                                                      |\n",
            "|2         |Jen Kirkman\\tMay 22, 2015                                                                                                                                                                                                                                                                                                                                                                                                                                                                                                                                                                                                    |\n",
            "|10        |81077597\\tMovie\\tI Am\\tJuhi Chawla, Rahul Bose, Nandita Das, Sanjay Suri, Manisha Koirala, Purab Kohli, Shernaz Patel, Abhimanyu Singh, Arjun Mathur, Radhika Apte\\tMarch 4, 2019\\t2010\\tTV-MA\\t106 min\\tDramas, Independent Movies, International Movies\\tFour individuals in modern India grapple with their identities amid social taboos, trauma and brutal sexual discrimination in this quartet of stories.                                                                                                                                                                                                            |\n",
            "|3         |Movie\\t\\tThis fun, charming documentary follows the exploits of some very feline-friendly folks as they strive to get their kitties crowned Canada’s top cat.                                                                                                                                                                                                                                                                                                                                                                                                                                                                |\n",
            "|10        |81047677\\tMovie\\tI Dream Of Dance\\tMaria Demeshkina Peek\\t\\t\\t2017\\tTV-PG\\t106 min\\tExperience the joy and sacrifice of one of the nation's premier dance companies as its members and instructors prepare for a prestigious competition.                                                                                                                                                                                                                                                                                                                                                                                    |\n",
            "|9         |\\tKaycie Chase, David Gasman, Tom Morton, Lee Delong, Barbara Weber-Scaff\\t\\tJanuary 31, 2019\\t2018\\tTV-Y\\t1 Season\\tKids' TV\\tStan and Olivia – the amazingly different Paprika twins – use their boundless enthusiasm to turn everyday life into an extraordinary adventure.                                                                                                                                                                                                                                                                                                                                               |\n",
            "|10        |80223136\\tMovie\\tMatt Toronto\\tUnited States\\tJanuary 15, 2018\\t2017\\tTV-MA\\t89 min\\tDramas, Independent Movies\\tTwo former friends, who now live far apart, learn about each other's insecurities and secrets over a series of video chats.                                                                                                                                                                                                                                                                                                                                                                                 |\n",
            "|8         |80020131\\tKate Higgins, Debi Derryberry, Salli Saffioti, Evan Smith, Laura Bailey, Audu Paden, Erin Fitzgerald, Cindy Robinson, Ogie Banks, Cam Clarke\\tJanuary 1, 2018\\t2012\\tTV-Y7\\t46 min\\tChildren & Family Movies\\tA swanky cruise veers off course for Lagoona and her friends when they're left stranded on Skull Shores, an island with a notorious beast.                                                                                                                                                                                                                                                           |\n",
            "|1         |70213078                                                                                                                                                                                                                                                                                                                                                                                                                                                                                                                                                                                                                     |\n",
            "|5         |The 2000s\\t\\tUnited States\\tFebruary 19, 2019\\tTV-MA                                                                                                                                                                                                                                                                                                                                                                                                                                                                                                                                                                         |\n",
            "+----------+-----------------------------------------------------------------------------------------------------------------------------------------------------------------------------------------------------------------------------------------------------------------------------------------------------------------------------------------------------------------------------------------------------------------------------------------------------------------------------------------------------------------------------------------------------------------------------------------------------------------------------+\n",
            "only showing top 20 rows\n",
            "\n"
          ]
        }
      ]
    },
    {
      "cell_type": "markdown",
      "metadata": {
        "id": "S71Avac6k1h3"
      },
      "source": [
        "**Observation 4**: We notice that we have many rows with fewer or greater than 12 columns of data.\n",
        "\n",
        "**Problem 7**: Column counts do not match our expected schema."
      ]
    },
    {
      "cell_type": "code",
      "metadata": {
        "id": "YmqGCyxi7peV"
      },
      "source": [
        "# Save these to a separate dataframe for later analysis\n",
        "titles_badrows_df = titles_single_df.where('fieldcount != 12')"
      ],
      "execution_count": null,
      "outputs": []
    },
    {
      "cell_type": "code",
      "metadata": {
        "id": "Ag8tZcQ68gzr",
        "outputId": "949ab620-752e-4935-9d4f-560394be2222",
        "colab": {
          "base_uri": "https://localhost:8080/"
        }
      },
      "source": [
        "# Determine total number of \"bad\" rows\n",
        "titles_badrows_df.count()"
      ],
      "execution_count": null,
      "outputs": [
        {
          "output_type": "execute_result",
          "data": {
            "text/plain": [
              "78"
            ]
          },
          "metadata": {},
          "execution_count": 21
        }
      ]
    },
    {
      "cell_type": "markdown",
      "metadata": {
        "id": "FCDT2lN4laxn"
      },
      "source": [
        "We can now resolve **problems 5, 6, and 7** by accessing only the rows that have 12 columns present."
      ]
    },
    {
      "cell_type": "code",
      "metadata": {
        "id": "jR_BbSWA8ila"
      },
      "source": [
        "# Set the dataframe without the bad rows\n",
        "titles_single_df = titles_single_df.where('fieldcount == 12')"
      ],
      "execution_count": null,
      "outputs": []
    },
    {
      "cell_type": "code",
      "metadata": {
        "id": "VkyXBTyv8phE",
        "outputId": "f64e8287-3147-45f9-f037-8beb6a62858f",
        "colab": {
          "base_uri": "https://localhost:8080/"
        }
      },
      "source": [
        "# How many current rows in dataframe?\n",
        "titles_single_df.count()"
      ],
      "execution_count": null,
      "outputs": [
        {
          "output_type": "execute_result",
          "data": {
            "text/plain": [
              "6113"
            ]
          },
          "metadata": {},
          "execution_count": 23
        }
      ]
    },
    {
      "cell_type": "markdown",
      "metadata": {
        "id": "eYMSHgfk9ukp"
      },
      "source": [
        "# **More cleaning / prep**\n",
        "\n",
        "Now that we've removed rows that don't fit our basic formatting, let's continue on with making our dataframe more useful.\n",
        "\n",
        "First, let's create a new column that is a list (actually a Spark ArrayType column) containing all \"columns\" using the `pyspark.sql.functions.split` method. We'll call this `splitcolumn`."
      ]
    },
    {
      "cell_type": "code",
      "metadata": {
        "id": "FdV-yNUpAkr3"
      },
      "source": [
        "# Create a list of split strings as a new column named splitcolumn\n",
        "titles_cleaned_df = titles_single_df.select(F.split('_c0', '\\t').alias('splitcolumn'))"
      ],
      "execution_count": null,
      "outputs": []
    },
    {
      "cell_type": "code",
      "metadata": {
        "id": "5ku9EWddB8Su",
        "outputId": "7d43864f-ba58-4ba5-81fd-58e2540fd996",
        "colab": {
          "base_uri": "https://localhost:8080/"
        }
      },
      "source": [
        "# View the contents\n",
        "titles_cleaned_df.show(truncate=False)"
      ],
      "execution_count": null,
      "outputs": [
        {
          "output_type": "stream",
          "name": "stdout",
          "text": [
            "+----------------------------------------------------------------------------------------------------------------------------------------------------------------------------------------------------------------------------------------------------------------------------------------------------------------------------------------------------------------------------------------------------------------------------------------------------------------------------------------------------------------------------------------+\n",
            "|splitcolumn                                                                                                                                                                                                                                                                                                                                                                                                                                                                                                                             |\n",
            "+----------------------------------------------------------------------------------------------------------------------------------------------------------------------------------------------------------------------------------------------------------------------------------------------------------------------------------------------------------------------------------------------------------------------------------------------------------------------------------------------------------------------------------------+\n",
            "|[81002212, Movie, Bioscope, Gajendra Ahire, Viju Mane, Girish Mohite, Ravi Jadhav, Nina Kulkarni, Suhas Palshikar, Kushal Badrike, Spruha Joshi, Mangesh Desai, Smita Tambe, Veena Jamkar, Sandeep Khare, India, August 15, 2018, 2015, TV-14, 131 min, Dramas, International Movies, LGBTQ Movies, Inspired by classic and contemporary literature, four renowned Marathi directors create four individual stories in this anthology of short films.]                                                                                  |\n",
            "|[80176707, Movie, For Here or to Go?, Rucha Humnabadkar, Ali Fazal, Melanie Chandra, Rajit Kapoor, Amitosh Nagpal, Omi Vaidya, Samrat Chakrabarti, Keith Stevenson, United States, India, August 15, 2018, 2015, TV-MA, 105 min, Comedies, Dramas, Independent Movies, A software engineer must decide if he'd rather navigate America's frustrating visa renewal process or simply return to his home country of India.]                                                                                                               |\n",
            "|[80199381, Movie, Hostiles, Scott Cooper, Christian Bale, Rosamund Pike, Wes Studi, Jesse Plemons, Timothée Chalamet, Ben Foster, Adam Beach, Rory Cochrane, Peter Mullan, Scott Wilson, Paul Anderson, Jonathan Majors, John Benjamin Hickey, Q'orianka Kilcher, Ryan Bingham, United States, August 15, 2018, 2017, R, 134 min, Dramas, After a long career battling the Cheyenne, a U.S. Army captain is ordered to safely escort the tribe's most influential chief to his Montana homeland.]                                       |\n",
            "|[80202176, Movie, Hurricane Bianca: From Russia With Hate, Matt Kugelman, Roy Haylock, Rachel Dratch, Brian McCook, D.J. \"Shangela\" Pierce, Doug Plaut, Cheyenne Jackson, Kristen Johnston, Heather McDonald, Wanda Sykes, Janeane Garofalo, United States, August 15, 2018, 2018, TV-MA, 85 min, Comedies, Independent Movies, LGBTQ Movies, When Texas teacher Richard is lured to Russia under false pretenses by his enemy Deb, his drag alter ego Bianca soon turns the country upside down.]                                      |\n",
            "|[81014293, TV Show, Nuestra Lucha Libre, , , , August 15, 2018, 2018, TV-MA, 1 Season, Docuseries, International TV Shows, Spanish-Language TV Shows, This documentary series lifts the mask on Mexican wrestling, diving into the daily lives of its stars, examining the sport’s cultural impact and more.]                                                                                                                                                                                                                           |\n",
            "|[81014811, TV Show, The Creative Indians, , , , August 15, 2018, 2017, NR, 1 Season, Docuseries, International TV Shows, From chefs and comedians to filmmakers and fashion designers, India’s most notable imaginative minds share their artistic journeys.]                                                                                                                                                                                                                                                                           |\n",
            "|[70123118, Movie, What's Your Raashee?, Ashutosh Gowariker, Priyanka Chopra, Harman Baweja, Suzy Brack, Gene Fojtik, Anjan Srivastav, Darshan Jariwala, Dilip Joshi, Daya Shankar Pandey, Yuri Suri, Rajesh Vivek, Geeta Tyagi, India, August 15, 2018, 2009, TV-PG, 203 min, Comedies, International Movies, Music & Musicals, To protect his family from ruin, Yogesh must marry his dream girl in only ten days, so he rushes into dating women with different astrological signs.]                                                  |\n",
            "|[80175913, TV Show, 20 Minutes, , Tuba Büyüküstün, Ilker Aksum, Bülent Emin Yarar, İpek Bilgin, Müjde Uzman, Firat Çelik, Ayten Uncuoglu, Cihat Tamer, Turkey, August 15, 2017, 2013, TV-MA, 1 Season, Crime TV Shows, International TV Shows, TV Dramas, When his wife is convicted of murder, a horrified family man races to prove her innocence while a dogged investigator sets out to uncover the truth.]                                                                                                                         |\n",
            "|[80182274, Movie, Barbecue, Matthew Salleh, , Australia, Armenia, Japan, Jordan, Mexico, Mongolia, New Zealand, Philippines, South Africa, Sweden, United States, Uruguay, August 15, 2017, 2017, TV-MA, 101 min, Documentaries, International Movies, A blend of cultural nuance and mesmerizing techniques adds flavor to this globe-hopping celebration of cooking, tradition and community.]                                                                                                                                        |\n",
            "|[80185166, Movie, Brad Paisley's Comedy Rodeo, Jay Chapman, Brad Paisley, Nate Bargatze, John Heffron, Jon Reep, Sarah Tiana, Mike E. Winfield, United States, August 15, 2017, 2017, TV-MA, 63 min, Stand-Up Comedy, Country music star Brad Paisley hosts a night of music and laughs with comics Nate Bargatze, John Heffron, Jon Reep, Sarah Tiana and Mike E. Winfield.]                                                                                                                                                           |\n",
            "|[80068219, Movie, Colin Quinn: Unconstitutional, Jay Chapman, Colin Quinn, United States, August 15, 2017, 2015, TV-MA, 56 min, Stand-Up Comedy, New York comedian Colin Quinn writes and stars in this live one-man stage show that dissects and deconstructs U.S. constitutional history.]                                                                                                                                                                                                                                            |\n",
            "|[70209163, Movie, Goon, Michael Dowse, Seann William Scott, Jay Baruchel, Liev Schreiber, Alison Pill, Marc-André Grondin, Kim Coates, Eugene Levy, Nicholas Campbell, Richard Clarkin, Jonathan Cherry, United States, Canada, August 15, 2017, 2011, R, 92 min, Comedies, Sports Movies, When he's seen dispatching a rude opposing hockey player in the stands, Doug Glatt is hired by a rival team ... for his fighting skills.]                                                                                                    |\n",
            "|[80170687, TV Show, Million Yen Women, , Yojiro Noda, Rila Fukushima, Rena Matsui, Miwako Wagatsuma, Rena Takeda, Yuko Araki, Yuya Endo, Kaito Yoshimura, Moeka Hoshi, Juri Ihata, Mariko Tsutsui, Kanji Furutachi, Tetsuhiro Ikeda, Takashi Yamanaka, Tomoya Nakamura, Lily Franky, Japan, August 15, 2017, 2017, TV-MA, 1 Season, Crime TV Shows, International TV Shows, TV Dramas, Five beautiful but mysterious women move in with unsuccessful novelist Shin, who manages their odd household in exchange for a tidy monthly sum.]|\n",
            "|[80163191, Movie, My Ex-Ex, Nathaniel Warsh, André Bharti, Katherine Barrell, Ray Galletti, Emily Alatalo, Tamara Duarte, Randal Edwards, Alastair Forbes, Jesse Camacho, Canada, August 15, 2017, 2015, TV-MA, 91 min, Comedies, Romantic Movies, A recently dumped attorney hires a psychic to help her win back her boyfriend. Things take an unexpected turn when another ex re-enters the picture.]                                                                                                                                |\n",
            "|[80184661, Movie, We're No Animals, Alejandro Agresti, John Cusack, Paul Hipp, Kevin Morris, Alejandro Agresti, Mario Alarcón, Norman Briski, Lucila Solá, Juana Viale, Pablo Bossi, Leticia Brédice, United States, Argentina, August 15, 2017, 2015, TV-MA, 94 min, Comedies, Dramas, Independent Movies, Unhappy with his commercial film work, a jaded Hollywood actor moves to Argentina to participate in an experimental thesis on social philosophy.]                                                                           |\n",
            "|[80114588, TV Show, Behind Enemy Lines, , , United States, August 15, 2016, 2001, TV-14, 1 Season, British TV Shows, Docuseries, After dire setbacks in 1940, Winston Churchill commissions a new kind of fighting force: commandos trained to use stealth and audacious tactics.]                                                                                                                                                                                                                                                      |\n",
            "|[80078761, Movie, Being AP, Anthony Wonke, Tony McCoy, United Kingdom, August 15, 2016, 2015, TV-14, 99 min, Documentaries, International Movies, Sports Movies, With retirement staring him in the face, an all-time-great jump jockey pursues his 20th consecutive title in his unrelenting quest for glory.]                                                                                                                                                                                                                         |\n",
            "|[80115844, Movie, John & Jane, Ashim Ahluwalia, , India, August 15, 2016, 2005, TV-14, 79 min, Documentaries, International Movies, Truth and fiction blend in this quasi-documentary about six exhausted workers at a Mumbai call center servicing U.S. customers.]                                                                                                                                                                                                                                                                    |\n",
            "|[80114111, Movie, Louis C.K.: Live at the Comedy Store, Louis C.K., Louis C.K., United States, August 15, 2016, 2015, , 66 min, Movies, The comic puts his trademark hilarious/thought-provoking spin on finding a bat in his kitchen, seeing rats having sex, Boston accents and dead pets.]                                                                                                                                                                                                                                           |\n",
            "|[80108998, Movie, Real Crime: Supermarket Heist (Tesco Bomber), , , United Kingdom, August 15, 2016, 2010, TV-14, 46 min, Documentaries, In 2000, U.K. detectives spent months tracking a criminal known only as Sally, who was targeting a supermarket chain with extortion and letter bombs.]                                                                                                                                                                                                                                         |\n",
            "+----------------------------------------------------------------------------------------------------------------------------------------------------------------------------------------------------------------------------------------------------------------------------------------------------------------------------------------------------------------------------------------------------------------------------------------------------------------------------------------------------------------------------------------+\n",
            "only showing top 20 rows\n",
            "\n"
          ]
        }
      ]
    },
    {
      "cell_type": "markdown",
      "metadata": {
        "id": "BwUcLor4IggD"
      },
      "source": [
        "# **Creating typed columns**\n",
        "\n",
        "There are several ways to do this operation depending on your needs, but for this dataset we'll explicitly convert the strings in the ArrayType column (ie, a Spark list column) to actual dataframe columns. The `.getItem()` method returns the value at the specified index of the listcolumn (ie, of `splitcolumn`).\n",
        "\n",
        "Let's consider if we wanted to create a full dataframe from the following example dataframe (`df_1`):\n",
        "\n",
        "splitcolumn |\n",
        "---|\n",
        "[1,USA,North America]\n",
        "[2,France,Europe]\n",
        "[3,China,Asia]\n",
        "\n",
        "```\n",
        "df_1 = df_1.withColumn('country_id', df_1.splitcolumn.getItem(0).cast(IntegerType())\n",
        "df_1 = df_1.withColumn('country_name', df_1.splitcolumn.getItem(1))\n",
        "df_1 = df_1.withColumn('continent', df_1.splitcolumn.getItem(2))\n",
        "```\n",
        "\n",
        "This would give you a resulting dataframe of:\n",
        "\n",
        "splitcolumn | country_id | country_name | continent\n",
        "---|---|---|---\n",
        "[1,USA,North America]|1|USA|North America\n",
        "[2,France,Europe]|2|France|Europe\n",
        "[3,China,Asia]|3|China|Asia\n",
        "\n",
        "The `splitcolumn` is currently still present - we'll take care of that later on.\n",
        "\n",
        "Note that for `show_id` and `release_year`, we'll also use `.cast()` to specify them as integers rather than just strings. We also need to import the `IntegerType` from the `pyspark.sql.types` module to properly cast our data to an integer column in Spark.\n",
        "\n"
      ]
    },
    {
      "cell_type": "code",
      "metadata": {
        "id": "Roo0kxtlB-hz"
      },
      "source": [
        "from pyspark.sql.types import IntegerType\n",
        "\n",
        "# Create columns with specific data types using .getItem()\n",
        "titles_cleaned_df = titles_cleaned_df.withColumn('show_id', titles_cleaned_df.splitcolumn.getItem(0).cast(IntegerType()))\n",
        "titles_cleaned_df = titles_cleaned_df.withColumn('type', titles_cleaned_df.splitcolumn.getItem(1))\n",
        "titles_cleaned_df = titles_cleaned_df.withColumn('title', titles_cleaned_df.splitcolumn.getItem(2))\n",
        "titles_cleaned_df = titles_cleaned_df.withColumn('director', titles_cleaned_df.splitcolumn.getItem(3))\n",
        "titles_cleaned_df = titles_cleaned_df.withColumn('cast', titles_cleaned_df.splitcolumn.getItem(4))\n",
        "titles_cleaned_df = titles_cleaned_df.withColumn('country', titles_cleaned_df.splitcolumn.getItem(5))\n",
        "titles_cleaned_df = titles_cleaned_df.withColumn('date_added', titles_cleaned_df.splitcolumn.getItem(6))\n",
        "titles_cleaned_df = titles_cleaned_df.withColumn('release_year', titles_cleaned_df.splitcolumn.getItem(7).cast(IntegerType()))\n",
        "titles_cleaned_df = titles_cleaned_df.withColumn('rating', titles_cleaned_df.splitcolumn.getItem(8))\n",
        "titles_cleaned_df = titles_cleaned_df.withColumn('duration', titles_cleaned_df.splitcolumn.getItem(9))\n",
        "titles_cleaned_df = titles_cleaned_df.withColumn('listed_in', titles_cleaned_df.splitcolumn.getItem(10))\n",
        "titles_cleaned_df = titles_cleaned_df.withColumn('description', titles_cleaned_df.splitcolumn.getItem(11))"
      ],
      "execution_count": null,
      "outputs": []
    },
    {
      "cell_type": "markdown",
      "metadata": {
        "id": "LytioBfiJLvr"
      },
      "source": [
        "Let's now drop our columns that aren't needed anymore. These are `_c0` (the original single line string), `fieldcount`, and `splitcolumn`. You can drop these as a single column per entry, or a comma-separated set of column names."
      ]
    },
    {
      "cell_type": "code",
      "metadata": {
        "id": "feZwxQ8rC1MJ"
      },
      "source": [
        "# Drop original _c0 column\n",
        "titles_cleaned_df = titles_cleaned_df.drop('_c0', 'fieldcount', 'splitcolumn')"
      ],
      "execution_count": null,
      "outputs": []
    },
    {
      "cell_type": "markdown",
      "metadata": {
        "id": "7G_Zdg7EJq-i"
      },
      "source": [
        "Let's verify our content, check the row count, and then look at our schema."
      ]
    },
    {
      "cell_type": "code",
      "metadata": {
        "id": "eL_ewudgDKKt",
        "outputId": "071e4f63-960f-4e68-fb04-d1b05abac2ca",
        "colab": {
          "base_uri": "https://localhost:8080/"
        }
      },
      "source": [
        "# Showcase new DataFrame\n",
        "titles_cleaned_df.show()"
      ],
      "execution_count": null,
      "outputs": [
        {
          "output_type": "stream",
          "name": "stdout",
          "text": [
            "+--------+-------+--------------------+--------------------+--------------------+--------------------+---------------+------------+------+--------+--------------------+--------------------+\n",
            "| show_id|   type|               title|            director|                cast|             country|     date_added|release_year|rating|duration|           listed_in|         description|\n",
            "+--------+-------+--------------------+--------------------+--------------------+--------------------+---------------+------------+------+--------+--------------------+--------------------+\n",
            "|81002212|  Movie|            Bioscope|Gajendra Ahire, V...|Nina Kulkarni, Su...|               India|August 15, 2018|        2015| TV-14| 131 min|Dramas, Internati...|Inspired by class...|\n",
            "|80176707|  Movie|  For Here or to Go?|   Rucha Humnabadkar|Ali Fazal, Melani...|United States, India|August 15, 2018|        2015| TV-MA| 105 min|Comedies, Dramas,...|A software engine...|\n",
            "|80199381|  Movie|            Hostiles|        Scott Cooper|Christian Bale, R...|       United States|August 15, 2018|        2017|     R| 134 min|              Dramas|After a long care...|\n",
            "|80202176|  Movie|Hurricane Bianca:...|       Matt Kugelman|Roy Haylock, Rach...|       United States|August 15, 2018|        2018| TV-MA|  85 min|Comedies, Indepen...|When Texas teache...|\n",
            "|81014293|TV Show| Nuestra Lucha Libre|                    |                    |                    |August 15, 2018|        2018| TV-MA|1 Season|Docuseries, Inter...|This documentary ...|\n",
            "|81014811|TV Show|The Creative Indians|                    |                    |                    |August 15, 2018|        2017|    NR|1 Season|Docuseries, Inter...|From chefs and co...|\n",
            "|70123118|  Movie|What's Your Raashee?|  Ashutosh Gowariker|Priyanka Chopra, ...|               India|August 15, 2018|        2009| TV-PG| 203 min|Comedies, Interna...|To protect his fa...|\n",
            "|80175913|TV Show|          20 Minutes|                    |Tuba Büyüküstün, ...|              Turkey|August 15, 2017|        2013| TV-MA|1 Season|Crime TV Shows, I...|When his wife is ...|\n",
            "|80182274|  Movie|            Barbecue|      Matthew Salleh|                    |Australia, Armeni...|August 15, 2017|        2017| TV-MA| 101 min|Documentaries, In...|A blend of cultur...|\n",
            "|80185166|  Movie|Brad Paisley's Co...|         Jay Chapman|Brad Paisley, Nat...|       United States|August 15, 2017|        2017| TV-MA|  63 min|     Stand-Up Comedy|Country music sta...|\n",
            "|80068219|  Movie|Colin Quinn: Unco...|         Jay Chapman|         Colin Quinn|       United States|August 15, 2017|        2015| TV-MA|  56 min|     Stand-Up Comedy|New York comedian...|\n",
            "|70209163|  Movie|                Goon|       Michael Dowse|Seann William Sco...|United States, Ca...|August 15, 2017|        2011|     R|  92 min|Comedies, Sports ...|When he's seen di...|\n",
            "|80170687|TV Show|   Million Yen Women|                    |Yojiro Noda, Rila...|               Japan|August 15, 2017|        2017| TV-MA|1 Season|Crime TV Shows, I...|Five beautiful bu...|\n",
            "|80163191|  Movie|            My Ex-Ex|     Nathaniel Warsh|André Bharti, Kat...|              Canada|August 15, 2017|        2015| TV-MA|  91 min|Comedies, Romanti...|A recently dumped...|\n",
            "|80184661|  Movie|    We're No Animals|   Alejandro Agresti|John Cusack, Paul...|United States, Ar...|August 15, 2017|        2015| TV-MA|  94 min|Comedies, Dramas,...|Unhappy with his ...|\n",
            "|80114588|TV Show|  Behind Enemy Lines|                    |                    |       United States|August 15, 2016|        2001| TV-14|1 Season|British TV Shows,...|After dire setbac...|\n",
            "|80078761|  Movie|            Being AP|       Anthony Wonke|          Tony McCoy|      United Kingdom|August 15, 2016|        2015| TV-14|  99 min|Documentaries, In...|With retirement s...|\n",
            "|80115844|  Movie|         John & Jane|     Ashim Ahluwalia|                    |               India|August 15, 2016|        2005| TV-14|  79 min|Documentaries, In...|Truth and fiction...|\n",
            "|80114111|  Movie|Louis C.K.: Live ...|          Louis C.K.|          Louis C.K.|       United States|August 15, 2016|        2015|      |  66 min|              Movies|The comic puts hi...|\n",
            "|80108998|  Movie|Real Crime: Super...|                    |                    |      United Kingdom|August 15, 2016|        2010| TV-14|  46 min|       Documentaries|In 2000, U.K. det...|\n",
            "+--------+-------+--------------------+--------------------+--------------------+--------------------+---------------+------------+------+--------+--------------------+--------------------+\n",
            "only showing top 20 rows\n",
            "\n"
          ]
        }
      ]
    },
    {
      "cell_type": "code",
      "metadata": {
        "id": "l-C2jZOZEnnr",
        "outputId": "74a3c3d6-94cd-42ac-9947-87da7c8d163b",
        "colab": {
          "base_uri": "https://localhost:8080/"
        }
      },
      "source": [
        "# Count rows\n",
        "titles_cleaned_df.count()"
      ],
      "execution_count": null,
      "outputs": [
        {
          "output_type": "execute_result",
          "data": {
            "text/plain": [
              "6113"
            ]
          },
          "metadata": {},
          "execution_count": 29
        }
      ]
    },
    {
      "cell_type": "code",
      "metadata": {
        "id": "fti0um-RDRVp",
        "outputId": "2282261a-9364-455d-c26b-537686241d96",
        "colab": {
          "base_uri": "https://localhost:8080/"
        }
      },
      "source": [
        "# Print the schema\n",
        "titles_cleaned_df.printSchema()"
      ],
      "execution_count": null,
      "outputs": [
        {
          "output_type": "stream",
          "name": "stdout",
          "text": [
            "root\n",
            " |-- show_id: integer (nullable = true)\n",
            " |-- type: string (nullable = true)\n",
            " |-- title: string (nullable = true)\n",
            " |-- director: string (nullable = true)\n",
            " |-- cast: string (nullable = true)\n",
            " |-- country: string (nullable = true)\n",
            " |-- date_added: string (nullable = true)\n",
            " |-- release_year: integer (nullable = true)\n",
            " |-- rating: string (nullable = true)\n",
            " |-- duration: string (nullable = true)\n",
            " |-- listed_in: string (nullable = true)\n",
            " |-- description: string (nullable = true)\n",
            "\n"
          ]
        }
      ]
    },
    {
      "cell_type": "markdown",
      "metadata": {
        "id": "d2W5ImNkJ3f8"
      },
      "source": [
        "# **Even more cleanup**\n",
        "\n",
        "With our last set of steps, we've successfully fixed our remaining **problems (1, 2, and 3)**. Now that we have a generally clean dataset, let's look for further issues.\n",
        "\n",
        "If we look at the distinct values available in the show `type` column, we see an issue. This is a categorical data column - collapsing the values in this column is a typical data cleaning issue."
      ]
    },
    {
      "cell_type": "code",
      "metadata": {
        "id": "YP9IzxLPFwBS",
        "outputId": "dc5a80ae-7b17-42fd-da86-1b23cae88639",
        "colab": {
          "base_uri": "https://localhost:8080/"
        }
      },
      "source": [
        "# Check out unique items in type column\n",
        "titles_cleaned_df.select('type').distinct().show()"
      ],
      "execution_count": null,
      "outputs": [
        {
          "output_type": "stream",
          "name": "stdout",
          "text": [
            "+-------+\n",
            "|   type|\n",
            "+-------+\n",
            "|TV Show|\n",
            "|  Movie|\n",
            "|       |\n",
            "+-------+\n",
            "\n"
          ]
        }
      ]
    },
    {
      "cell_type": "code",
      "metadata": {
        "id": "Nx7weVd1G33o",
        "outputId": "9c479449-b277-4b6b-c89f-0d6e5f3c873b",
        "colab": {
          "base_uri": "https://localhost:8080/"
        }
      },
      "source": [
        "# Isolate rows where type is \"\"\n",
        "titles_cleaned_df.where('type == \"\"').show()"
      ],
      "execution_count": null,
      "outputs": [
        {
          "output_type": "stream",
          "name": "stdout",
          "text": [
            "+--------+----+--------------------+--------------+--------------------+----------------+----------------+------------+------+--------+--------------------+--------------------+\n",
            "| show_id|type|               title|      director|                cast|         country|      date_added|release_year|rating|duration|           listed_in|         description|\n",
            "+--------+----+--------------------+--------------+--------------------+----------------+----------------+------------+------+--------+--------------------+--------------------+\n",
            "|80032097|    |        Romeo Ranjha|Navaniat Singh|Jazzy B, Garry Sa...|   India, Canada|November 1, 2017|        2014| TV-14| 122 min|Action & Adventur...|Two common boys t...|\n",
            "|81039410|    |         Dry Martina|  Che Sandoval|Antonella Costa, ...|Chile, Argentina|    May 11, 2019|        2018| TV-MA| 100 min|Dramas, Independe...|An odd encounter ...|\n",
            "|80156212|    |           Wakefield| Robin Swicord|Bryan Cranston, J...|   United States|   March 2, 2019|        2016|     R| 109 min|              Dramas|An unhappy father...|\n",
            "|80219180|    |Darr Sabko Lagta Hai|              |        Bipasha Basu|           India|   March 1, 2018|        2015| TV-MA|1 Season|International TV ...|In this chilling ...|\n",
            "|80204730|    |       The Last O.G.|              |Tracy Morgan, Tif...|   United States|December 5, 2018|        2018| TV-MA|1 Season|         TV Comedies|After 15 years be...|\n",
            "+--------+----+--------------------+--------------+--------------------+----------------+----------------+------------+------+--------+--------------------+--------------------+\n",
            "\n"
          ]
        }
      ]
    },
    {
      "cell_type": "markdown",
      "metadata": {
        "id": "TW4sUhBMKt9v"
      },
      "source": [
        "You'll notice that we have 5 rows where the type is not specified when one should be.\n",
        "\n",
        "**Problem 8**: Invalid entry in a column - The type column should contain only `TV Show` or `Movie`, but it also contains an empty string value.\n",
        "\n",
        "\n",
        " We have a couple of options:\n",
        "\n",
        "- Drop the rows\n",
        "- Infer what the `type` is based on other content available in the dataset\n",
        "\n",
        "You could remove the problem rows using something like:\n",
        "\n",
        "```\n",
        "titles_cleaned_df = titles_cleaned_df.where('type == \"TV Show\" or type == \"Movie\"')\n",
        "```\n",
        "\n",
        "That feels a bit like cheating though - let's consider how else we could determine this largely automatically.\n",
        "\n",
        "If you look at the `duration` column, you'll notice that there are different meanings behind the entries. We have durations that contain the word *min* (minutes) or the word `Season` for seasons of the show. We can try to use these to properly set the `type` value for these rows.\n",
        "\n",
        "This problem is a bit tricky though as Spark does not have the concept of updating data within a column without jumping through several hoops. We can however work through this issue using a User Defined Function, or UDF.\n",
        "\n",
        "## **UDF**\n",
        "\n",
        "If you haven't worked with them before, a UDF is a Python function that gets applied to every row of a DataFrame. They are extremely flexible and can help us work through issues such as our current one.\n",
        "\n",
        "A UDF in Pyspark requires three things:\n",
        "\n",
        "1. **A Python function or callable**: This is the function that you want called when the UDF is run by Spark.\n",
        "2. **A UDF variable**: Defined by the `udf()` function, with the Python callable defined in #1, and the Spark return type.\n",
        "3. **A Spark transformation**: The UDF must be defined via a transformation (ie `.withColumn()`) to be applied to the dataframe.\n",
        "\n",
        "Consider the following dataframe `df_1`, containing a two fields, `a` and `b`\n",
        "\n",
        "a|b\n",
        "---|---\n",
        "1|2\n",
        "2|3\n",
        "3|4\n",
        "\n",
        "For illustration, let's say we want to use a UDF to define a new column, which is simply the value `a*b`, unless the value of `a` is `3`. If it is, then we want the value to be `0`.\n",
        "\n",
        "Let's define our function - taking two arguments, `a`, and `b`.\n",
        "\n",
        "```\n",
        "def multiply(a, b):\n",
        "  if a == 3:\n",
        "    return 0\n",
        "  else:\n",
        "    return a*b\n",
        "```\n",
        "\n",
        "Now, we need to define our UDF variable. We need to import `udf` from `pyspark.sql.functions`, and as we're returning an integer value, we need to import `IntegerType` from `pyspark.sql.types`.\n",
        "\n",
        "```\n",
        "from pyspark.sql.functions import udf\n",
        "from pyspark.sql.types import IntegerType\n",
        "\n",
        "udfMultiply = udf(multiply, IntegerType())\n",
        "```\n",
        "\n",
        "Note that the `udf` function only takes the name of the callable, not any arguments. Those are defined with our last step - defining a new column.\n",
        "\n",
        "```\n",
        "df_1 = df_1.withColumn('output', udfMultiply(F.col('a'), F.col('b')))\n",
        "```\n",
        "\n",
        "Note that in this instance we're using the `F.col` method to refer to the column. You could use any of the other valid Spark methods to specify a dataframe column (ie, `df_1.a`, `df_1['b']`, etc).\n",
        "\n",
        "Assuming we run a Spark action, such as `.show()`, we would get a dataframe with the following contents:\n",
        "\n",
        "a|b|output\n",
        "---|---|---\n",
        "1|2|2\n",
        "2|3|6\n",
        "3|4|0\n",
        "\n",
        "*Note this is a trivial example for illustration purposes - the same behavior would be much better implemented using assorted functions in the Spark libraries.*\n",
        "\n",
        "\n",
        "First, let's define our Python function that takes two arguments, a showtype (ie, *Movie*, *TV Show*, or other) and the showduration. Note that these are strings in this case. We'll check if the showtype is already a Movie or TV Show - if so, just return that value. Otherwise, we'll check if the showduration ends with *min*, indicating a Movie. If not, we'll specify it as a TV Show.\n"
      ]
    },
    {
      "cell_type": "code",
      "metadata": {
        "id": "m97hs-7qPCus"
      },
      "source": [
        "# Define the UDF callable\n",
        "def deriveType(showtype, showduration):\n",
        "  if showtype == 'Movie' or showtype == 'TV Show':\n",
        "    return showtype\n",
        "  else:\n",
        "    if showduration.endswith('min'):\n",
        "      return \"Movie\"\n",
        "    else:\n",
        "      return \"TV Show\""
      ],
      "execution_count": null,
      "outputs": []
    },
    {
      "cell_type": "markdown",
      "metadata": {
        "id": "PW5L773xQCfy"
      },
      "source": [
        "# **Define the UDF for Spark**\n",
        "\n",
        "Now we need to configure the UDF for Spark to access it accordingly."
      ]
    },
    {
      "cell_type": "code",
      "metadata": {
        "id": "3y7TpzkAQb8x"
      },
      "source": [
        "from pyspark.sql.functions import udf\n",
        "from pyspark.sql.types import StringType\n",
        "\n",
        "udfDeriveType = udf(deriveType, StringType())"
      ],
      "execution_count": null,
      "outputs": []
    },
    {
      "cell_type": "code",
      "metadata": {
        "id": "0sE7GaRVR7Tv"
      },
      "source": [
        "# Create a new derived column, passing in the appropriate values\n",
        "titles_cleaned_df = titles_cleaned_df.withColumn('derivedType', udfDeriveType(F.col('type'), F.col('duration')))"
      ],
      "execution_count": null,
      "outputs": []
    },
    {
      "cell_type": "code",
      "metadata": {
        "id": "-eGdUm5ZSojy",
        "outputId": "64b99054-9c42-4e15-fa90-a21fbccd3b3e",
        "colab": {
          "base_uri": "https://localhost:8080/"
        }
      },
      "source": [
        "# Show the rows where type is an empty string again, examining the derivedType\n",
        "titles_cleaned_df.where('type == \"\"').show()"
      ],
      "execution_count": null,
      "outputs": [
        {
          "output_type": "stream",
          "name": "stdout",
          "text": [
            "+--------+----+--------------------+--------------+--------------------+----------------+----------------+------------+------+--------+--------------------+--------------------+-----------+\n",
            "| show_id|type|               title|      director|                cast|         country|      date_added|release_year|rating|duration|           listed_in|         description|derivedType|\n",
            "+--------+----+--------------------+--------------+--------------------+----------------+----------------+------------+------+--------+--------------------+--------------------+-----------+\n",
            "|80032097|    |        Romeo Ranjha|Navaniat Singh|Jazzy B, Garry Sa...|   India, Canada|November 1, 2017|        2014| TV-14| 122 min|Action & Adventur...|Two common boys t...|      Movie|\n",
            "|81039410|    |         Dry Martina|  Che Sandoval|Antonella Costa, ...|Chile, Argentina|    May 11, 2019|        2018| TV-MA| 100 min|Dramas, Independe...|An odd encounter ...|      Movie|\n",
            "|80156212|    |           Wakefield| Robin Swicord|Bryan Cranston, J...|   United States|   March 2, 2019|        2016|     R| 109 min|              Dramas|An unhappy father...|      Movie|\n",
            "|80219180|    |Darr Sabko Lagta Hai|              |        Bipasha Basu|           India|   March 1, 2018|        2015| TV-MA|1 Season|International TV ...|In this chilling ...|    TV Show|\n",
            "|80204730|    |       The Last O.G.|              |Tracy Morgan, Tif...|   United States|December 5, 2018|        2018| TV-MA|1 Season|         TV Comedies|After 15 years be...|    TV Show|\n",
            "+--------+----+--------------------+--------------+--------------------+----------------+----------------+------------+------+--------+--------------------+--------------------+-----------+\n",
            "\n"
          ]
        }
      ]
    },
    {
      "cell_type": "code",
      "metadata": {
        "id": "w1Z923yGSt2q"
      },
      "source": [
        "# Drop the original type column and rename derviedType to type\n",
        "titles_cleaned_df = titles_cleaned_df.drop('type').withColumnRenamed('derivedType', 'type')"
      ],
      "execution_count": null,
      "outputs": []
    },
    {
      "cell_type": "code",
      "metadata": {
        "id": "JW7Dtb-wHfs5",
        "outputId": "4d7195d4-59ea-4d49-8563-1f5058fd2308",
        "colab": {
          "base_uri": "https://localhost:8080/"
        }
      },
      "source": [
        "# Verify we only have two types available\n",
        "titles_cleaned_df.select('type').distinct().show()"
      ],
      "execution_count": null,
      "outputs": [
        {
          "output_type": "stream",
          "name": "stdout",
          "text": [
            "+-------+\n",
            "|   type|\n",
            "+-------+\n",
            "|TV Show|\n",
            "|  Movie|\n",
            "+-------+\n",
            "\n"
          ]
        }
      ]
    },
    {
      "cell_type": "code",
      "metadata": {
        "id": "rXr5D8-4HkSR",
        "outputId": "6a07a08b-91ba-43de-f527-6dac0aac816f",
        "colab": {
          "base_uri": "https://localhost:8080/"
        }
      },
      "source": [
        "# Verify our row count is the same\n",
        "titles_cleaned_df.count()"
      ],
      "execution_count": null,
      "outputs": [
        {
          "output_type": "execute_result",
          "data": {
            "text/plain": [
              "6113"
            ]
          },
          "metadata": {},
          "execution_count": 39
        }
      ]
    },
    {
      "cell_type": "markdown",
      "metadata": {
        "id": "Ks9eP6uMnUPe"
      },
      "source": [
        "We've now successfully resolved **problem 8**."
      ]
    },
    {
      "cell_type": "markdown",
      "metadata": {
        "id": "0KUVyBzLTZgN"
      },
      "source": [
        "# **Saving data for analysis / further processing**\n",
        "\n",
        "The last step of our data cleaning is to save the cleaned dataframe out to a file type. If you plan to do any further analysis or processing using Spark, it's highly recommended you use Parquet. Other options are available per your needs, but Spark is optimized to take advantage of Parquet.\n",
        "\n",
        "There are two options we use for the `.write.parquet()` method:\n",
        "\n",
        "- The path of where to write the file\n",
        "- An optional `mode` parameter, which we've set to `overwrite`. This allows Spark to write data to an existing location, solving some potential issues in a notebook environment."
      ]
    },
    {
      "cell_type": "code",
      "metadata": {
        "id": "inKlmeIfHnw9"
      },
      "source": [
        "# Save the data\n",
        "titles_cleaned_df.write.parquet('netflix_titles_cleaned.parquet', mode='overwrite')"
      ],
      "execution_count": null,
      "outputs": []
    },
    {
      "cell_type": "markdown",
      "metadata": {
        "id": "KydUNbnYn-BQ"
      },
      "source": [
        "Note that typically when processing data in Spark, you'll want to use the Parquet format as described above. This is great for any further processing or analysis you plan to do in Spark. However, it can be difficult to read Parquet files outside of Spark without extra work. As such, let's create a version in CSV format that you can download if you desire.\n",
        "\n",
        "We'll need to do four steps for this operation:\n",
        "\n",
        "- Combine the data into a single file using the `.coalesce(1)` transformation. Spark normally keeps data in separate files to improve performance and bypass RAM issues. Our dataset is small and we can bypass those concerns.\n",
        "- Use the `.write.csv()` method (instead of `.write.parquet()`). We'll also add an extra option of `sep='\\t'` to bypass the issue of commas being present in our data. We also have to define a `header=True` component so our columns are named correctly.\n",
        "- Rename the file to something usable with a shell command `mv`. Spark stores files named via their partition id. We need to rename that to something more recognizable.\n",
        "- Finally, we'll use a special command specific to the notebook environment to download the file.\n",
        "\n",
        "As you've seen within Spark, you can chain commands together. As such, we'll combine the first two components."
      ]
    },
    {
      "cell_type": "code",
      "metadata": {
        "id": "Km2dxHXGp85h"
      },
      "source": [
        "# Coalesce and save the data in CSV format\n",
        "titles_cleaned_df.coalesce(1).write.csv('netflix_titles_cleaned.csv', mode='overwrite', sep='\\t', header=True)"
      ],
      "execution_count": null,
      "outputs": []
    }
  ]
}