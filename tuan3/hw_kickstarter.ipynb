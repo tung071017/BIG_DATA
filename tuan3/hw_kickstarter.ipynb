{
  "cells": [
    {
      "cell_type": "markdown",
      "id": "P0Jv6vQ_0WxM",
      "metadata": {
        "id": "P0Jv6vQ_0WxM"
      },
      "source": [
        "# Set Up"
      ]
    },
    {
      "cell_type": "code",
      "execution_count": 2,
      "id": "yLBKYPb90YDe",
      "metadata": {
        "id": "yLBKYPb90YDe"
      },
      "outputs": [],
      "source": [
        "# !pip install pyspark"
      ]
    },
    {
      "cell_type": "code",
      "execution_count": 3,
      "id": "ziiyr5z50kpx",
      "metadata": {
        "id": "ziiyr5z50kpx"
      },
      "outputs": [
        {
          "name": "stderr",
          "output_type": "stream",
          "text": [
            "24/04/09 03:47:39 WARN Utils: Your hostname, codespaces-dc2d55 resolves to a loopback address: 127.0.0.1; using 172.16.5.4 instead (on interface eth0)\n",
            "24/04/09 03:47:39 WARN Utils: Set SPARK_LOCAL_IP if you need to bind to another address\n",
            "Setting default log level to \"WARN\".\n",
            "To adjust logging level use sc.setLogLevel(newLevel). For SparkR, use setLogLevel(newLevel).\n",
            "24/04/09 03:47:40 WARN NativeCodeLoader: Unable to load native-hadoop library for your platform... using builtin-java classes where applicable\n"
          ]
        }
      ],
      "source": [
        "# Import SparkSession from pyspark.sql\n",
        "from pyspark.sql import SparkSession\n",
        "\n",
        "# Import functions from pyspark.sql.functions\n",
        "from pyspark.sql.functions import *\n",
        "\n",
        "# For using window functions for aggregations or rankings\n",
        "from pyspark.sql.window import Window\n",
        "\n",
        "# For using data types when defining schemas or manipulating columns\n",
        "from pyspark.sql.types import *\n",
        "\n",
        "# Create a SparkSession, which is the entry point to programming Spark with the Dataset and DataFrame API\n",
        "spark = SparkSession.builder \\\n",
        "    .appName(\"Data Cleaning with PySpark\") \\\n",
        "    .getOrCreate()"
      ]
    },
    {
      "cell_type": "code",
      "execution_count": 4,
      "id": "32c14a03",
      "metadata": {
        "colab": {
          "base_uri": "https://localhost:8080/"
        },
        "id": "32c14a03",
        "outputId": "12fea6d3-b35c-48bb-d092-01449e9067ee"
      },
      "outputs": [
        {
          "name": "stderr",
          "output_type": "stream",
          "text": [
            "                                                                                \r"
          ]
        },
        {
          "name": "stdout",
          "output_type": "stream",
          "text": [
            "+---+----------+--------------------+--------------+-------------+--------+----------+-------+-------------------+-------+--------+-------+-------+-----------+----------------+-------------+\n",
            "|_c0|        ID|                name|      category|main_category|currency|  deadline|   goal|           launched|pledged|   state|backers|country|usd pledged|usd_pledged_real|usd_goal_real|\n",
            "+---+----------+--------------------+--------------+-------------+--------+----------+-------+-------------------+-------+--------+-------+-------+-----------+----------------+-------------+\n",
            "|  0|1000002330|The Songs of Adel...|        Poetry|   Publishing|     GBP|2015-10-09| 1000.0|2015-08-11 12:12:28|    0.0|  failed|      0|     GB|        0.0|             0.0|      1533.95|\n",
            "|  1|1000003930|Greeting From Ear...|Narrative Film| Film & Video|     USD|2017-11-01|30000.0|2017-09-02 04:43:57| 2421.0|  failed|     15|     US|      100.0|          2421.0|      30000.0|\n",
            "|  2|1000004038|      Where is Hank?|Narrative Film| Film & Video|     USD|2013-02-26|45000.0|2013-01-12 00:20:50|  220.0|  failed|      3|     US|      220.0|           220.0|      45000.0|\n",
            "|  3|1000007540|ToshiCapital Reko...|         Music|        Music|     USD|2012-04-16| 5000.0|2012-03-17 03:24:11|    1.0|  failed|      1|     US|        1.0|             1.0|       5000.0|\n",
            "|  4|1000011046|Community Film Pr...|  Film & Video| Film & Video|     USD|2015-08-29|19500.0|2015-07-04 08:35:03| 1283.0|canceled|     14|     US|     1283.0|          1283.0|      19500.0|\n",
            "+---+----------+--------------------+--------------+-------------+--------+----------+-------+-------------------+-------+--------+-------+-------+-----------+----------------+-------------+\n",
            "only showing top 5 rows\n",
            "\n"
          ]
        },
        {
          "name": "stderr",
          "output_type": "stream",
          "text": [
            "24/04/09 03:47:50 WARN CSVHeaderChecker: CSV header does not conform to the schema.\n",
            " Header: , ID, name, category, main_category, currency, deadline, goal, launched, pledged, state, backers, country, usd pledged, usd_pledged_real, usd_goal_real\n",
            " Schema: _c0, ID, name, category, main_category, currency, deadline, goal, launched, pledged, state, backers, country, usd pledged, usd_pledged_real, usd_goal_real\n",
            "Expected: _c0 but found: \n",
            "CSV file: file:///workspaces/BIG_DATA/tuan3/kickstarter_data.csv\n"
          ]
        }
      ],
      "source": [
        "# Load dataset\n",
        "df = spark.read.csv('kickstarter_data.csv', header=True, inferSchema=True)\n",
        "\n",
        "# First 5 rows of the dataframe\n",
        "df.show(5)"
      ]
    },
    {
      "cell_type": "markdown",
      "id": "f38a62c6",
      "metadata": {
        "id": "f38a62c6"
      },
      "source": [
        "**ANNOTATION**\n",
        "\n",
        "Dataframe Columns:\n",
        "    - `goal`: Goal set at the launched time.\n",
        "\n",
        "    - `pledge`: Total amount of funding the project successfully called.\n",
        "\n",
        "    - `backers`: Number of investors that fund the project.\n",
        "\n",
        "    - `usd pledged`: conversion in US dollars of the pledged column (conversion done by kickstarter).\n",
        "\n",
        "    - `usd_pledge_real`: conversion in US dollars of the pledged column (conversion from Fixer.io API).\n",
        "\n",
        "    - `usd_goal_real`: conversion in US dollars of the goal column (conversion from Fixer.io API).\n",
        "\n",
        "The dataset is acquired from Kaggle.com. You can visit it here: https://www.kaggle.com/kemical/kickstarter-projects"
      ]
    },
    {
      "cell_type": "markdown",
      "id": "KTG243xAxUxy",
      "metadata": {
        "id": "KTG243xAxUxy"
      },
      "source": [
        "# A. OVERVIEW AND CLEAN"
      ]
    },
    {
      "cell_type": "markdown",
      "id": "cda04901",
      "metadata": {
        "id": "cda04901"
      },
      "source": [
        "## **A.1** - Remove unwanted observations"
      ]
    },
    {
      "cell_type": "markdown",
      "id": "3OUNhT3lI_96",
      "metadata": {
        "id": "3OUNhT3lI_96"
      },
      "source": [
        "### Question 1"
      ]
    },
    {
      "cell_type": "markdown",
      "id": "SPEI3C7H-wxQ",
      "metadata": {
        "id": "SPEI3C7H-wxQ"
      },
      "source": [
        "We have many columns for the pledge and goal with different conversions.\n",
        "\n",
        "For this analysis, we choose to keep only `usd_pledged_real` and `usd_goal_real`.\n",
        "\n",
        "Write one line of code to drop the columns `goal`, `pledged`, `usd pledged`."
      ]
    },
    {
      "cell_type": "code",
      "execution_count": 1,
      "id": "5f72a2ee",
      "metadata": {
        "id": "5f72a2ee"
      },
      "outputs": [
        {
          "ename": "NameError",
          "evalue": "name 'df' is not defined",
          "output_type": "error",
          "traceback": [
            "\u001b[0;31m---------------------------------------------------------------------------\u001b[0m",
            "\u001b[0;31mNameError\u001b[0m                                 Traceback (most recent call last)",
            "Cell \u001b[0;32mIn[1], line 2\u001b[0m\n\u001b[1;32m      1\u001b[0m \u001b[38;5;66;03m# YOUR CODE HERE\u001b[39;00m\n\u001b[0;32m----> 2\u001b[0m \u001b[43mdf\u001b[49m\u001b[38;5;241m.\u001b[39mdrop(\u001b[38;5;124m'\u001b[39m\u001b[38;5;124mgoal\u001b[39m\u001b[38;5;124m'\u001b[39m)\u001b[38;5;241m.\u001b[39mshow()\n",
            "\u001b[0;31mNameError\u001b[0m: name 'df' is not defined"
          ]
        }
      ],
      "source": [
        "# YOUR CODE HERE\n",
        "df.drop('goal').show()"
      ]
    },
    {
      "cell_type": "markdown",
      "id": "XIO0WixTJGN_",
      "metadata": {
        "id": "XIO0WixTJGN_"
      },
      "source": [
        "### Question 2"
      ]
    },
    {
      "cell_type": "markdown",
      "id": "2UmpzfIR-zyQ",
      "metadata": {
        "id": "2UmpzfIR-zyQ"
      },
      "source": [
        "For future convenience, let's rename the columns as follows:\n",
        "\n",
        "- `usd_pledged_real` --> `pledged`\n",
        "- `usd_goal_real` --> `goal`\n",
        "\n",
        "Write your code to do that below."
      ]
    },
    {
      "cell_type": "code",
      "execution_count": 6,
      "id": "6a34ba92",
      "metadata": {
        "id": "6a34ba92"
      },
      "outputs": [],
      "source": [
        "# YOUR CODE HERE"
      ]
    },
    {
      "cell_type": "markdown",
      "id": "23cdcaad",
      "metadata": {
        "id": "23cdcaad"
      },
      "source": [
        "## **A.2** - Structural Error, Correct Datatype\n",
        "---"
      ]
    },
    {
      "cell_type": "markdown",
      "id": "6b1569d3",
      "metadata": {
        "id": "6b1569d3"
      },
      "source": [
        "### Question 3"
      ]
    },
    {
      "cell_type": "markdown",
      "id": "hhcdUFaT_l_n",
      "metadata": {
        "id": "hhcdUFaT_l_n"
      },
      "source": [
        "Write one line of code to print the overall information of the dataset. Are there any columns that you feel like they have the wrong datatype?"
      ]
    },
    {
      "cell_type": "code",
      "execution_count": 7,
      "id": "5dece5cf",
      "metadata": {
        "id": "5dece5cf"
      },
      "outputs": [],
      "source": [
        "# YOUR CODE HERE"
      ]
    },
    {
      "cell_type": "markdown",
      "id": "kbxQPpKWJetJ",
      "metadata": {
        "id": "kbxQPpKWJetJ"
      },
      "source": [
        "### Question 4"
      ]
    },
    {
      "cell_type": "markdown",
      "id": "e333663c",
      "metadata": {
        "id": "e333663c"
      },
      "source": [
        "Convert the `launched` and `deadline` to `datetime` datatype."
      ]
    },
    {
      "cell_type": "code",
      "execution_count": 8,
      "id": "f9893cf8",
      "metadata": {
        "id": "f9893cf8"
      },
      "outputs": [],
      "source": [
        "# YOUR CODE HERE"
      ]
    },
    {
      "cell_type": "markdown",
      "id": "e376aad4",
      "metadata": {
        "id": "e376aad4"
      },
      "source": [
        "Check info one more time to make sure everything goes as plan."
      ]
    },
    {
      "cell_type": "code",
      "execution_count": 9,
      "id": "5eabd57d",
      "metadata": {
        "colab": {
          "base_uri": "https://localhost:8080/"
        },
        "id": "5eabd57d",
        "outputId": "b5518dcb-362e-4f98-d80a-5645e661dc9d"
      },
      "outputs": [
        {
          "name": "stdout",
          "output_type": "stream",
          "text": [
            "root\n",
            " |-- _c0: integer (nullable = true)\n",
            " |-- ID: integer (nullable = true)\n",
            " |-- name: string (nullable = true)\n",
            " |-- category: string (nullable = true)\n",
            " |-- main_category: string (nullable = true)\n",
            " |-- currency: string (nullable = true)\n",
            " |-- deadline: string (nullable = true)\n",
            " |-- goal: string (nullable = true)\n",
            " |-- launched: string (nullable = true)\n",
            " |-- pledged: string (nullable = true)\n",
            " |-- state: string (nullable = true)\n",
            " |-- backers: string (nullable = true)\n",
            " |-- country: string (nullable = true)\n",
            " |-- usd pledged: string (nullable = true)\n",
            " |-- usd_pledged_real: string (nullable = true)\n",
            " |-- usd_goal_real: string (nullable = true)\n",
            "\n"
          ]
        }
      ],
      "source": [
        "df.printSchema()"
      ]
    },
    {
      "cell_type": "markdown",
      "id": "cIp2lkEK2eq5",
      "metadata": {
        "id": "cIp2lkEK2eq5"
      },
      "source": [
        "## **A.3** - Handling Missing Values\n",
        "---"
      ]
    },
    {
      "cell_type": "markdown",
      "id": "b5779535",
      "metadata": {
        "id": "b5779535"
      },
      "source": [
        "### Question 5"
      ]
    },
    {
      "cell_type": "markdown",
      "id": "e9yTYukBt7Lx",
      "metadata": {
        "id": "e9yTYukBt7Lx"
      },
      "source": [
        "Give the number of null values in *each* column."
      ]
    },
    {
      "cell_type": "code",
      "execution_count": 10,
      "id": "WjqC4x9d-Hvd",
      "metadata": {
        "id": "WjqC4x9d-Hvd"
      },
      "outputs": [],
      "source": [
        "# YOUR CODE HERE"
      ]
    },
    {
      "cell_type": "markdown",
      "id": "63542259",
      "metadata": {
        "id": "63542259"
      },
      "source": [
        "### Question 6"
      ]
    },
    {
      "cell_type": "markdown",
      "id": "1RWVsdDT_uuu",
      "metadata": {
        "id": "1RWVsdDT_uuu"
      },
      "source": [
        "Write one line of code to fill all the `NaN` values in name with `Unknown`."
      ]
    },
    {
      "cell_type": "code",
      "execution_count": 11,
      "id": "aecb0847",
      "metadata": {
        "id": "aecb0847"
      },
      "outputs": [],
      "source": [
        "# YOUR CODE HERE"
      ]
    },
    {
      "cell_type": "markdown",
      "id": "t4_UCCLh2J4I",
      "metadata": {
        "id": "t4_UCCLh2J4I"
      },
      "source": [
        "## **A.4** - Handling errors, corrupted data\n",
        "---"
      ]
    },
    {
      "cell_type": "markdown",
      "id": "962021f0",
      "metadata": {
        "id": "962021f0"
      },
      "source": [
        "Scanning through each column to find abnormalities and fix them. Simple as that."
      ]
    },
    {
      "cell_type": "markdown",
      "id": "e0730a74",
      "metadata": {
        "id": "e0730a74"
      },
      "source": [
        "### Question 7"
      ]
    },
    {
      "cell_type": "markdown",
      "id": "XjOFSYquuDH9",
      "metadata": {
        "id": "XjOFSYquuDH9"
      },
      "source": [
        "Let's start with `category`. Write an expression to display the frequency of the value in the column `category`. (The unique values and how many times they appear)"
      ]
    },
    {
      "cell_type": "code",
      "execution_count": 12,
      "id": "hrCgDTGC-KrK",
      "metadata": {
        "id": "hrCgDTGC-KrK"
      },
      "outputs": [],
      "source": [
        "# YOUR CODE HERE"
      ]
    },
    {
      "cell_type": "markdown",
      "id": "09d1d498",
      "metadata": {
        "id": "09d1d498"
      },
      "source": [
        "### Question 8"
      ]
    },
    {
      "cell_type": "markdown",
      "id": "y0qs9yqruSCT",
      "metadata": {
        "id": "y0qs9yqruSCT"
      },
      "source": [
        "Do the same to check abnormalities in the column `country`."
      ]
    },
    {
      "cell_type": "code",
      "execution_count": 13,
      "id": "A7W4bQvF-Mmg",
      "metadata": {
        "id": "A7W4bQvF-Mmg"
      },
      "outputs": [],
      "source": [
        "# YOUR CODE HERE"
      ]
    },
    {
      "cell_type": "markdown",
      "id": "33b3f075",
      "metadata": {
        "id": "33b3f075"
      },
      "source": [
        "### Question 9"
      ]
    },
    {
      "cell_type": "markdown",
      "id": "qO6iLqLaufJa",
      "metadata": {
        "id": "qO6iLqLaufJa"
      },
      "source": [
        "Write an expression to select all rows with that weird value above (`N,0\"`)."
      ]
    },
    {
      "cell_type": "code",
      "execution_count": 14,
      "id": "9oAi7OeJ-Nul",
      "metadata": {
        "id": "9oAi7OeJ-Nul"
      },
      "outputs": [],
      "source": [
        "# YOUR CODE HERE"
      ]
    },
    {
      "cell_type": "markdown",
      "id": "52269b4a",
      "metadata": {
        "id": "52269b4a"
      },
      "source": [
        "### Question 10"
      ]
    },
    {
      "cell_type": "markdown",
      "id": "y15mlWtFuhiX",
      "metadata": {
        "id": "y15mlWtFuhiX"
      },
      "source": [
        "Write one line of code to return the ***unique currencies*** of the projects that have country as `N,0\"`?"
      ]
    },
    {
      "cell_type": "code",
      "execution_count": 15,
      "id": "liT3aqBl-O-x",
      "metadata": {
        "id": "liT3aqBl-O-x"
      },
      "outputs": [],
      "source": [
        "# YOUR CODE HERE"
      ]
    },
    {
      "cell_type": "markdown",
      "id": "117d16d9",
      "metadata": {
        "id": "117d16d9"
      },
      "source": [
        "### Question 11"
      ]
    },
    {
      "cell_type": "markdown",
      "id": "oRwVKNitAEzr",
      "metadata": {
        "id": "oRwVKNitAEzr"
      },
      "source": [
        "Our mission is apply a check function onto each row of the country-N0\" part.\n",
        "\n",
        "First, define a function that takes in a whole data row.\n",
        "\n",
        "- If currency is `USD` ---> country is `US`\n",
        "- If currency is `AUD` ---> country is `AU`\n",
        "- If currency is `CAD` ---> country is `CA`\n",
        "- If currency is `GBP` ---> country is `GB`\n",
        "- If currency is `SEK` ---> country is `SE`\n",
        "- If currency is `DKK` ---> country is `DK`\n",
        "- If currency is `NZD` ---> country is `NZ`\n",
        "- If currency is `NOK` ---> country is `NO`\n",
        "- If currency is `CHF` ---> country is `CH`\n",
        "- If currency is `EUR` ---> country is `DE`\n",
        "\n",
        "In the `EUR` case, we choose to replace by the mode --- `DE` (Within projects that in `EUR`, the most are from `DE` -- Germany)"
      ]
    },
    {
      "cell_type": "code",
      "execution_count": 16,
      "id": "57bc4cac",
      "metadata": {
        "id": "57bc4cac"
      },
      "outputs": [
        {
          "name": "stderr",
          "output_type": "stream",
          "text": [
            "24/04/09 03:47:59 WARN GarbageCollectionMetrics: To enable non-built-in garbage collector(s) List(G1 Concurrent GC), users should configure it(them) to spark.eventLog.gcMetrics.youngGenerationGarbageCollectors or spark.eventLog.gcMetrics.oldGenerationGarbageCollectors\n"
          ]
        }
      ],
      "source": [
        "from pyspark.sql.functions import udf\n",
        "from pyspark.sql.types import StringType\n",
        "\n",
        "# YOUR CODE HERE"
      ]
    },
    {
      "cell_type": "markdown",
      "id": "o0PMh0DVyKte",
      "metadata": {
        "id": "o0PMh0DVyKte"
      },
      "source": [
        "### Question 12"
      ]
    },
    {
      "cell_type": "markdown",
      "id": "UkGmLWeRyNJv",
      "metadata": {
        "id": "UkGmLWeRyNJv"
      },
      "source": [
        "Save result using .write.parquet()"
      ]
    },
    {
      "cell_type": "code",
      "execution_count": null,
      "id": "Ycw91EQhyMTN",
      "metadata": {
        "id": "Ycw91EQhyMTN"
      },
      "outputs": [],
      "source": []
    }
  ],
  "metadata": {
    "colab": {
      "collapsed_sections": [
        "cda04901",
        "6b0bd809",
        "26a66451",
        "3408e925",
        "adac13c9",
        "ae00869e",
        "23cdcaad",
        "cIp2lkEK2eq5",
        "b5779535",
        "63542259",
        "t4_UCCLh2J4I",
        "e0730a74",
        "8829a250",
        "0UkWTXmZBImD",
        "09d1d498",
        "77f6lRuqB2kP",
        "33b3f075",
        "52269b4a",
        "117d16d9",
        "a9ad4d83",
        "68da4d8d",
        "4dd5d15d",
        "f956fc37",
        "d4d2d910",
        "13d529d8",
        "6e952725",
        "4b325cdc",
        "0a2b9d6e"
      ],
      "provenance": [],
      "toc_visible": true
    },
    "kernelspec": {
      "display_name": "Python 3",
      "name": "python3"
    },
    "language_info": {
      "codemirror_mode": {
        "name": "ipython",
        "version": 3
      },
      "file_extension": ".py",
      "mimetype": "text/x-python",
      "name": "python",
      "nbconvert_exporter": "python",
      "pygments_lexer": "ipython3",
      "version": "3.10.13"
    }
  },
  "nbformat": 4,
  "nbformat_minor": 5
}
