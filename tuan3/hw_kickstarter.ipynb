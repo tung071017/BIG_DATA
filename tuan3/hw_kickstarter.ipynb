{
  "nbformat": 4,
  "nbformat_minor": 5,
  "metadata": {
    "colab": {
      "provenance": [],
      "collapsed_sections": [
        "cda04901",
        "6b0bd809",
        "26a66451",
        "3408e925",
        "adac13c9",
        "ae00869e",
        "23cdcaad",
        "cIp2lkEK2eq5",
        "b5779535",
        "63542259",
        "t4_UCCLh2J4I",
        "e0730a74",
        "8829a250",
        "0UkWTXmZBImD",
        "09d1d498",
        "77f6lRuqB2kP",
        "33b3f075",
        "52269b4a",
        "117d16d9",
        "a9ad4d83",
        "68da4d8d",
        "4dd5d15d",
        "f956fc37",
        "d4d2d910",
        "13d529d8",
        "6e952725",
        "4b325cdc",
        "0a2b9d6e"
      ],
      "toc_visible": true
    },
    "language_info": {
      "name": "python"
    },
    "kernelspec": {
      "name": "python3",
      "display_name": "Python 3"
    }
  },
  "cells": [
    {
      "cell_type": "markdown",
      "source": [
        "# Set Up"
      ],
      "metadata": {
        "id": "P0Jv6vQ_0WxM"
      },
      "id": "P0Jv6vQ_0WxM"
    },
    {
      "cell_type": "code",
      "source": [
        "# !pip install pyspark"
      ],
      "metadata": {
        "id": "yLBKYPb90YDe"
      },
      "id": "yLBKYPb90YDe",
      "execution_count": null,
      "outputs": []
    },
    {
      "cell_type": "code",
      "source": [
        "# Import SparkSession from pyspark.sql\n",
        "from pyspark.sql import SparkSession\n",
        "\n",
        "# Import functions from pyspark.sql.functions\n",
        "from pyspark.sql.functions import *\n",
        "\n",
        "# For using window functions for aggregations or rankings\n",
        "from pyspark.sql.window import Window\n",
        "\n",
        "# For using data types when defining schemas or manipulating columns\n",
        "from pyspark.sql.types import *\n",
        "\n",
        "# Create a SparkSession, which is the entry point to programming Spark with the Dataset and DataFrame API\n",
        "spark = SparkSession.builder \\\n",
        "    .appName(\"Data Cleaning with PySpark\") \\\n",
        "    .getOrCreate()"
      ],
      "metadata": {
        "id": "ziiyr5z50kpx"
      },
      "id": "ziiyr5z50kpx",
      "execution_count": null,
      "outputs": []
    },
    {
      "cell_type": "code",
      "metadata": {
        "id": "32c14a03",
        "colab": {
          "base_uri": "https://localhost:8080/"
        },
        "outputId": "12fea6d3-b35c-48bb-d092-01449e9067ee"
      },
      "source": [
        "# Load dataset\n",
        "df = spark.read.csv('kickstarter_data.csv', header=True, inferSchema=True)\n",
        "\n",
        "# First 5 rows of the dataframe\n",
        "df.show(5)"
      ],
      "id": "32c14a03",
      "execution_count": null,
      "outputs": [
        {
          "output_type": "stream",
          "name": "stdout",
          "text": [
            "+---+----------+--------------------+--------------+-------------+--------+----------+-------+-------------------+-------+--------+-------+-------+-----------+----------------+-------------+\n",
            "|_c0|        ID|                name|      category|main_category|currency|  deadline|   goal|           launched|pledged|   state|backers|country|usd pledged|usd_pledged_real|usd_goal_real|\n",
            "+---+----------+--------------------+--------------+-------------+--------+----------+-------+-------------------+-------+--------+-------+-------+-----------+----------------+-------------+\n",
            "|  0|1000002330|The Songs of Adel...|        Poetry|   Publishing|     GBP|2015-10-09| 1000.0|2015-08-11 12:12:28|    0.0|  failed|      0|     GB|        0.0|             0.0|      1533.95|\n",
            "|  1|1000003930|Greeting From Ear...|Narrative Film| Film & Video|     USD|2017-11-01|30000.0|2017-09-02 04:43:57| 2421.0|  failed|     15|     US|      100.0|          2421.0|      30000.0|\n",
            "|  2|1000004038|      Where is Hank?|Narrative Film| Film & Video|     USD|2013-02-26|45000.0|2013-01-12 00:20:50|  220.0|  failed|      3|     US|      220.0|           220.0|      45000.0|\n",
            "|  3|1000007540|ToshiCapital Reko...|         Music|        Music|     USD|2012-04-16| 5000.0|2012-03-17 03:24:11|    1.0|  failed|      1|     US|        1.0|             1.0|       5000.0|\n",
            "|  4|1000011046|Community Film Pr...|  Film & Video| Film & Video|     USD|2015-08-29|19500.0|2015-07-04 08:35:03| 1283.0|canceled|     14|     US|     1283.0|          1283.0|      19500.0|\n",
            "+---+----------+--------------------+--------------+-------------+--------+----------+-------+-------------------+-------+--------+-------+-------+-----------+----------------+-------------+\n",
            "only showing top 5 rows\n",
            "\n"
          ]
        }
      ]
    },
    {
      "cell_type": "markdown",
      "metadata": {
        "id": "f38a62c6"
      },
      "source": [
        "**ANNOTATION**\n",
        "\n",
        "Dataframe Columns:\n",
        "    - `goal`: Goal set at the launched time.\n",
        "\n",
        "    - `pledge`: Total amount of funding the project successfully called.\n",
        "\n",
        "    - `backers`: Number of investors that fund the project.\n",
        "\n",
        "    - `usd pledged`: conversion in US dollars of the pledged column (conversion done by kickstarter).\n",
        "\n",
        "    - `usd_pledge_real`: conversion in US dollars of the pledged column (conversion from Fixer.io API).\n",
        "\n",
        "    - `usd_goal_real`: conversion in US dollars of the goal column (conversion from Fixer.io API).\n",
        "\n",
        "The dataset is acquired from Kaggle.com. You can visit it here: https://www.kaggle.com/kemical/kickstarter-projects"
      ],
      "id": "f38a62c6"
    },
    {
      "cell_type": "markdown",
      "metadata": {
        "id": "KTG243xAxUxy"
      },
      "source": [
        "# A. OVERVIEW AND CLEAN"
      ],
      "id": "KTG243xAxUxy"
    },
    {
      "cell_type": "markdown",
      "metadata": {
        "id": "cda04901"
      },
      "source": [
        "## **A.1** - Remove unwanted observations"
      ],
      "id": "cda04901"
    },
    {
      "cell_type": "markdown",
      "source": [
        "### Question 1"
      ],
      "metadata": {
        "id": "3OUNhT3lI_96"
      },
      "id": "3OUNhT3lI_96"
    },
    {
      "cell_type": "markdown",
      "metadata": {
        "id": "SPEI3C7H-wxQ"
      },
      "source": [
        "We have many columns for the pledge and goal with different conversions.\n",
        "\n",
        "For this analysis, we choose to keep only `usd_pledged_real` and `usd_goal_real`.\n",
        "\n",
        "Write one line of code to drop the columns `goal`, `pledged`, `usd pledged`."
      ],
      "id": "SPEI3C7H-wxQ"
    },
    {
      "cell_type": "code",
      "metadata": {
        "id": "5f72a2ee"
      },
      "source": [
        "# YOUR CODE HERE"
      ],
      "id": "5f72a2ee",
      "execution_count": null,
      "outputs": []
    },
    {
      "cell_type": "markdown",
      "source": [
        "### Question 2"
      ],
      "metadata": {
        "id": "XIO0WixTJGN_"
      },
      "id": "XIO0WixTJGN_"
    },
    {
      "cell_type": "markdown",
      "metadata": {
        "id": "2UmpzfIR-zyQ"
      },
      "source": [
        "For future convenience, let's rename the columns as follows:\n",
        "\n",
        "- `usd_pledged_real` --> `pledged`\n",
        "- `usd_goal_real` --> `goal`\n",
        "\n",
        "Write your code to do that below."
      ],
      "id": "2UmpzfIR-zyQ"
    },
    {
      "cell_type": "code",
      "metadata": {
        "id": "6a34ba92"
      },
      "source": [
        "# YOUR CODE HERE"
      ],
      "id": "6a34ba92",
      "execution_count": null,
      "outputs": []
    },
    {
      "cell_type": "markdown",
      "metadata": {
        "id": "23cdcaad"
      },
      "source": [
        "## **A.2** - Structural Error, Correct Datatype\n",
        "---"
      ],
      "id": "23cdcaad"
    },
    {
      "cell_type": "markdown",
      "metadata": {
        "id": "6b1569d3"
      },
      "source": [
        "### Question 3"
      ],
      "id": "6b1569d3"
    },
    {
      "cell_type": "markdown",
      "metadata": {
        "id": "hhcdUFaT_l_n"
      },
      "source": [
        "Write one line of code to print the overall information of the dataset. Are there any columns that you feel like they have the wrong datatype?"
      ],
      "id": "hhcdUFaT_l_n"
    },
    {
      "cell_type": "code",
      "metadata": {
        "id": "5dece5cf"
      },
      "source": [
        "# YOUR CODE HERE"
      ],
      "id": "5dece5cf",
      "execution_count": null,
      "outputs": []
    },
    {
      "cell_type": "markdown",
      "source": [
        "### Question 4"
      ],
      "metadata": {
        "id": "kbxQPpKWJetJ"
      },
      "id": "kbxQPpKWJetJ"
    },
    {
      "cell_type": "markdown",
      "metadata": {
        "id": "e333663c"
      },
      "source": [
        "Convert the `launched` and `deadline` to `datetime` datatype."
      ],
      "id": "e333663c"
    },
    {
      "cell_type": "code",
      "metadata": {
        "id": "f9893cf8"
      },
      "source": [
        "# YOUR CODE HERE"
      ],
      "id": "f9893cf8",
      "execution_count": null,
      "outputs": []
    },
    {
      "cell_type": "markdown",
      "metadata": {
        "id": "e376aad4"
      },
      "source": [
        "Check info one more time to make sure everything goes as plan."
      ],
      "id": "e376aad4"
    },
    {
      "cell_type": "code",
      "metadata": {
        "id": "5eabd57d",
        "colab": {
          "base_uri": "https://localhost:8080/"
        },
        "outputId": "b5518dcb-362e-4f98-d80a-5645e661dc9d"
      },
      "source": [
        "df.printSchema()"
      ],
      "id": "5eabd57d",
      "execution_count": null,
      "outputs": [
        {
          "output_type": "stream",
          "name": "stdout",
          "text": [
            "root\n",
            " |-- _c0: integer (nullable = true)\n",
            " |-- ID: integer (nullable = true)\n",
            " |-- name: string (nullable = true)\n",
            " |-- category: string (nullable = true)\n",
            " |-- main_category: string (nullable = true)\n",
            " |-- currency: string (nullable = true)\n",
            " |-- deadline: string (nullable = true)\n",
            " |-- goal: string (nullable = true)\n",
            " |-- launched: string (nullable = true)\n",
            " |-- pledged: string (nullable = true)\n",
            " |-- state: string (nullable = true)\n",
            " |-- backers: string (nullable = true)\n",
            " |-- country: string (nullable = true)\n",
            " |-- usd pledged: string (nullable = true)\n",
            " |-- usd_pledged_real: string (nullable = true)\n",
            " |-- usd_goal_real: string (nullable = true)\n",
            "\n"
          ]
        }
      ]
    },
    {
      "cell_type": "markdown",
      "metadata": {
        "id": "cIp2lkEK2eq5"
      },
      "source": [
        "## **A.3** - Handling Missing Values\n",
        "---"
      ],
      "id": "cIp2lkEK2eq5"
    },
    {
      "cell_type": "markdown",
      "metadata": {
        "id": "b5779535"
      },
      "source": [
        "### Question 5"
      ],
      "id": "b5779535"
    },
    {
      "cell_type": "markdown",
      "metadata": {
        "id": "e9yTYukBt7Lx"
      },
      "source": [
        "Give the number of null values in *each* column."
      ],
      "id": "e9yTYukBt7Lx"
    },
    {
      "cell_type": "code",
      "metadata": {
        "id": "WjqC4x9d-Hvd"
      },
      "source": [
        "# YOUR CODE HERE"
      ],
      "id": "WjqC4x9d-Hvd",
      "execution_count": null,
      "outputs": []
    },
    {
      "cell_type": "markdown",
      "metadata": {
        "id": "63542259"
      },
      "source": [
        "### Question 6"
      ],
      "id": "63542259"
    },
    {
      "cell_type": "markdown",
      "metadata": {
        "id": "1RWVsdDT_uuu"
      },
      "source": [
        "Write one line of code to fill all the `NaN` values in name with `Unknown`."
      ],
      "id": "1RWVsdDT_uuu"
    },
    {
      "cell_type": "code",
      "metadata": {
        "id": "aecb0847"
      },
      "source": [
        "# YOUR CODE HERE"
      ],
      "id": "aecb0847",
      "execution_count": null,
      "outputs": []
    },
    {
      "cell_type": "markdown",
      "metadata": {
        "id": "t4_UCCLh2J4I"
      },
      "source": [
        "## **A.4** - Handling errors, corrupted data\n",
        "---"
      ],
      "id": "t4_UCCLh2J4I"
    },
    {
      "cell_type": "markdown",
      "metadata": {
        "id": "962021f0"
      },
      "source": [
        "Scanning through each column to find abnormalities and fix them. Simple as that."
      ],
      "id": "962021f0"
    },
    {
      "cell_type": "markdown",
      "metadata": {
        "id": "e0730a74"
      },
      "source": [
        "### Question 7"
      ],
      "id": "e0730a74"
    },
    {
      "cell_type": "markdown",
      "metadata": {
        "id": "XjOFSYquuDH9"
      },
      "source": [
        "Let's start with `category`. Write an expression to display the frequency of the value in the column `category`. (The unique values and how many times they appear)"
      ],
      "id": "XjOFSYquuDH9"
    },
    {
      "cell_type": "code",
      "metadata": {
        "id": "hrCgDTGC-KrK"
      },
      "source": [
        "# YOUR CODE HERE"
      ],
      "id": "hrCgDTGC-KrK",
      "execution_count": null,
      "outputs": []
    },
    {
      "cell_type": "markdown",
      "metadata": {
        "id": "09d1d498"
      },
      "source": [
        "### Question 8"
      ],
      "id": "09d1d498"
    },
    {
      "cell_type": "markdown",
      "metadata": {
        "id": "y0qs9yqruSCT"
      },
      "source": [
        "Do the same to check abnormalities in the column `country`."
      ],
      "id": "y0qs9yqruSCT"
    },
    {
      "cell_type": "code",
      "metadata": {
        "id": "A7W4bQvF-Mmg"
      },
      "source": [
        "# YOUR CODE HERE"
      ],
      "id": "A7W4bQvF-Mmg",
      "execution_count": null,
      "outputs": []
    },
    {
      "cell_type": "markdown",
      "metadata": {
        "id": "33b3f075"
      },
      "source": [
        "### Question 9"
      ],
      "id": "33b3f075"
    },
    {
      "cell_type": "markdown",
      "metadata": {
        "id": "qO6iLqLaufJa"
      },
      "source": [
        "Write an expression to select all rows with that weird value above (`N,0\"`)."
      ],
      "id": "qO6iLqLaufJa"
    },
    {
      "cell_type": "code",
      "metadata": {
        "id": "9oAi7OeJ-Nul"
      },
      "source": [
        "# YOUR CODE HERE"
      ],
      "id": "9oAi7OeJ-Nul",
      "execution_count": null,
      "outputs": []
    },
    {
      "cell_type": "markdown",
      "metadata": {
        "id": "52269b4a"
      },
      "source": [
        "### Question 10"
      ],
      "id": "52269b4a"
    },
    {
      "cell_type": "markdown",
      "metadata": {
        "id": "y15mlWtFuhiX"
      },
      "source": [
        "Write one line of code to return the ***unique currencies*** of the projects that have country as `N,0\"`?"
      ],
      "id": "y15mlWtFuhiX"
    },
    {
      "cell_type": "code",
      "metadata": {
        "id": "liT3aqBl-O-x"
      },
      "source": [
        "# YOUR CODE HERE"
      ],
      "id": "liT3aqBl-O-x",
      "execution_count": null,
      "outputs": []
    },
    {
      "cell_type": "markdown",
      "metadata": {
        "id": "117d16d9"
      },
      "source": [
        "### Question 11"
      ],
      "id": "117d16d9"
    },
    {
      "cell_type": "markdown",
      "metadata": {
        "id": "oRwVKNitAEzr"
      },
      "source": [
        "Our mission is apply a check function onto each row of the country-N0\" part.\n",
        "\n",
        "First, define a function that takes in a whole data row.\n",
        "\n",
        "- If currency is `USD` ---> country is `US`\n",
        "- If currency is `AUD` ---> country is `AU`\n",
        "- If currency is `CAD` ---> country is `CA`\n",
        "- If currency is `GBP` ---> country is `GB`\n",
        "- If currency is `SEK` ---> country is `SE`\n",
        "- If currency is `DKK` ---> country is `DK`\n",
        "- If currency is `NZD` ---> country is `NZ`\n",
        "- If currency is `NOK` ---> country is `NO`\n",
        "- If currency is `CHF` ---> country is `CH`\n",
        "- If currency is `EUR` ---> country is `DE`\n",
        "\n",
        "In the `EUR` case, we choose to replace by the mode --- `DE` (Within projects that in `EUR`, the most are from `DE` -- Germany)"
      ],
      "id": "oRwVKNitAEzr"
    },
    {
      "cell_type": "code",
      "metadata": {
        "id": "57bc4cac"
      },
      "source": [
        "from pyspark.sql.functions import udf\n",
        "from pyspark.sql.types import StringType\n",
        "\n",
        "# YOUR CODE HERE"
      ],
      "id": "57bc4cac",
      "execution_count": null,
      "outputs": []
    },
    {
      "cell_type": "markdown",
      "source": [
        "### Question 12"
      ],
      "metadata": {
        "id": "o0PMh0DVyKte"
      },
      "id": "o0PMh0DVyKte"
    },
    {
      "cell_type": "markdown",
      "source": [
        "Save result using .write.parquet()"
      ],
      "metadata": {
        "id": "UkGmLWeRyNJv"
      },
      "id": "UkGmLWeRyNJv"
    },
    {
      "cell_type": "code",
      "source": [],
      "metadata": {
        "id": "Ycw91EQhyMTN"
      },
      "id": "Ycw91EQhyMTN",
      "execution_count": null,
      "outputs": []
    }
  ]
}