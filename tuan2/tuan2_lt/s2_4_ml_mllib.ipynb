{
  "cells": [
    {
      "cell_type": "code",
      "execution_count": 1,
      "metadata": {
        "colab": {
          "base_uri": "https://localhost:8080/"
        },
        "id": "pvPrXLOu1qj5",
        "outputId": "22c8d574-5fa7-4364-e02c-90a9235039f6"
      },
      "outputs": [
        {
          "name": "stdout",
          "output_type": "stream",
          "text": [
            "Collecting pyspark\n",
            "  Downloading pyspark-3.5.1.tar.gz (317.0 MB)\n",
            "\u001b[2K     \u001b[90m━━━━━━━━━━━━━━━━━━━━━━━━━━━━━━━━━━━━━━━━\u001b[0m \u001b[32m317.0/317.0 MB\u001b[0m \u001b[31m1.4 MB/s\u001b[0m eta \u001b[36m0:00:00\u001b[0m\n",
            "\u001b[?25h  Preparing metadata (setup.py) ... \u001b[?25l\u001b[?25hdone\n",
            "Requirement already satisfied: py4j==0.10.9.7 in /usr/local/lib/python3.10/dist-packages (from pyspark) (0.10.9.7)\n",
            "Building wheels for collected packages: pyspark\n",
            "  Building wheel for pyspark (setup.py) ... \u001b[?25l\u001b[?25hdone\n",
            "  Created wheel for pyspark: filename=pyspark-3.5.1-py2.py3-none-any.whl size=317488491 sha256=d9478ae331b023d04d4892964dd6f7679c01c77f6e5aae6a60f50089e4f2477a\n",
            "  Stored in directory: /root/.cache/pip/wheels/80/1d/60/2c256ed38dddce2fdd93be545214a63e02fbd8d74fb0b7f3a6\n",
            "Successfully built pyspark\n",
            "Installing collected packages: pyspark\n",
            "Successfully installed pyspark-3.5.1\n"
          ]
        }
      ],
      "source": [
        "!pip install pyspark"
      ]
    },
    {
      "cell_type": "markdown",
      "metadata": {
        "id": "__BW22O-HrYT"
      },
      "source": [
        "# Machine Learning with PySpark MLlib"
      ]
    },
    {
      "cell_type": "markdown",
      "metadata": {
        "id": "G9WX8SBiHrYU"
      },
      "source": [
        "## Overview of PySpark MLlib"
      ]
    },
    {
      "cell_type": "code",
      "execution_count": 1,
      "metadata": {
        "id": "mJ04TBUgHrYV"
      },
      "outputs": [
        {
          "name": "stderr",
          "output_type": "stream",
          "text": [
            "24/04/04 00:26:45 WARN Utils: Your hostname, codespaces-dc2d55 resolves to a loopback address: 127.0.0.1; using 172.16.5.4 instead (on interface eth0)\n",
            "24/04/04 00:26:45 WARN Utils: Set SPARK_LOCAL_IP if you need to bind to another address\n",
            "Setting default log level to \"WARN\".\n",
            "To adjust logging level use sc.setLogLevel(newLevel). For SparkR, use setLogLevel(newLevel).\n",
            "24/04/04 00:26:46 WARN NativeCodeLoader: Unable to load native-hadoop library for your platform... using builtin-java classes where applicable\n",
            "24/04/04 00:26:46 WARN Utils: Service 'SparkUI' could not bind on port 4040. Attempting port 4041.\n"
          ]
        },
        {
          "name": "stderr",
          "output_type": "stream",
          "text": [
            "24/04/04 00:26:57 WARN GarbageCollectionMetrics: To enable non-built-in garbage collector(s) List(G1 Concurrent GC), users should configure it(them) to spark.eventLog.gcMetrics.youngGenerationGarbageCollectors or spark.eventLog.gcMetrics.oldGenerationGarbageCollectors\n"
          ]
        }
      ],
      "source": [
        "import pyspark as sp\n",
        "sc = sp.SparkContext.getOrCreate()"
      ]
    },
    {
      "cell_type": "markdown",
      "metadata": {
        "id": "z04yfLYyHrYV"
      },
      "source": [
        "## PySpark MLlib algorithms"
      ]
    },
    {
      "cell_type": "code",
      "execution_count": 3,
      "metadata": {
        "id": "_xrca5eWHrYV"
      },
      "outputs": [],
      "source": [
        "# Import the library for ALS\n",
        "from pyspark.mllib.recommendation import ALS\n",
        "\n",
        "# Import the library for Logistic Regression\n",
        "from pyspark.mllib.classification import LogisticRegressionWithLBFGS\n",
        "\n",
        "# Import the library for Kmeans\n",
        "from pyspark.mllib.clustering import KMeans"
      ]
    },
    {
      "cell_type": "markdown",
      "metadata": {
        "id": "FrabEoDpHrYW"
      },
      "source": [
        "# Collaborative filtering\n",
        "Collaborative filtering is a technique for recommender systems wherein users' ratings and interactions with various products are used to recommend new ones."
      ]
    },
    {
      "cell_type": "markdown",
      "metadata": {
        "id": "dquHqWbqHrYX"
      },
      "source": [
        "## Loading Movie Lens dataset into RDDs\n",
        "\n"
      ]
    },
    {
      "cell_type": "markdown",
      "metadata": {
        "id": "tPSM50q4K_8K"
      },
      "source": [
        "The goal is to develop a simple movie recommendation system using PySpark MLlib\n",
        "\n",
        "In the first part, you'll first load the MovieLens data (ratings.csv) into RDD and from each line in the RDD which is formatted as userId,movieId,rating,timestamp, you'll need to map the MovieLens data to a Ratings object (userID, productID, rating) after removing timestamp column and finally you'll split the RDD into training and test RDDs."
      ]
    },
    {
      "cell_type": "code",
      "execution_count": 4,
      "metadata": {
        "id": "EnOV3uThHrYY"
      },
      "outputs": [],
      "source": [
        "from pyspark.mllib.recommendation import Rating"
      ]
    },
    {
      "cell_type": "code",
      "execution_count": 5,
      "metadata": {
        "id": "VURRrmDCHrYY"
      },
      "outputs": [],
      "source": [
        "file_path = 'ratings.csv'"
      ]
    },
    {
      "cell_type": "code",
      "execution_count": 6,
      "metadata": {
        "id": "dzdTFLkSHrYY"
      },
      "outputs": [],
      "source": [
        "# Load the data into RDD\n",
        "data = sc.textFile(file_path)\n",
        "\n",
        "# Split the RDD\n",
        "ratings = data.map(lambda l: l.split(','))\n",
        "\n",
        "# Transform the ratings RDD\n",
        "ratings_final = ratings.map(lambda line: Rating(int(line[0]), int(line[1]), float(line[2])))\n",
        "\n",
        "# Split the data into training and test\n",
        "training_data, test_data = ratings_final.randomSplit([0.8, 0.2])"
      ]
    },
    {
      "cell_type": "markdown",
      "metadata": {
        "id": "MvoRKZUUHrYZ"
      },
      "source": [
        "## Model training and predictions\n",
        "* After splitting the data into training and test data, in the second part, you'll train the ALS algorithm using the training data.\n",
        "* PySpark MLlib's ALS algorithm has the following mandatory parameters - `rank` (the number of latent factors in the model) and `iterations` (number of iterations to run).\n",
        "* After training the ALS model, you can use the model to predict the ratings from the test data. For this, you will provide the user and item columns from the test dataset and finally return the list of 2 rows of predictAll() output."
      ]
    },
    {
      "cell_type": "code",
      "execution_count": 7,
      "metadata": {
        "colab": {
          "base_uri": "https://localhost:8080/"
        },
        "id": "la-2c-CRHrYZ",
        "outputId": "bd4d76cd-542a-4b01-bdea-74113fd226f0"
      },
      "outputs": [
        {
          "data": {
            "text/plain": [
              "[Rating(user=452, product=1084, rating=3.7352245660614427),\n",
              " Rating(user=96, product=1084, rating=4.5245160098517525)]"
            ]
          },
          "execution_count": 7,
          "metadata": {},
          "output_type": "execute_result"
        }
      ],
      "source": [
        "# Create the ALS model on the training data\n",
        "model = ALS.train(training_data, rank=10, iterations=10)\n",
        "\n",
        "# Drop the ratings column\n",
        "testdata_no_rating = test_data.map(lambda p: (p[0], p[1]))\n",
        "\n",
        "# Predict the model\n",
        "predictions = model.predictAll(testdata_no_rating)\n",
        "\n",
        "# Return the first 2 rows of the RDD\n",
        "predictions.take(2)"
      ]
    },
    {
      "cell_type": "markdown",
      "metadata": {
        "id": "XlmojhsCHrYZ"
      },
      "source": [
        "## Model evaluation using MSE\n",
        "* After generating the predicted ratings from the test data using ALS model, in this final, you'll prepare the data for calculating Mean Square Error (MSE) of the model. The MSE is the average value of `(original rating – predicted rating)**2` for all users and indicates the absolute fit of the model to the data.\n",
        "* To do this, first, you'll organize both the ratings and prediction RDDs to make a tuple of ((user, product), rating)), then join the ratings RDD with prediction RDD and finally apply a squared difference function along with `mean()` to get the MSE."
      ]
    },
    {
      "cell_type": "code",
      "execution_count": 8,
      "metadata": {
        "colab": {
          "base_uri": "https://localhost:8080/"
        },
        "id": "CtsqQSlpHrYa",
        "outputId": "9acc1334-bdac-4af5-c875-e8375e0742b3"
      },
      "outputs": [
        {
          "name": "stdout",
          "output_type": "stream",
          "text": [
            "Mean Squared Error of the model for the test data = 1.35\n"
          ]
        }
      ],
      "source": [
        "# Prepare ratings data\n",
        "rates = ratings_final.map(lambda r: ((r[0], r[1]), r[2]))\n",
        "\n",
        "# Prepare predictions data\n",
        "preds = predictions.map(lambda r: ((r[0], r[1]), r[2]))\n",
        "\n",
        "# Join the ratings data with predictions data\n",
        "rates_and_preds = rates.join(preds)\n",
        "\n",
        "# Calculate and print MSE\n",
        "MSE = rates_and_preds.map(lambda r: (r[1][0] - r[1][1])**2).mean()\n",
        "print(\"Mean Squared Error of the model for the test data = {:.2f}\".format(MSE))"
      ]
    },
    {
      "cell_type": "markdown",
      "metadata": {
        "id": "N_s38_v1HrYa"
      },
      "source": [
        "# Classification"
      ]
    },
    {
      "cell_type": "markdown",
      "metadata": {
        "id": "kDxm39aeHrYb"
      },
      "source": [
        "## Loading spam and non-spam data\n",
        "\n",
        "Create an email spam classifier with logistic regression using Spark MLlib.\n",
        "\n",
        "Here are the brief steps for creating a spam classifier.\n",
        "* Create an RDD of strings representing email.\n",
        "* Run MLlib’s feature extraction algorithms to convert text into an RDD of vectors.\n",
        "* Call a classification algorithm on the RDD of vectors to return a model object to classify new points.\n",
        "* Evaluate the model on a test dataset using one of MLlib’s evaluation functions."
      ]
    },
    {
      "cell_type": "markdown",
      "metadata": {
        "id": "rmb2zg3zHrYb"
      },
      "source": [
        "In the first part, you'll load the 'spam' and 'ham' (non-spam) files into RDDs, split the emails into individual words and look at the first element in each of the RDD."
      ]
    },
    {
      "cell_type": "code",
      "execution_count": 9,
      "metadata": {
        "id": "zAbMjer9HrYb"
      },
      "outputs": [],
      "source": [
        "file_path_spam = 'spam.txt'\n",
        "file_path_non_spam = 'ham.txt'"
      ]
    },
    {
      "cell_type": "code",
      "execution_count": 10,
      "metadata": {
        "colab": {
          "base_uri": "https://localhost:8080/"
        },
        "id": "HDLioD6lHrYb",
        "outputId": "b394c830-2907-4d54-f316-b0662f107684"
      },
      "outputs": [
        {
          "name": "stdout",
          "output_type": "stream",
          "text": [
            "The first element in spam_words is You\n",
            "The first element in non_spam_words is Rofl.\n"
          ]
        }
      ],
      "source": [
        "# Load the datasets into RDDs\n",
        "spam_rdd = sc.textFile(file_path_spam)\n",
        "non_spam_rdd = sc.textFile(file_path_non_spam)\n",
        "\n",
        "# Split the email messages into words\n",
        "spam_words = spam_rdd.flatMap(lambda email: email.split(' '))\n",
        "non_spam_words = non_spam_rdd.flatMap(lambda email: email.split(' '))\n",
        "\n",
        "# Print the first element in the split RDD\n",
        "print(\"The first element in spam_words is\", spam_words.first())\n",
        "print(\"The first element in non_spam_words is\", non_spam_words.first())"
      ]
    },
    {
      "cell_type": "markdown",
      "metadata": {
        "id": "XhDWdEfcHrYb"
      },
      "source": [
        "## Feature hashing and LabelPoint\n",
        "* After splitting the emails into words, our raw data set of 'spam' and 'non-spam' is currently composed of 1-line messages consisting of spam and non-spam messages. In order to classify these messages, we need to convert text into features.\n",
        "* In the second part, you'll first create a `HashingTF()` instance to map text to vectors of 200 features, then for each message in 'spam' and 'non-spam' files you'll split them into words, and each word is mapped to one feature. These are the features that will be used to decide whether a message is 'spam' or 'non-spam'.\n",
        "* Next, you'll create labels for features. For a valid message, the label will be 0 (i.e. the message is not spam) and for a 'spam' message, the label will be 1 (i.e. the message is spam).\n",
        "* Finally, you'll combine both the labeled datasets."
      ]
    },
    {
      "cell_type": "code",
      "execution_count": 11,
      "metadata": {
        "id": "E_Lu7DKVHrYc"
      },
      "outputs": [],
      "source": [
        "from pyspark.mllib.feature import HashingTF\n",
        "from pyspark.mllib.regression import LabeledPoint"
      ]
    },
    {
      "cell_type": "code",
      "execution_count": 12,
      "metadata": {
        "id": "Pbc_OaBfHrYc"
      },
      "outputs": [],
      "source": [
        "# Create a HashingTf instance with 200 features\n",
        "tf = HashingTF(numFeatures=200)\n",
        "\n",
        "# Map each word to one feature\n",
        "spam_features = tf.transform(spam_words)\n",
        "non_spam_features = tf.transform(non_spam_words)\n",
        "\n",
        "# Label the features: 1 for spam, 0 for non-spam\n",
        "spam_samples = spam_features.map(lambda features:LabeledPoint(1, features))\n",
        "non_spam_samples = non_spam_features.map(lambda features:LabeledPoint(0, features))\n",
        "\n",
        "# Combine the two datasets\n",
        "samples = spam_samples.union(non_spam_samples)"
      ]
    },
    {
      "cell_type": "markdown",
      "metadata": {
        "id": "alYxlPStHrYc"
      },
      "source": [
        "## Logistic Regression model training\n",
        "* After creating labels and features for the data, we’re ready to build a model that can learn from it (training).\n",
        "* But before you train the model, in this final part, you'll split the data into training and test, run Logistic Regression model on the training data\n",
        "* finally check the accuracy of the model trained on training data."
      ]
    },
    {
      "cell_type": "code",
      "execution_count": 13,
      "metadata": {
        "colab": {
          "base_uri": "https://localhost:8080/"
        },
        "id": "HU7TFKSLHrYc",
        "outputId": "01b0bb99-3dad-41de-e2f2-4c235346146a"
      },
      "outputs": [
        {
          "name": "stdout",
          "output_type": "stream",
          "text": [
            "Model accuracy : 0.82\n"
          ]
        }
      ],
      "source": [
        "# Split the data into training and testing\n",
        "train_samples,test_samples = samples.randomSplit([0.8, 0.2])\n",
        "\n",
        "# Train the model\n",
        "model = LogisticRegressionWithLBFGS.train(train_samples)\n",
        "\n",
        "# Create a prediction label from the test data\n",
        "predictions = model.predict(test_samples.map(lambda x: x.features))\n",
        "\n",
        "# Combine original labels with the predicted labels\n",
        "labels_and_preds = test_samples.map(lambda x: x.label).zip(predictions)\n",
        "\n",
        "# Check the accuracy of the model on the test data\n",
        "accuracy = labels_and_preds.filter(lambda x: x[0] == x[1]).count() / float(test_samples.count())\n",
        "print(\"Model accuracy : {:.2f}\".format(accuracy))"
      ]
    },
    {
      "cell_type": "markdown",
      "metadata": {
        "id": "rJh9F1JBHrYc"
      },
      "source": [
        "Model accuracy : 0.74"
      ]
    },
    {
      "cell_type": "markdown",
      "metadata": {
        "id": "xS_bM13pHrYc"
      },
      "source": [
        "# Clustering\n",
        "Clustering is the unsupervised learning task that involves grouping objects into clusters of high similarity. Unlike the supervised tasks, where data is labeled, clustering can be used to make sense of unlabeled data."
      ]
    },
    {
      "cell_type": "markdown",
      "metadata": {
        "id": "i-0ThqoVHrYe"
      },
      "source": [
        "## Loading and parsing the 5000 points data\n",
        "* Find out how many clusters are there in a dataset containing 5000 rows and 2 columns. For this you'll first load the data into an RDD, parse the RDD based on the delimiter, run the KMeans model, evaluate the model and finally visualize the clusters.\n",
        "\n",
        "* In the first part, you'll load the data into RDD, parse the RDD based on the delimiter and convert the string type of the data to an integer."
      ]
    },
    {
      "cell_type": "code",
      "execution_count": 14,
      "metadata": {
        "id": "U9squp9uHrYe"
      },
      "outputs": [],
      "source": [
        "file_path = '5000_points.txt'"
      ]
    },
    {
      "cell_type": "code",
      "execution_count": 15,
      "metadata": {
        "colab": {
          "base_uri": "https://localhost:8080/"
        },
        "id": "TDMCRR-zHrYe",
        "outputId": "32366d90-f907-487c-b878-13be99467171"
      },
      "outputs": [
        {
          "name": "stdout",
          "output_type": "stream",
          "text": [
            "There are 5000 rows in the rdd_split_int dataset\n"
          ]
        }
      ],
      "source": [
        "# Load the dataset into an RDD\n",
        "clusterRDD = sc.textFile(file_path)\n",
        "\n",
        "# Split the RDD based on tab\n",
        "rdd_split = clusterRDD.map(lambda x: x.split(\"\\t\"))\n",
        "\n",
        "# Transform the split RDD by creating a list of integers\n",
        "rdd_split_int = rdd_split.map(lambda x: [int(x[0]), int(x[1])])\n",
        "\n",
        "# Count the number of rows in RDD\n",
        "print(\"There are {} rows in the rdd_split_int dataset\".format(rdd_split_int.count()))"
      ]
    },
    {
      "cell_type": "markdown",
      "metadata": {
        "id": "AS8zU5TbHrYe"
      },
      "source": [
        "## K-means training\n",
        "Now that the RDD is ready for training, in this 2nd part, you'll test with k's from 13 to 16 (to save computation time) and use the **elbow** method to chose the correct k. The idea of the elbow method is to run K-means clustering on the dataset for different values of k, calculate Within Set Sum of Squared Error (WSSSE) and select the best k based on the sudden drop in WSSSE. Next, you'll retrain the model with the best k and finally, get the centroids (cluster centers).\n",
        "* The elbow point is the point in the plot where the rate of decrease in WSSSE slows down significantly. This point represents the optimal number of clusters. Choose the value of K at the elbow point as the best WSSSE for K-means."
      ]
    },
    {
      "cell_type": "code",
      "execution_count": 16,
      "metadata": {
        "id": "bJ2hAMtrHrYe"
      },
      "outputs": [],
      "source": [
        "from math import sqrt\n",
        "def error(point):\n",
        "    center = model.centers[model.predict(point)]\n",
        "    return sqrt(sum([x**2 for x in (point - center)]))"
      ]
    },
    {
      "cell_type": "code",
      "execution_count": 17,
      "metadata": {
        "colab": {
          "base_uri": "https://localhost:8080/"
        },
        "id": "S7oJxwDxHrYf",
        "outputId": "3a21f54c-ff05-40f2-b061-4f1c30d75b75"
      },
      "outputs": [
        {
          "name": "stdout",
          "output_type": "stream",
          "text": [
            "The cluster 13 has Within Set Sum of Squared Error 252060331.1260039\n",
            "The cluster 14 has Within Set Sum of Squared Error 215808893.2796594\n",
            "The cluster 15 has Within Set Sum of Squared Error 169394691.52639425\n",
            "The cluster 16 has Within Set Sum of Squared Error 168103213.0429197\n"
          ]
        }
      ],
      "source": [
        "# Train the model with clusters from 13 to 16 and compute WSSSE\n",
        "for clst in range(13, 17):\n",
        "    model = KMeans.train(rdd_split_int, clst, seed=1)\n",
        "    WSSSE = rdd_split_int.map(lambda point: error(point)).reduce(lambda x, y: x + y)\n",
        "    print(\"The cluster {} has Within Set Sum of Squared Error {}\".format(clst, WSSSE))"
      ]
    },
    {
      "cell_type": "markdown",
      "metadata": {
        "id": "eWsTVUkVHrYf"
      },
      "source": [
        "The best WSSSE for K-means depends on the specific context of your clustering problem, but generally, the cluster with the lowest WSSSE value is considered the best cluster.\n",
        "\n",
        "In this case, the cluster with the lowest WSSSE value is the cluster 15, which has a WSSSE of 169394691.52639425. Therefore, if you have to choose the best cluster among these four options, cluster 15 would be the best option."
      ]
    },
    {
      "cell_type": "code",
      "execution_count": 18,
      "metadata": {
        "id": "zIG1j2_4HrYf"
      },
      "outputs": [],
      "source": [
        "# Train the model again with the best k\n",
        "model = KMeans.train(rdd_split_int, k=15, seed=1)\n",
        "\n",
        "# Get cluster centers\n",
        "cluster_centers = model.clusterCenters"
      ]
    },
    {
      "cell_type": "markdown",
      "metadata": {
        "id": "Wqg9vL2-HrYf"
      },
      "source": [
        "## Visualizing clusters\n",
        "You just trained the k-means model with an optimum k value (k=15) and generated cluster centers (centroids).\n",
        "* In the final part, you will visualize the clusters and the centroids by overlaying them. This will indicate how well the clustering worked (ideally, the clusters should be distinct from each other and centroids should be at the center of their respective clusters).\n",
        "\n",
        "* To achieve this, you will first convert the rdd_split_int RDD into a Spark DataFrame, and then into Pandas DataFrame which can be used for plotting. Similarly, you will convert cluster_centers into a Pandas DataFrame. Once both the DataFrames are created, you will create scatter plots using Matplotlib."
      ]
    },
    {
      "cell_type": "code",
      "execution_count": 19,
      "metadata": {
        "id": "ASedZcn_HrYf"
      },
      "outputs": [],
      "source": [
        "# Import SparkSession from pyspark.sql\n",
        "from pyspark.sql import SparkSession\n",
        "\n",
        "# Create spark\n",
        "spark = SparkSession.builder.getOrCreate()\n",
        "\n",
        "import pandas as pd\n",
        "from matplotlib import pyplot as plt"
      ]
    },
    {
      "cell_type": "code",
      "execution_count": 20,
      "metadata": {
        "colab": {
          "base_uri": "https://localhost:8080/",
          "height": 463
        },
        "id": "JWkVhEc8HrYg",
        "outputId": "065c5e04-89d4-4a09-be78-6ed65ec0e7f3"
      },
      "outputs": [
        {
          "data": {
            "image/png": "[encoded data removed]",
            "text/plain": [
              "<Figure size 640x480 with 1 Axes>"
            ]
          },
          "metadata": {},
          "output_type": "display_data"
        }
      ],
      "source": [
        "# Convert rdd_split_int RDD into Spark DataFrame and then to Pandas DataFrame\n",
        "rdd_split_int_df_pandas = spark.createDataFrame(rdd_split_int, schema=[\"col1\", \"col2\"]).toPandas()\n",
        "\n",
        "# Convert cluster_centers to a pandas DataFrame\n",
        "cluster_centers_pandas = pd.DataFrame(cluster_centers, columns=[\"col1\", \"col2\"])\n",
        "\n",
        "# Create an overlaid scatter plot of clusters and centroids\n",
        "plt.scatter(rdd_split_int_df_pandas[\"col1\"], rdd_split_int_df_pandas[\"col2\"])\n",
        "plt.scatter(cluster_centers_pandas[\"col1\"], cluster_centers_pandas[\"col2\"], color=\"red\", marker=\"x\")\n",
        "plt.show()"
      ]
    }
  ],
  "metadata": {
    "colab": {
      "provenance": []
    },
    "kernelspec": {
      "display_name": "Python 3",
      "language": "python",
      "name": "python3"
    },
    "language_info": {
      "codemirror_mode": {
        "name": "ipython",
        "version": 3
      },
      "file_extension": ".py",
      "mimetype": "text/x-python",
      "name": "python",
      "nbconvert_exporter": "python",
      "pygments_lexer": "ipython3",
      "version": "3.10.13"
    }
  },
  "nbformat": 4,
  "nbformat_minor": 0
}
