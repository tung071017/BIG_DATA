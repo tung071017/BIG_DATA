{
  "cells": [
    {
      "cell_type": "markdown",
      "metadata": {
        "id": "rmOEqO--GHra"
      },
      "source": [
        "# PySpark SQL & DataFrames\n"
      ]
    },
    {
      "cell_type": "markdown",
      "source": [
        "## Abstracting Data with DataFrames"
      ],
      "metadata": {
        "id": "y23R5mMoGOzS"
      }
    },
    {
      "cell_type": "markdown",
      "metadata": {
        "id": "iy1z9S6RGHre"
      },
      "source": [
        "header=True may be passed to make sure that the method treats the first row as column names.\n",
        "\n",
        "inferSchema=True may be passed to instruct the DataFrame reader to infer the schema from the data and by doing so, it will attempt to assign the right datatype to each column based on the content."
      ]
    },
    {
      "cell_type": "markdown",
      "metadata": {
        "id": "_LavMBPnGHre"
      },
      "source": [
        "### RDD to DataFrame\n"
      ]
    },
    {
      "cell_type": "code",
      "source": [
        "!pip install pyspark"
      ],
      "metadata": {
        "colab": {
          "base_uri": "https://localhost:8080/"
        },
        "id": "Q6cKiMGMGWIQ",
        "outputId": "94417b4b-79c3-411c-ed06-d8e631a41a91"
      },
      "execution_count": 11,
      "outputs": [
        {
          "output_type": "stream",
          "name": "stdout",
          "text": [
            "Requirement already satisfied: pyspark in /usr/local/lib/python3.10/dist-packages (3.5.1)\n",
            "Requirement already satisfied: py4j==0.10.9.7 in /usr/local/lib/python3.10/dist-packages (from pyspark) (0.10.9.7)\n"
          ]
        }
      ]
    },
    {
      "cell_type": "code",
      "execution_count": 12,
      "metadata": {
        "id": "ARljO4ibGHre"
      },
      "outputs": [],
      "source": [
        "import pyspark as sp\n",
        "sc = sp.SparkContext.getOrCreate()"
      ]
    },
    {
      "cell_type": "code",
      "execution_count": 13,
      "metadata": {
        "id": "Gg0hQRm2GHrf"
      },
      "outputs": [],
      "source": [
        "sample_list = [('Mona',20), ('Jennifer',34),('John',20), ('Jim',26)]"
      ]
    },
    {
      "cell_type": "code",
      "execution_count": 14,
      "metadata": {
        "colab": {
          "base_uri": "https://localhost:8080/"
        },
        "id": "kFnVgG7YGHrg",
        "outputId": "35bf7810-d988-4189-a40a-25db33639607"
      },
      "outputs": [
        {
          "output_type": "stream",
          "name": "stdout",
          "text": [
            "<pyspark.sql.session.SparkSession object at 0x78498410dcc0>\n"
          ]
        }
      ],
      "source": [
        "# Import SparkSession from pyspark.sql\n",
        "from pyspark.sql import SparkSession\n",
        "\n",
        "# Create spark\n",
        "spark = SparkSession.builder.getOrCreate()\n",
        "\n",
        "# Print spark\n",
        "print(spark)"
      ]
    },
    {
      "cell_type": "code",
      "execution_count": 15,
      "metadata": {
        "colab": {
          "base_uri": "https://localhost:8080/"
        },
        "id": "lBE-0DYlGHrg",
        "outputId": "4b8c58f0-0da9-4e3a-c51f-e724c615ee09"
      },
      "outputs": [
        {
          "output_type": "stream",
          "name": "stdout",
          "text": [
            "The type of names_df is <class 'pyspark.sql.dataframe.DataFrame'>\n"
          ]
        }
      ],
      "source": [
        "# Create an RDD from the list\n",
        "rdd = sc.parallelize(sample_list)\n",
        "\n",
        "# Create a PySpark DataFrame\n",
        "names_df = spark.createDataFrame(rdd, schema=['Name', 'Age'])\n",
        "\n",
        "# Check the type of names_df\n",
        "print(\"The type of names_df is\", type(names_df))"
      ]
    },
    {
      "cell_type": "markdown",
      "metadata": {
        "id": "QR3N7QAIGHrh"
      },
      "source": [
        "### Loading CSV into DataFrame\n"
      ]
    },
    {
      "cell_type": "code",
      "execution_count": 16,
      "metadata": {
        "id": "nqJM-TRWGHrh"
      },
      "outputs": [],
      "source": [
        "file_path = \"people.csv\""
      ]
    },
    {
      "cell_type": "code",
      "execution_count": 17,
      "metadata": {
        "colab": {
          "base_uri": "https://localhost:8080/"
        },
        "id": "MZjciN3GGHrh",
        "outputId": "f49d7aba-994d-4098-de6c-143cb3b63df2"
      },
      "outputs": [
        {
          "output_type": "stream",
          "name": "stdout",
          "text": [
            "The type of people_df is <class 'pyspark.sql.dataframe.DataFrame'>\n"
          ]
        }
      ],
      "source": [
        "# Create an DataFrame from file_path\n",
        "people_df = spark.read.csv(file_path, header=True, inferSchema=True)\n",
        "\n",
        "# Check the type of people_df\n",
        "print(\"The type of people_df is\", type(people_df))"
      ]
    },
    {
      "cell_type": "markdown",
      "metadata": {
        "id": "OXLF4jOTGHrk"
      },
      "source": [
        "## Inspecting data in PySpark DataFrame\n",
        "Inspecting data is very crucial before performing analysis such as plotting, modeling, training etc.,"
      ]
    },
    {
      "cell_type": "code",
      "execution_count": 18,
      "metadata": {
        "colab": {
          "base_uri": "https://localhost:8080/"
        },
        "id": "hjICR8TYGHrk",
        "outputId": "f02849b3-965b-4260-f872-b241c77104fd"
      },
      "outputs": [
        {
          "output_type": "stream",
          "name": "stdout",
          "text": [
            "+---+---------+----------------+------+-------------------+\n",
            "|_c0|person_id|            name|   sex|      date of birth|\n",
            "+---+---------+----------------+------+-------------------+\n",
            "|  0|      100|  Penelope Lewis|female|1990-08-31 00:00:00|\n",
            "|  1|      101|   David Anthony|  male|1971-10-14 00:00:00|\n",
            "|  2|      102|       Ida Shipp|female|1962-05-24 00:00:00|\n",
            "|  3|      103|    Joanna Moore|female|2017-03-10 00:00:00|\n",
            "|  4|      104|  Lisandra Ortiz|female|2020-08-05 00:00:00|\n",
            "|  5|      105|   David Simmons|  male|1999-12-30 00:00:00|\n",
            "|  6|      106|   Edward Hudson|  male|1983-05-09 00:00:00|\n",
            "|  7|      107|    Albert Jones|  male|1990-09-13 00:00:00|\n",
            "|  8|      108|Leonard Cavender|  male|1958-08-08 00:00:00|\n",
            "|  9|      109|  Everett Vadala|  male|2005-05-24 00:00:00|\n",
            "+---+---------+----------------+------+-------------------+\n",
            "only showing top 10 rows\n",
            "\n",
            "There are 100000 rows in the people_df DataFrame.\n",
            "There are 5 columns in the people_df DataFrame and their names are ['_c0', 'person_id', 'name', 'sex', 'date of birth']\n"
          ]
        }
      ],
      "source": [
        "# Print the first 10 observations\n",
        "people_df.show(10)\n",
        "\n",
        "# Count the number of rows\n",
        "print(\"There are {} rows in the people_df DataFrame.\".format(people_df.count()))\n",
        "\n",
        "# Count the number of columns and their names\n",
        "print(\"There are {} columns in the people_df DataFrame and their names are {}\".format(len(people_df.columns), people_df.columns))"
      ]
    },
    {
      "cell_type": "markdown",
      "metadata": {
        "id": "HgAl5UBUGHrk"
      },
      "source": [
        "## PySpark DataFrame subsetting and cleaning\n",
        "After data inspection, it is often necessary to clean the data which mainly involves subsetting, renaming the columns, removing duplicated rows etc.,"
      ]
    },
    {
      "cell_type": "code",
      "execution_count": 19,
      "metadata": {
        "colab": {
          "base_uri": "https://localhost:8080/"
        },
        "id": "2g7QYO_CGHrk",
        "outputId": "0227eb4f-4e0e-4634-f2d1-9a870600e5cc"
      },
      "outputs": [
        {
          "output_type": "stream",
          "name": "stdout",
          "text": [
            "+----------------+------+-------------------+\n",
            "|            name|   sex|      date of birth|\n",
            "+----------------+------+-------------------+\n",
            "|  Penelope Lewis|female|1990-08-31 00:00:00|\n",
            "|   David Anthony|  male|1971-10-14 00:00:00|\n",
            "|       Ida Shipp|female|1962-05-24 00:00:00|\n",
            "|    Joanna Moore|female|2017-03-10 00:00:00|\n",
            "|  Lisandra Ortiz|female|2020-08-05 00:00:00|\n",
            "|   David Simmons|  male|1999-12-30 00:00:00|\n",
            "|   Edward Hudson|  male|1983-05-09 00:00:00|\n",
            "|    Albert Jones|  male|1990-09-13 00:00:00|\n",
            "|Leonard Cavender|  male|1958-08-08 00:00:00|\n",
            "|  Everett Vadala|  male|2005-05-24 00:00:00|\n",
            "+----------------+------+-------------------+\n",
            "only showing top 10 rows\n",
            "\n",
            "There were 100000 rows before removing duplicates, and 99998 rows after removing duplicates\n"
          ]
        }
      ],
      "source": [
        "# Select name, sex and date of birth columns\n",
        "people_df_sub = people_df.select('name', 'sex', 'date of birth')\n",
        "\n",
        "# Print the first 10 observations from people_df_sub\n",
        "people_df_sub.show(10)\n",
        "\n",
        "# Remove duplicate entries from people_df_sub\n",
        "people_df_sub_nodup = people_df_sub.dropDuplicates()\n",
        "\n",
        "# Count the number of rows\n",
        "print(\"There were {} rows before removing duplicates, and {} rows after removing duplicates\".format(people_df_sub.count(), people_df_sub_nodup.count()))"
      ]
    },
    {
      "cell_type": "markdown",
      "metadata": {
        "id": "CbRAQHbmGHrl"
      },
      "source": [
        "## Filtering your DataFrame\n"
      ]
    },
    {
      "cell_type": "code",
      "execution_count": 20,
      "metadata": {
        "colab": {
          "base_uri": "https://localhost:8080/"
        },
        "id": "KQ6Q5vnxGHrl",
        "outputId": "581e38ee-188f-468f-bc6f-f5eec93d9b0e"
      },
      "outputs": [
        {
          "output_type": "stream",
          "name": "stdout",
          "text": [
            "There are 49014 rows in the people_df_female DataFrame and 49066 rows in the people_df_male DataFrame\n"
          ]
        }
      ],
      "source": [
        "# Filter people_df to select females\n",
        "people_df_female = people_df.filter(people_df.sex == \"female\")\n",
        "\n",
        "# Filter people_df to select males\n",
        "people_df_male = people_df.filter(people_df.sex == \"male\")\n",
        "\n",
        "# Count the number of rows\n",
        "print(\"There are {} rows in the people_df_female DataFrame and {} rows in the people_df_male DataFrame\".format(people_df_female.count(), people_df_male.count()))"
      ]
    },
    {
      "cell_type": "markdown",
      "metadata": {
        "id": "Es5--_DeGHrl"
      },
      "source": [
        "## Interacting with DataFrames using PySpark SQL\n",
        "## Running SQL Queries Programmatically\n",
        "DataFrames can easily be manipulated using SQL queries in PySpark. The `sql()` function on a SparkSession enables applications to run SQL queries programmatically and returns the result as another DataFrame."
      ]
    },
    {
      "cell_type": "code",
      "execution_count": 21,
      "metadata": {
        "colab": {
          "base_uri": "https://localhost:8080/"
        },
        "id": "_noGfyQnGHrp",
        "outputId": "463be5e6-a416-4444-ef69-dae72f469d6a"
      },
      "outputs": [
        {
          "output_type": "stream",
          "name": "stdout",
          "text": [
            "+----------------+\n",
            "|            name|\n",
            "+----------------+\n",
            "|  Penelope Lewis|\n",
            "|   David Anthony|\n",
            "|       Ida Shipp|\n",
            "|    Joanna Moore|\n",
            "|  Lisandra Ortiz|\n",
            "|   David Simmons|\n",
            "|   Edward Hudson|\n",
            "|    Albert Jones|\n",
            "|Leonard Cavender|\n",
            "|  Everett Vadala|\n",
            "+----------------+\n",
            "only showing top 10 rows\n",
            "\n"
          ]
        }
      ],
      "source": [
        "# Create a temporary table \"people\"\n",
        "people_df.createOrReplaceTempView(\"people\")\n",
        "\n",
        "# Construct a query to select the names of the people from the temporary table \"people\"\n",
        "query = '''SELECT name FROM people'''\n",
        "\n",
        "# Assign the result of Spark's query to people_df_names\n",
        "people_df_names = spark.sql(query)\n",
        "\n",
        "# Print the top 10 names of the people\n",
        "people_df_names.show(10)"
      ]
    },
    {
      "cell_type": "markdown",
      "metadata": {
        "id": "ZxbGTzuoGHrq"
      },
      "source": [
        "## SQL queries for filtering Table\n"
      ]
    },
    {
      "cell_type": "code",
      "execution_count": 22,
      "metadata": {
        "colab": {
          "base_uri": "https://localhost:8080/"
        },
        "id": "I9lzUhqnGHrq",
        "outputId": "c105b198-c86c-491f-c36e-a0b8e9d9c939"
      },
      "outputs": [
        {
          "output_type": "stream",
          "name": "stdout",
          "text": [
            "There are 49014 rows in the people_female_df and 49066 rows in the people_male_df DataFrames\n"
          ]
        }
      ],
      "source": [
        "# Filter the people table to select female sex\n",
        "people_female_df = spark.sql('SELECT * FROM people WHERE sex==\"female\"')\n",
        "\n",
        "# Filter the people table DataFrame to select male sex\n",
        "people_male_df = spark.sql('SELECT * FROM people WHERE sex==\"male\"')\n",
        "\n",
        "# Count the number of rows in both DataFrames\n",
        "print(\"There are {} rows in the people_female_df and {} rows in the people_male_df DataFrames\".format(people_female_df.count(), people_male_df.count()))"
      ]
    },
    {
      "cell_type": "markdown",
      "metadata": {
        "id": "pRcjJ0i4GHrq"
      },
      "source": [
        "## Data Visualization in PySpark using DataFrames\n",
        "Plotting graphs using PySpark DataFrames is done using three methods:\n",
        "* `pyspark_dist_explore` library: `hist()`, `displot()` and `pandas_histogram()`\n",
        "* `toPandas()`\n",
        "* `HandySpark` library"
      ]
    },
    {
      "cell_type": "markdown",
      "metadata": {
        "id": "NFbBvOOpGHrr"
      },
      "source": [
        "## PySpark DataFrame visualization"
      ]
    },
    {
      "cell_type": "code",
      "execution_count": 23,
      "metadata": {
        "colab": {
          "base_uri": "https://localhost:8080/",
          "height": 466
        },
        "id": "gN20eigxGHrr",
        "outputId": "c7c91b62-c15a-4a94-a8cf-497ad7b7ef73"
      },
      "outputs": [
        {
          "output_type": "stream",
          "name": "stdout",
          "text": [
            "The column names of names_df are ['Name', 'Age']\n"
          ]
        },
        {
          "output_type": "execute_result",
          "data": {
            "text/plain": [
              "<Axes: ylabel='Name'>"
            ]
          },
          "metadata": {},
          "execution_count": 23
        },
        {
          "output_type": "display_data",
          "data": {
            "text/plain": [
              "<Figure size 640x480 with 1 Axes>"
            ],
            "image/png": "[encoded data removed]"
          },
          "metadata": {}
        }
      ],
      "source": [
        "# Check the column names of names_df\n",
        "print(\"The column names of names_df are\", names_df.columns)\n",
        "\n",
        "# Convert to Pandas DataFrame\n",
        "df_pandas = names_df.toPandas()\n",
        "\n",
        "# Create a horizontal bar plot\n",
        "df_pandas.plot(kind='barh', x='Name', y='Age', colormap='winter_r')\n",
        "# plot.show()"
      ]
    }
  ],
  "metadata": {
    "kernelspec": {
      "display_name": "Python 3",
      "language": "python",
      "name": "python3"
    },
    "language_info": {
      "codemirror_mode": {
        "name": "ipython",
        "version": 3
      },
      "file_extension": ".py",
      "mimetype": "text/x-python",
      "name": "python",
      "nbconvert_exporter": "python",
      "pygments_lexer": "ipython3",
      "version": "3.7.6"
    },
    "colab": {
      "provenance": []
    }
  },
  "nbformat": 4,
  "nbformat_minor": 0
}